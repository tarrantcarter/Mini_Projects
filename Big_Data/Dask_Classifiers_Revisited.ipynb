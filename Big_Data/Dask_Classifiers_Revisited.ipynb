{
  "nbformat": 4,
  "nbformat_minor": 0,
  "metadata": {
    "kernelspec": {
      "display_name": "Python 3",
      "language": "python",
      "name": "python3"
    },
    "language_info": {
      "codemirror_mode": {
        "name": "ipython",
        "version": 3
      },
      "file_extension": ".py",
      "mimetype": "text/x-python",
      "name": "python",
      "nbconvert_exporter": "python",
      "pygments_lexer": "ipython3",
      "version": "3.7.0"
    },
    "colab": {
      "name": "Dask_Classifiers_Revisited.ipynb",
      "provenance": [],
      "collapsed_sections": [],
      "machine_shape": "hm"
    }
  },
  "cells": [
    {
      "cell_type": "markdown",
      "metadata": {
        "id": "dSoIEkGEtESB"
      },
      "source": [
        "## Day 35 Lecture 2 Assignment\n",
        "\n",
        "In this assignment, we will combine what we have learned so far about classification algorithms this week."
      ]
    },
    {
      "cell_type": "code",
      "metadata": {
        "id": "ktnQDc19KABW"
      },
      "source": [
        "!pip install dask[dataframe] --upgrade --quiet\n",
        "!pip install dask-ml[complete] --quiet\n",
        "!pip install aiohttp --quiet\n",
        "!pip install joblib --quiet\n",
        "!pip install dask distributed --upgrade --quiet\n",
        "!pip install scikit-learn==0.23.2 --quiet"
      ],
      "execution_count": 1,
      "outputs": []
    },
    {
      "cell_type": "code",
      "metadata": {
        "id": "-5YT-oMVtESC"
      },
      "source": [
        "import dask.dataframe as dd\n",
        "import dask.array as da\n",
        "from dask.distributed import Client, progress\n",
        "from sklearn.ensemble import RandomForestClassifier, GradientBoostingClassifier\n",
        "from sklearn.linear_model import LogisticRegression\n",
        "from sklearn.model_selection import cross_validate, GridSearchCV\n",
        "from sklearn.metrics import roc_auc_score\n",
        "import joblib\n",
        "from dask_ml.model_selection import train_test_split\n",
        "from xgboost import XGBClassifier\n",
        "from sklearn.svm import SVC\n",
        "from sklearn.metrics import confusion_matrix, precision_score, recall_score\n",
        "from sklearn.ensemble import GradientBoostingClassifier\n",
        "from sklearn.model_selection import GridSearchCV\n",
        "from datetime import datetime\n",
        "import numpy as np\n",
        "\n",
        "import matplotlib.pyplot as plt\n",
        "\n",
        "%matplotlib inline"
      ],
      "execution_count": 2,
      "outputs": []
    },
    {
      "cell_type": "code",
      "metadata": {
        "colab": {
          "base_uri": "https://localhost:8080/",
          "height": 118
        },
        "id": "tBRPSnKMQYkp",
        "outputId": "33eade1d-b0f9-4271-9e74-aef3344303bf"
      },
      "source": [
        "client = Client(n_workers=6, threads_per_worker=12, memory_limit='4GB')\n",
        "client"
      ],
      "execution_count": 3,
      "outputs": [
        {
          "output_type": "execute_result",
          "data": {
            "text/html": [
              "<table style=\"border: 2px solid white;\">\n",
              "<tr>\n",
              "<td style=\"vertical-align: top; border: 0px solid white\">\n",
              "<h3 style=\"text-align: left;\">Client</h3>\n",
              "<ul style=\"text-align: left; list-style: none; margin: 0; padding: 0;\">\n",
              "  <li><b>Scheduler: </b>tcp://127.0.0.1:44425</li>\n",
              "  <li><b>Dashboard: </b><a href='http://127.0.0.1:8787/status' target='_blank'>http://127.0.0.1:8787/status</a></li>\n",
              "</ul>\n",
              "</td>\n",
              "<td style=\"vertical-align: top; border: 0px solid white\">\n",
              "<h3 style=\"text-align: left;\">Cluster</h3>\n",
              "<ul style=\"text-align: left; list-style:none; margin: 0; padding: 0;\">\n",
              "  <li><b>Workers: </b>6</li>\n",
              "  <li><b>Cores: </b>72</li>\n",
              "  <li><b>Memory: </b>24.00 GB</li>\n",
              "</ul>\n",
              "</td>\n",
              "</tr>\n",
              "</table>"
            ],
            "text/plain": [
              "<Client: 'tcp://127.0.0.1:44425' processes=6 threads=72, memory=24.00 GB>"
            ]
          },
          "metadata": {
            "tags": []
          },
          "execution_count": 3
        }
      ]
    },
    {
      "cell_type": "code",
      "metadata": {
        "id": "B_y2kppttESD"
      },
      "source": [
        "admission = dd.read_csv('https://tf-assets-prod.s3.amazonaws.com/tf-curric/data-science/Admission_Predict.csv')"
      ],
      "execution_count": 4,
      "outputs": []
    },
    {
      "cell_type": "code",
      "metadata": {
        "id": "gz4Ocl5wtESF",
        "colab": {
          "base_uri": "https://localhost:8080/",
          "height": 204
        },
        "outputId": "a5b4d528-83e9-46f6-90e5-a3b61609680d"
      },
      "source": [
        "admission.head()"
      ],
      "execution_count": 5,
      "outputs": [
        {
          "output_type": "execute_result",
          "data": {
            "text/html": [
              "<div>\n",
              "<style scoped>\n",
              "    .dataframe tbody tr th:only-of-type {\n",
              "        vertical-align: middle;\n",
              "    }\n",
              "\n",
              "    .dataframe tbody tr th {\n",
              "        vertical-align: top;\n",
              "    }\n",
              "\n",
              "    .dataframe thead th {\n",
              "        text-align: right;\n",
              "    }\n",
              "</style>\n",
              "<table border=\"1\" class=\"dataframe\">\n",
              "  <thead>\n",
              "    <tr style=\"text-align: right;\">\n",
              "      <th></th>\n",
              "      <th>Serial No.</th>\n",
              "      <th>GRE Score</th>\n",
              "      <th>TOEFL Score</th>\n",
              "      <th>University Rating</th>\n",
              "      <th>SOP</th>\n",
              "      <th>LOR</th>\n",
              "      <th>CGPA</th>\n",
              "      <th>Research</th>\n",
              "      <th>Chance of Admit</th>\n",
              "    </tr>\n",
              "  </thead>\n",
              "  <tbody>\n",
              "    <tr>\n",
              "      <th>0</th>\n",
              "      <td>1</td>\n",
              "      <td>337</td>\n",
              "      <td>118</td>\n",
              "      <td>4</td>\n",
              "      <td>4.5</td>\n",
              "      <td>4.5</td>\n",
              "      <td>9.65</td>\n",
              "      <td>1</td>\n",
              "      <td>0.92</td>\n",
              "    </tr>\n",
              "    <tr>\n",
              "      <th>1</th>\n",
              "      <td>2</td>\n",
              "      <td>324</td>\n",
              "      <td>107</td>\n",
              "      <td>4</td>\n",
              "      <td>4.0</td>\n",
              "      <td>4.5</td>\n",
              "      <td>8.87</td>\n",
              "      <td>1</td>\n",
              "      <td>0.76</td>\n",
              "    </tr>\n",
              "    <tr>\n",
              "      <th>2</th>\n",
              "      <td>3</td>\n",
              "      <td>316</td>\n",
              "      <td>104</td>\n",
              "      <td>3</td>\n",
              "      <td>3.0</td>\n",
              "      <td>3.5</td>\n",
              "      <td>8.00</td>\n",
              "      <td>1</td>\n",
              "      <td>0.72</td>\n",
              "    </tr>\n",
              "    <tr>\n",
              "      <th>3</th>\n",
              "      <td>4</td>\n",
              "      <td>322</td>\n",
              "      <td>110</td>\n",
              "      <td>3</td>\n",
              "      <td>3.5</td>\n",
              "      <td>2.5</td>\n",
              "      <td>8.67</td>\n",
              "      <td>1</td>\n",
              "      <td>0.80</td>\n",
              "    </tr>\n",
              "    <tr>\n",
              "      <th>4</th>\n",
              "      <td>5</td>\n",
              "      <td>314</td>\n",
              "      <td>103</td>\n",
              "      <td>2</td>\n",
              "      <td>2.0</td>\n",
              "      <td>3.0</td>\n",
              "      <td>8.21</td>\n",
              "      <td>0</td>\n",
              "      <td>0.65</td>\n",
              "    </tr>\n",
              "  </tbody>\n",
              "</table>\n",
              "</div>"
            ],
            "text/plain": [
              "   Serial No.  GRE Score  TOEFL Score  ...  CGPA  Research  Chance of Admit \n",
              "0           1        337          118  ...  9.65         1              0.92\n",
              "1           2        324          107  ...  8.87         1              0.76\n",
              "2           3        316          104  ...  8.00         1              0.72\n",
              "3           4        322          110  ...  8.67         1              0.80\n",
              "4           5        314          103  ...  8.21         0              0.65\n",
              "\n",
              "[5 rows x 9 columns]"
            ]
          },
          "metadata": {
            "tags": []
          },
          "execution_count": 5
        }
      ]
    },
    {
      "cell_type": "markdown",
      "metadata": {
        "id": "jcRQ0iIQtESH"
      },
      "source": [
        "In this assignment, we will predict the probability of a student being admitted to a PhD program given their stats. To make the predictions, find the median for the Chance of Admit column. Create an admit column where all probabilities above the median will receive a 1 for that column and all probabilities below the median will be a zero.\n",
        "\n",
        "Below you will process and clean the data, try the SVM classifier, the gradient boosted decision tree classifier and XGBoost, and compare your results.\n",
        "\n",
        "Have fun!"
      ]
    },
    {
      "cell_type": "code",
      "metadata": {
        "id": "BccfFh0JtESH",
        "colab": {
          "base_uri": "https://localhost:8080/",
          "height": 297
        },
        "outputId": "ac467417-d4d3-4957-8762-7341fc6512b2"
      },
      "source": [
        "# Answer below:\n",
        "admission.describe().compute()"
      ],
      "execution_count": 6,
      "outputs": [
        {
          "output_type": "execute_result",
          "data": {
            "text/html": [
              "<div>\n",
              "<style scoped>\n",
              "    .dataframe tbody tr th:only-of-type {\n",
              "        vertical-align: middle;\n",
              "    }\n",
              "\n",
              "    .dataframe tbody tr th {\n",
              "        vertical-align: top;\n",
              "    }\n",
              "\n",
              "    .dataframe thead th {\n",
              "        text-align: right;\n",
              "    }\n",
              "</style>\n",
              "<table border=\"1\" class=\"dataframe\">\n",
              "  <thead>\n",
              "    <tr style=\"text-align: right;\">\n",
              "      <th></th>\n",
              "      <th>Serial No.</th>\n",
              "      <th>GRE Score</th>\n",
              "      <th>TOEFL Score</th>\n",
              "      <th>University Rating</th>\n",
              "      <th>SOP</th>\n",
              "      <th>LOR</th>\n",
              "      <th>CGPA</th>\n",
              "      <th>Research</th>\n",
              "      <th>Chance of Admit</th>\n",
              "    </tr>\n",
              "  </thead>\n",
              "  <tbody>\n",
              "    <tr>\n",
              "      <th>count</th>\n",
              "      <td>400.000000</td>\n",
              "      <td>400.000000</td>\n",
              "      <td>400.000000</td>\n",
              "      <td>400.000000</td>\n",
              "      <td>400.000000</td>\n",
              "      <td>400.000000</td>\n",
              "      <td>400.000000</td>\n",
              "      <td>400.000000</td>\n",
              "      <td>400.000000</td>\n",
              "    </tr>\n",
              "    <tr>\n",
              "      <th>mean</th>\n",
              "      <td>200.500000</td>\n",
              "      <td>316.807500</td>\n",
              "      <td>107.410000</td>\n",
              "      <td>3.087500</td>\n",
              "      <td>3.400000</td>\n",
              "      <td>3.452500</td>\n",
              "      <td>8.598925</td>\n",
              "      <td>0.547500</td>\n",
              "      <td>0.724350</td>\n",
              "    </tr>\n",
              "    <tr>\n",
              "      <th>std</th>\n",
              "      <td>115.614301</td>\n",
              "      <td>11.473646</td>\n",
              "      <td>6.069514</td>\n",
              "      <td>1.143728</td>\n",
              "      <td>1.006869</td>\n",
              "      <td>0.898478</td>\n",
              "      <td>0.596317</td>\n",
              "      <td>0.498362</td>\n",
              "      <td>0.142609</td>\n",
              "    </tr>\n",
              "    <tr>\n",
              "      <th>min</th>\n",
              "      <td>1.000000</td>\n",
              "      <td>290.000000</td>\n",
              "      <td>92.000000</td>\n",
              "      <td>1.000000</td>\n",
              "      <td>1.000000</td>\n",
              "      <td>1.000000</td>\n",
              "      <td>6.800000</td>\n",
              "      <td>0.000000</td>\n",
              "      <td>0.340000</td>\n",
              "    </tr>\n",
              "    <tr>\n",
              "      <th>25%</th>\n",
              "      <td>100.750000</td>\n",
              "      <td>308.000000</td>\n",
              "      <td>103.000000</td>\n",
              "      <td>2.000000</td>\n",
              "      <td>2.500000</td>\n",
              "      <td>3.000000</td>\n",
              "      <td>8.170000</td>\n",
              "      <td>0.000000</td>\n",
              "      <td>0.640000</td>\n",
              "    </tr>\n",
              "    <tr>\n",
              "      <th>50%</th>\n",
              "      <td>200.500000</td>\n",
              "      <td>317.000000</td>\n",
              "      <td>107.000000</td>\n",
              "      <td>3.000000</td>\n",
              "      <td>3.500000</td>\n",
              "      <td>3.500000</td>\n",
              "      <td>8.610000</td>\n",
              "      <td>1.000000</td>\n",
              "      <td>0.730000</td>\n",
              "    </tr>\n",
              "    <tr>\n",
              "      <th>75%</th>\n",
              "      <td>300.250000</td>\n",
              "      <td>325.000000</td>\n",
              "      <td>112.000000</td>\n",
              "      <td>4.000000</td>\n",
              "      <td>4.000000</td>\n",
              "      <td>4.000000</td>\n",
              "      <td>9.062500</td>\n",
              "      <td>1.000000</td>\n",
              "      <td>0.830000</td>\n",
              "    </tr>\n",
              "    <tr>\n",
              "      <th>max</th>\n",
              "      <td>400.000000</td>\n",
              "      <td>340.000000</td>\n",
              "      <td>120.000000</td>\n",
              "      <td>5.000000</td>\n",
              "      <td>5.000000</td>\n",
              "      <td>5.000000</td>\n",
              "      <td>9.920000</td>\n",
              "      <td>1.000000</td>\n",
              "      <td>0.970000</td>\n",
              "    </tr>\n",
              "  </tbody>\n",
              "</table>\n",
              "</div>"
            ],
            "text/plain": [
              "       Serial No.   GRE Score  ...    Research  Chance of Admit \n",
              "count  400.000000  400.000000  ...  400.000000        400.000000\n",
              "mean   200.500000  316.807500  ...    0.547500          0.724350\n",
              "std    115.614301   11.473646  ...    0.498362          0.142609\n",
              "min      1.000000  290.000000  ...    0.000000          0.340000\n",
              "25%    100.750000  308.000000  ...    0.000000          0.640000\n",
              "50%    200.500000  317.000000  ...    1.000000          0.730000\n",
              "75%    300.250000  325.000000  ...    1.000000          0.830000\n",
              "max    400.000000  340.000000  ...    1.000000          0.970000\n",
              "\n",
              "[8 rows x 9 columns]"
            ]
          },
          "metadata": {
            "tags": []
          },
          "execution_count": 6
        }
      ]
    },
    {
      "cell_type": "code",
      "metadata": {
        "id": "qXhVi4_Snk8N",
        "colab": {
          "base_uri": "https://localhost:8080/"
        },
        "outputId": "39bdf768-1737-4585-91d0-589ae653fc45"
      },
      "source": [
        "admission.columns"
      ],
      "execution_count": 7,
      "outputs": [
        {
          "output_type": "execute_result",
          "data": {
            "text/plain": [
              "Index(['Serial No.', 'GRE Score', 'TOEFL Score', 'University Rating', 'SOP',\n",
              "       'LOR ', 'CGPA', 'Research', 'Chance of Admit '],\n",
              "      dtype='object')"
            ]
          },
          "metadata": {
            "tags": []
          },
          "execution_count": 7
        }
      ]
    },
    {
      "cell_type": "code",
      "metadata": {
        "id": "7CIQePKqnRAp",
        "colab": {
          "base_uri": "https://localhost:8080/"
        },
        "outputId": "789b04bf-86fd-4da8-ea1a-ff1b2538a192"
      },
      "source": [
        "new_columns = ['Serial No.', 'GRE Score', 'TOEFL Score', 'University Rating', 'SOP',\n",
        "       'LOR', 'CGPA', 'Research', 'Chance of Admit']\n",
        "\n",
        "admission.columns = new_columns\n",
        "\n",
        "admission.columns"
      ],
      "execution_count": 8,
      "outputs": [
        {
          "output_type": "execute_result",
          "data": {
            "text/plain": [
              "Index(['Serial No.', 'GRE Score', 'TOEFL Score', 'University Rating', 'SOP',\n",
              "       'LOR', 'CGPA', 'Research', 'Chance of Admit'],\n",
              "      dtype='object')"
            ]
          },
          "metadata": {
            "tags": []
          },
          "execution_count": 8
        }
      ]
    },
    {
      "cell_type": "code",
      "metadata": {
        "id": "UAzEhfjNpfJs"
      },
      "source": [
        "median = admission['Chance of Admit'].compute().median()"
      ],
      "execution_count": 9,
      "outputs": []
    },
    {
      "cell_type": "code",
      "metadata": {
        "id": "ZMmyv1nepwSV",
        "colab": {
          "base_uri": "https://localhost:8080/"
        },
        "outputId": "b9798ab3-4790-4050-8264-eb819708b3e2"
      },
      "source": [
        "#admission['Chance of Admit'] = np.where(admission['Chance of Admit'] >= 0.73,1,0) ### np way\n",
        "\n",
        "admission['Chance of Admit'] = admission['Chance of Admit'].map(lambda x: 1 if x >= median else 0)\n",
        "admission['Chance of Admit'].value_counts().compute()"
      ],
      "execution_count": 10,
      "outputs": [
        {
          "output_type": "execute_result",
          "data": {
            "text/plain": [
              "1    204\n",
              "0    196\n",
              "Name: Chance of Admit, dtype: int64"
            ]
          },
          "metadata": {
            "tags": []
          },
          "execution_count": 10
        }
      ]
    },
    {
      "cell_type": "code",
      "metadata": {
        "id": "3-pDUIFYqMZ_"
      },
      "source": [
        "X = admission.drop(columns='Chance of Admit')\n",
        "y = admission['Chance of Admit']\n",
        "\n",
        "X_train, X_test, y_train, y_test = train_test_split(X, y, test_size=0.2, shuffle=True)"
      ],
      "execution_count": 11,
      "outputs": []
    },
    {
      "cell_type": "code",
      "metadata": {
        "id": "Ulz7N3F8rMcU",
        "colab": {
          "base_uri": "https://localhost:8080/"
        },
        "outputId": "98db60d9-7539-4b86-8043-5ecd2b1cb545"
      },
      "source": [
        "#svm model\n",
        "start_time = datetime.now()\n",
        "\n",
        "svc = SVC(kernel='linear',C=5)\n",
        "\n",
        "with joblib.parallel_backend('dask'):\n",
        "  svc.fit(X_train.compute(), y_train.compute())\n",
        "\n",
        "end_time = datetime.now()\n",
        "\n",
        "print(\"Train score: \",svc.score(X_train.compute(), y_train.compute()))\n",
        "print(\"Test score: \",svc.score(X_test.compute(), y_test.compute()))\n",
        "print('Duration: {}'.format(end_time - start_time))"
      ],
      "execution_count": 12,
      "outputs": [
        {
          "output_type": "stream",
          "text": [
            "Train score:  0.8821752265861027\n",
            "Test score:  0.8695652173913043\n",
            "Duration: 0:00:02.023778\n"
          ],
          "name": "stdout"
        }
      ]
    },
    {
      "cell_type": "code",
      "metadata": {
        "id": "3pwlj4Hmvyx2",
        "colab": {
          "base_uri": "https://localhost:8080/"
        },
        "outputId": "6522ba23-62a9-4c50-ccd4-e829f4135528"
      },
      "source": [
        "start_time = datetime.now()\n",
        "param_grid = {'kernel': ['linear','rbf','poly'], 'C':np.arange(1,100,3)}\n",
        "\n",
        "svc = SVC()\n",
        "\n",
        "svc_grid = GridSearchCV(svc, \n",
        "                        param_grid=param_grid, \n",
        "                        scoring='accuracy', \n",
        "                        return_train_score=True, \n",
        "                        cv=3)\n",
        "\n",
        "with joblib.parallel_backend('dask'):\n",
        "  svc_grid.fit(X_train.compute(), y_train.compute())\n",
        "\n",
        "end_time = datetime.now()\n",
        "print('Duration: {}'.format(end_time - start_time))"
      ],
      "execution_count": 13,
      "outputs": [
        {
          "output_type": "stream",
          "text": [
            "Duration: 0:03:27.832104\n"
          ],
          "name": "stdout"
        }
      ]
    },
    {
      "cell_type": "code",
      "metadata": {
        "id": "Tk0Q4sNQwUgX",
        "colab": {
          "base_uri": "https://localhost:8080/"
        },
        "outputId": "6d4cea4a-0c8c-42e4-df7c-d59042c5e6d3"
      },
      "source": [
        "print(\"Best kernal SVC hyperparameter: \",svc_grid.best_estimator_.kernel)\n",
        "print(\"Best C SVC hyperparameter: \",svc_grid.best_estimator_.C)\n",
        "print('------------------------------------------------')\n",
        "print(\"Best Hyperparameters SVC Train score: \",svc_grid.score(X_train.compute(), y_train.compute()))\n",
        "print(\"Best Hyperparameters SVC Test score: \",svc_grid.score(X_test.compute(), y_test.compute()))"
      ],
      "execution_count": 14,
      "outputs": [
        {
          "output_type": "stream",
          "text": [
            "Best kernal SVC hyperparameter:  linear\n",
            "Best C SVC hyperparameter:  73\n",
            "------------------------------------------------\n",
            "Best Hyperparameters SVC Train score:  0.8761329305135952\n",
            "Best Hyperparameters SVC Test score:  0.8840579710144928\n"
          ],
          "name": "stdout"
        }
      ]
    },
    {
      "cell_type": "code",
      "metadata": {
        "id": "NbcE8KWUrUub",
        "colab": {
          "base_uri": "https://localhost:8080/"
        },
        "outputId": "89585f43-4d44-4a32-952f-813b1ef8e96d"
      },
      "source": [
        "start_time = datetime.now()\n",
        "gbc = GradientBoostingClassifier()\n",
        "\n",
        "with joblib.parallel_backend('dask'):\n",
        "  gbc.fit(X_train.compute(), y_train.compute())\n",
        "  \n",
        "end_time = datetime.now()\n",
        "\n",
        "print(\"Train score: \",gbc.score(X_train.compute(), y_train.compute()))\n",
        "print(\"Test score: \",gbc.score(X_test.compute(), y_test.compute()))\n",
        "print('Duration: {}'.format(end_time - start_time))"
      ],
      "execution_count": 15,
      "outputs": [
        {
          "output_type": "stream",
          "text": [
            "Train score:  0.9879154078549849\n",
            "Test score:  0.855072463768116\n",
            "Duration: 0:00:00.339989\n"
          ],
          "name": "stdout"
        }
      ]
    },
    {
      "cell_type": "code",
      "metadata": {
        "id": "f9tT17QpwHmT",
        "colab": {
          "base_uri": "https://localhost:8080/"
        },
        "outputId": "35f82cba-b84f-4e4c-da81-78553212148a"
      },
      "source": [
        "start_time = datetime.now()\n",
        "param_grid = {'learning_rate': np.arange(.01,.3,.01),'n_iter_no_change': [10],'n_estimators':[1000], 'max_depth': [2,3,], \n",
        "              'max_features': ['sqrt',.75,1]}\n",
        "\n",
        "gbc = GradientBoostingClassifier()\n",
        "\n",
        "gbc_grid = GridSearchCV(gbc, \n",
        "                        param_grid=param_grid, \n",
        "                        scoring='accuracy', \n",
        "                        return_train_score=True, \n",
        "                        cv=5)\n",
        "\n",
        "with joblib.parallel_backend('dask'):\n",
        "  gbc_grid.fit(X_train.compute(), y_train.compute())\n",
        "  \n",
        "end_time = datetime.now()\n",
        "print('Duration: {}'.format(end_time - start_time))"
      ],
      "execution_count": 16,
      "outputs": [
        {
          "output_type": "stream",
          "text": [
            "Duration: 0:00:27.177963\n"
          ],
          "name": "stdout"
        }
      ]
    },
    {
      "cell_type": "code",
      "metadata": {
        "id": "GUCVLWb1wqiu",
        "colab": {
          "base_uri": "https://localhost:8080/"
        },
        "outputId": "03e4f2ba-d133-454c-9837-0e7223071fbd"
      },
      "source": [
        "print(\"Best learning rate GBC hyperparameter: \",gbc_grid.best_estimator_.learning_rate)\n",
        "print(\"Best max depth GBC hyperparameter: \",gbc_grid.best_estimator_.max_depth)\n",
        "print(\"Best max features GBC hyperparameter: \",gbc_grid.best_estimator_.max_features)\n",
        "print('------------------------------------------------')\n",
        "print(\"Best Hyperparameters GBC Train score: \",gbc_grid.score(X_train, y_train))\n",
        "print(\"Best Hyperparameters GBC Test score: \",gbc_grid.score(X_test, y_test))"
      ],
      "execution_count": 17,
      "outputs": [
        {
          "output_type": "stream",
          "text": [
            "Best learning rate GBC hyperparameter:  0.06999999999999999\n",
            "Best max depth GBC hyperparameter:  2\n",
            "Best max features GBC hyperparameter:  sqrt\n",
            "------------------------------------------------\n",
            "Best Hyperparameters GBC Train score:  0.8972809667673716\n",
            "Best Hyperparameters GBC Test score:  0.855072463768116\n"
          ],
          "name": "stdout"
        }
      ]
    },
    {
      "cell_type": "code",
      "metadata": {
        "id": "C0mnOxgosNLN",
        "colab": {
          "base_uri": "https://localhost:8080/"
        },
        "outputId": "597bdd9f-c254-42fa-a96e-8571a71e1a4c"
      },
      "source": [
        "start_time = datetime.now()\n",
        "\n",
        "xgb = XGBClassifier()\n",
        "\n",
        "with joblib.parallel_backend('dask'):\n",
        "  xgb.fit(X_train.compute(), y_train.compute())\n",
        "\n",
        "end_time = datetime.now()\n",
        "\n",
        "print(\"Train score: \",xgb.score(X_train.compute(), y_train.compute()))\n",
        "print(\"Test score: \",xgb.score(X_test.compute(), y_test.compute()))\n",
        "print('Duration: {}'.format(end_time - start_time))"
      ],
      "execution_count": 18,
      "outputs": [
        {
          "output_type": "stream",
          "text": [
            "Train score:  0.9788519637462235\n",
            "Test score:  0.855072463768116\n",
            "Duration: 0:00:00.292008\n"
          ],
          "name": "stdout"
        }
      ]
    },
    {
      "cell_type": "code",
      "metadata": {
        "id": "09stHzGEzgub",
        "colab": {
          "base_uri": "https://localhost:8080/"
        },
        "outputId": "71b897e7-5130-4142-c846-cf1f76a64911"
      },
      "source": [
        "start_time = datetime.now()\n",
        "param_grid = {'subsample': [.5,.75,1], \n",
        "              'learning_rate': np.arange(.01,.1,.01), \n",
        "              'max_depth': np.arange(3,10,1), \n",
        "              'lambda': [.5,.7,.9,1],\n",
        "              }\n",
        "\n",
        "xgb = XGBClassifier()\n",
        "\n",
        "xgb_grid = GridSearchCV(xgb, \n",
        "                        param_grid=param_grid, \n",
        "                        scoring='accuracy', \n",
        "                        return_train_score=True, \n",
        "                        cv=3)\n",
        "\n",
        "with joblib.parallel_backend('dask'):\n",
        "  xgb_grid.fit(X_train.compute(), y_train.compute())\n",
        "\n",
        "end_time = datetime.now()\n",
        "print('Duration: {}'.format(end_time - start_time))"
      ],
      "execution_count": 19,
      "outputs": [
        {
          "output_type": "stream",
          "text": [
            "Duration: 0:00:40.464569\n"
          ],
          "name": "stdout"
        }
      ]
    },
    {
      "cell_type": "code",
      "metadata": {
        "id": "HpAgUO5xzjHm",
        "colab": {
          "base_uri": "https://localhost:8080/"
        },
        "outputId": "1d13f32f-e2d3-49c8-e7b1-aad6f166c175"
      },
      "source": [
        "print(\"Best sub sample XGBoost hyperparameter: \",xgb_grid.best_estimator_.subsample)\n",
        "print(\"Best learning rate XGBoost hyperparameter: \",xgb_grid.best_estimator_.learning_rate)\n",
        "print(\"Best max depth XGBoost hyperparameter: \",xgb_grid.best_estimator_.max_depth)\n",
        "print(\"Best Lamda XGBoost hyperparameter: \",xgb_grid.best_estimator_.reg_lambda)\n",
        "print('------------------------------------------------')\n",
        "print(\"Best Hyperparameters XGBoost Train score: \",xgb_grid.score(X_train.compute(), y_train.compute()))\n",
        "print(\"Best Hyperparameters XGBoost Test score: \",xgb_grid.score(X_test.compute(), y_test.compute()))\n"
      ],
      "execution_count": 20,
      "outputs": [
        {
          "output_type": "stream",
          "text": [
            "Best sub sample XGBoost hyperparameter:  0.5\n",
            "Best learning rate XGBoost hyperparameter:  0.09\n",
            "Best max depth XGBoost hyperparameter:  3\n",
            "Best Lamda XGBoost hyperparameter:  1\n",
            "------------------------------------------------\n",
            "Best Hyperparameters XGBoost Train score:  0.9516616314199395\n",
            "Best Hyperparameters XGBoost Test score:  0.855072463768116\n"
          ],
          "name": "stdout"
        }
      ]
    },
    {
      "cell_type": "markdown",
      "metadata": {
        "id": "2S_tjROWponG"
      },
      "source": [
        "The SVC model had the best optimized test accuray of any model. It also did the least overfitting. The XGBoost model overfit the most and had the lowest test score. "
      ]
    }
  ]
}