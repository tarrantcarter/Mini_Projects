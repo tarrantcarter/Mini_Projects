{
  "nbformat": 4,
  "nbformat_minor": 0,
  "metadata": {
    "colab": {
      "name": "Dask_DataFrames.ipynb",
      "provenance": [],
      "collapsed_sections": []
    },
    "kernelspec": {
      "name": "python3",
      "display_name": "Python 3"
    }
  },
  "cells": [
    {
      "cell_type": "code",
      "metadata": {
        "id": "ffgek-3z0bhN"
      },
      "source": [
        "!pip install dask[complete] --upgrade --quiet\n",
        "!pip install aiohttp --quiet"
      ],
      "execution_count": 1,
      "outputs": []
    },
    {
      "cell_type": "code",
      "metadata": {
        "id": "sm0CroyH04Hg"
      },
      "source": [
        ""
      ],
      "execution_count": 1,
      "outputs": []
    },
    {
      "cell_type": "code",
      "metadata": {
        "id": "ZZ2lI8DF0nVi"
      },
      "source": [
        "import pandas as pd\n",
        "import numpy as np\n",
        "import dask.dataframe as dd\n",
        "from dask.distributed import Client, progress"
      ],
      "execution_count": 2,
      "outputs": []
    },
    {
      "cell_type": "code",
      "metadata": {
        "colab": {
          "base_uri": "https://localhost:8080/",
          "height": 118
        },
        "id": "4xqmq7sU0s1O",
        "outputId": "2e668c74-d78d-4228-8027-e3d5c9e8898f"
      },
      "source": [
        "client = Client(n_workers=4, threads_per_worker=2, memory_limit='2GB')\n",
        "client"
      ],
      "execution_count": 3,
      "outputs": [
        {
          "output_type": "execute_result",
          "data": {
            "text/html": [
              "<table style=\"border: 2px solid white;\">\n",
              "<tr>\n",
              "<td style=\"vertical-align: top; border: 0px solid white\">\n",
              "<h3 style=\"text-align: left;\">Client</h3>\n",
              "<ul style=\"text-align: left; list-style: none; margin: 0; padding: 0;\">\n",
              "  <li><b>Scheduler: </b>tcp://127.0.0.1:35857</li>\n",
              "  <li><b>Dashboard: </b><a href='http://127.0.0.1:8787/status' target='_blank'>http://127.0.0.1:8787/status</a></li>\n",
              "</ul>\n",
              "</td>\n",
              "<td style=\"vertical-align: top; border: 0px solid white\">\n",
              "<h3 style=\"text-align: left;\">Cluster</h3>\n",
              "<ul style=\"text-align: left; list-style:none; margin: 0; padding: 0;\">\n",
              "  <li><b>Workers: </b>4</li>\n",
              "  <li><b>Cores: </b>8</li>\n",
              "  <li><b>Memory: </b>8.00 GB</li>\n",
              "</ul>\n",
              "</td>\n",
              "</tr>\n",
              "</table>"
            ],
            "text/plain": [
              "<Client: 'tcp://127.0.0.1:35857' processes=4 threads=8, memory=8.00 GB>"
            ]
          },
          "metadata": {
            "tags": []
          },
          "execution_count": 3
        }
      ]
    },
    {
      "cell_type": "code",
      "metadata": {
        "id": "XD_DGL8Z0zwx"
      },
      "source": [
        "df = dd.read_csv('https://tf-assets-prod.s3.amazonaws.com/tf-curric/data-science/creditcard.csv', dtype={'Time': 'float64'})"
      ],
      "execution_count": 4,
      "outputs": []
    },
    {
      "cell_type": "code",
      "metadata": {
        "colab": {
          "base_uri": "https://localhost:8080/",
          "height": 317
        },
        "id": "4XtkPCfb0-5w",
        "outputId": "5c443934-4e0e-4c7a-ec72-18fc5d247070"
      },
      "source": [
        "df.describe().compute()"
      ],
      "execution_count": 5,
      "outputs": [
        {
          "output_type": "execute_result",
          "data": {
            "text/html": [
              "<div>\n",
              "<style scoped>\n",
              "    .dataframe tbody tr th:only-of-type {\n",
              "        vertical-align: middle;\n",
              "    }\n",
              "\n",
              "    .dataframe tbody tr th {\n",
              "        vertical-align: top;\n",
              "    }\n",
              "\n",
              "    .dataframe thead th {\n",
              "        text-align: right;\n",
              "    }\n",
              "</style>\n",
              "<table border=\"1\" class=\"dataframe\">\n",
              "  <thead>\n",
              "    <tr style=\"text-align: right;\">\n",
              "      <th></th>\n",
              "      <th>Time</th>\n",
              "      <th>V1</th>\n",
              "      <th>V2</th>\n",
              "      <th>V3</th>\n",
              "      <th>V4</th>\n",
              "      <th>V5</th>\n",
              "      <th>V6</th>\n",
              "      <th>V7</th>\n",
              "      <th>V8</th>\n",
              "      <th>V9</th>\n",
              "      <th>V10</th>\n",
              "      <th>V11</th>\n",
              "      <th>V12</th>\n",
              "      <th>V13</th>\n",
              "      <th>V14</th>\n",
              "      <th>V15</th>\n",
              "      <th>V16</th>\n",
              "      <th>V17</th>\n",
              "      <th>V18</th>\n",
              "      <th>V19</th>\n",
              "      <th>V20</th>\n",
              "      <th>V21</th>\n",
              "      <th>V22</th>\n",
              "      <th>V23</th>\n",
              "      <th>V24</th>\n",
              "      <th>V25</th>\n",
              "      <th>V26</th>\n",
              "      <th>V27</th>\n",
              "      <th>V28</th>\n",
              "      <th>Amount</th>\n",
              "      <th>Class</th>\n",
              "    </tr>\n",
              "  </thead>\n",
              "  <tbody>\n",
              "    <tr>\n",
              "      <th>count</th>\n",
              "      <td>284807.000000</td>\n",
              "      <td>2.848070e+05</td>\n",
              "      <td>2.848070e+05</td>\n",
              "      <td>2.848070e+05</td>\n",
              "      <td>2.848070e+05</td>\n",
              "      <td>2.848070e+05</td>\n",
              "      <td>2.848070e+05</td>\n",
              "      <td>2.848070e+05</td>\n",
              "      <td>2.848070e+05</td>\n",
              "      <td>2.848070e+05</td>\n",
              "      <td>2.848070e+05</td>\n",
              "      <td>2.848070e+05</td>\n",
              "      <td>2.848070e+05</td>\n",
              "      <td>2.848070e+05</td>\n",
              "      <td>2.848070e+05</td>\n",
              "      <td>2.848070e+05</td>\n",
              "      <td>2.848070e+05</td>\n",
              "      <td>2.848070e+05</td>\n",
              "      <td>2.848070e+05</td>\n",
              "      <td>2.848070e+05</td>\n",
              "      <td>2.848070e+05</td>\n",
              "      <td>2.848070e+05</td>\n",
              "      <td>2.848070e+05</td>\n",
              "      <td>2.848070e+05</td>\n",
              "      <td>2.848070e+05</td>\n",
              "      <td>2.848070e+05</td>\n",
              "      <td>2.848070e+05</td>\n",
              "      <td>2.848070e+05</td>\n",
              "      <td>2.848070e+05</td>\n",
              "      <td>284807.000000</td>\n",
              "      <td>284807.000000</td>\n",
              "    </tr>\n",
              "    <tr>\n",
              "      <th>mean</th>\n",
              "      <td>94813.859575</td>\n",
              "      <td>1.175161e-15</td>\n",
              "      <td>3.384974e-16</td>\n",
              "      <td>-1.341216e-15</td>\n",
              "      <td>2.088465e-15</td>\n",
              "      <td>9.707851e-16</td>\n",
              "      <td>1.494498e-15</td>\n",
              "      <td>-5.652268e-16</td>\n",
              "      <td>1.143626e-16</td>\n",
              "      <td>-2.409599e-15</td>\n",
              "      <td>2.236957e-15</td>\n",
              "      <td>1.679714e-15</td>\n",
              "      <td>-1.245415e-15</td>\n",
              "      <td>8.206966e-16</td>\n",
              "      <td>1.200708e-15</td>\n",
              "      <td>4.885859e-15</td>\n",
              "      <td>1.437017e-15</td>\n",
              "      <td>-3.784146e-16</td>\n",
              "      <td>9.596083e-16</td>\n",
              "      <td>1.037048e-15</td>\n",
              "      <td>6.402711e-16</td>\n",
              "      <td>1.640595e-16</td>\n",
              "      <td>-3.544643e-16</td>\n",
              "      <td>2.610582e-16</td>\n",
              "      <td>4.473116e-15</td>\n",
              "      <td>5.205196e-16</td>\n",
              "      <td>1.687298e-15</td>\n",
              "      <td>-3.666889e-16</td>\n",
              "      <td>-1.219469e-16</td>\n",
              "      <td>88.349619</td>\n",
              "      <td>0.001727</td>\n",
              "    </tr>\n",
              "    <tr>\n",
              "      <th>std</th>\n",
              "      <td>47488.145955</td>\n",
              "      <td>1.958696e+00</td>\n",
              "      <td>1.651309e+00</td>\n",
              "      <td>1.516255e+00</td>\n",
              "      <td>1.415869e+00</td>\n",
              "      <td>1.380247e+00</td>\n",
              "      <td>1.332271e+00</td>\n",
              "      <td>1.237094e+00</td>\n",
              "      <td>1.194353e+00</td>\n",
              "      <td>1.098632e+00</td>\n",
              "      <td>1.088850e+00</td>\n",
              "      <td>1.020713e+00</td>\n",
              "      <td>9.992014e-01</td>\n",
              "      <td>9.952742e-01</td>\n",
              "      <td>9.585956e-01</td>\n",
              "      <td>9.153160e-01</td>\n",
              "      <td>8.762529e-01</td>\n",
              "      <td>8.493371e-01</td>\n",
              "      <td>8.381762e-01</td>\n",
              "      <td>8.140405e-01</td>\n",
              "      <td>7.709250e-01</td>\n",
              "      <td>7.345240e-01</td>\n",
              "      <td>7.257016e-01</td>\n",
              "      <td>6.244603e-01</td>\n",
              "      <td>6.056471e-01</td>\n",
              "      <td>5.212781e-01</td>\n",
              "      <td>4.822270e-01</td>\n",
              "      <td>4.036325e-01</td>\n",
              "      <td>3.300833e-01</td>\n",
              "      <td>250.120109</td>\n",
              "      <td>0.041527</td>\n",
              "    </tr>\n",
              "    <tr>\n",
              "      <th>min</th>\n",
              "      <td>0.000000</td>\n",
              "      <td>-5.640751e+01</td>\n",
              "      <td>-7.271573e+01</td>\n",
              "      <td>-4.832559e+01</td>\n",
              "      <td>-5.683171e+00</td>\n",
              "      <td>-1.137433e+02</td>\n",
              "      <td>-2.616051e+01</td>\n",
              "      <td>-4.355724e+01</td>\n",
              "      <td>-7.321672e+01</td>\n",
              "      <td>-1.343407e+01</td>\n",
              "      <td>-2.458826e+01</td>\n",
              "      <td>-4.797473e+00</td>\n",
              "      <td>-1.868371e+01</td>\n",
              "      <td>-5.791881e+00</td>\n",
              "      <td>-1.921433e+01</td>\n",
              "      <td>-4.498945e+00</td>\n",
              "      <td>-1.412985e+01</td>\n",
              "      <td>-2.516280e+01</td>\n",
              "      <td>-9.498746e+00</td>\n",
              "      <td>-7.213527e+00</td>\n",
              "      <td>-5.449772e+01</td>\n",
              "      <td>-3.483038e+01</td>\n",
              "      <td>-1.093314e+01</td>\n",
              "      <td>-4.480774e+01</td>\n",
              "      <td>-2.836627e+00</td>\n",
              "      <td>-1.029540e+01</td>\n",
              "      <td>-2.604551e+00</td>\n",
              "      <td>-2.256568e+01</td>\n",
              "      <td>-1.543008e+01</td>\n",
              "      <td>0.000000</td>\n",
              "      <td>0.000000</td>\n",
              "    </tr>\n",
              "    <tr>\n",
              "      <th>25%</th>\n",
              "      <td>49346.000000</td>\n",
              "      <td>-7.868600e-01</td>\n",
              "      <td>-5.536365e-01</td>\n",
              "      <td>-7.156553e-01</td>\n",
              "      <td>-7.067841e-01</td>\n",
              "      <td>-4.093779e-01</td>\n",
              "      <td>-6.546632e-01</td>\n",
              "      <td>-4.787135e-01</td>\n",
              "      <td>-1.339191e-01</td>\n",
              "      <td>-5.477089e-01</td>\n",
              "      <td>-4.837668e-01</td>\n",
              "      <td>-5.417076e-01</td>\n",
              "      <td>-2.351421e-01</td>\n",
              "      <td>-6.201901e-01</td>\n",
              "      <td>-3.439514e-01</td>\n",
              "      <td>-3.409833e-01</td>\n",
              "      <td>-4.198368e-01</td>\n",
              "      <td>-4.071982e-01</td>\n",
              "      <td>-4.129756e-01</td>\n",
              "      <td>-3.581993e-01</td>\n",
              "      <td>-1.686500e-01</td>\n",
              "      <td>-2.256367e-01</td>\n",
              "      <td>-5.250530e-01</td>\n",
              "      <td>-1.301482e-01</td>\n",
              "      <td>-3.241623e-01</td>\n",
              "      <td>-2.218416e-01</td>\n",
              "      <td>-2.821043e-01</td>\n",
              "      <td>-6.089022e-02</td>\n",
              "      <td>-2.762231e-02</td>\n",
              "      <td>6.840000</td>\n",
              "      <td>0.000000</td>\n",
              "    </tr>\n",
              "    <tr>\n",
              "      <th>50%</th>\n",
              "      <td>76029.000000</td>\n",
              "      <td>9.301532e-02</td>\n",
              "      <td>8.999754e-02</td>\n",
              "      <td>1.743346e-01</td>\n",
              "      <td>1.809941e-01</td>\n",
              "      <td>1.480477e-01</td>\n",
              "      <td>-1.649056e-01</td>\n",
              "      <td>1.590763e-01</td>\n",
              "      <td>7.790153e-02</td>\n",
              "      <td>2.583745e-02</td>\n",
              "      <td>-9.153580e-02</td>\n",
              "      <td>1.428546e-01</td>\n",
              "      <td>2.220066e-01</td>\n",
              "      <td>5.421844e-03</td>\n",
              "      <td>6.496143e-02</td>\n",
              "      <td>3.185520e-01</td>\n",
              "      <td>8.990400e-02</td>\n",
              "      <td>-1.179887e-02</td>\n",
              "      <td>8.393824e-02</td>\n",
              "      <td>3.469481e-02</td>\n",
              "      <td>-2.513490e-02</td>\n",
              "      <td>6.636310e-03</td>\n",
              "      <td>1.241855e-01</td>\n",
              "      <td>5.160336e-02</td>\n",
              "      <td>6.794774e-02</td>\n",
              "      <td>1.674311e-01</td>\n",
              "      <td>-1.290092e-03</td>\n",
              "      <td>1.088230e-02</td>\n",
              "      <td>2.345040e-02</td>\n",
              "      <td>24.990000</td>\n",
              "      <td>0.000000</td>\n",
              "    </tr>\n",
              "    <tr>\n",
              "      <th>75%</th>\n",
              "      <td>138472.000000</td>\n",
              "      <td>1.912886e+00</td>\n",
              "      <td>8.916958e-01</td>\n",
              "      <td>1.373682e+00</td>\n",
              "      <td>1.012508e+00</td>\n",
              "      <td>8.613822e-01</td>\n",
              "      <td>4.775488e-01</td>\n",
              "      <td>7.334868e-01</td>\n",
              "      <td>3.706835e-01</td>\n",
              "      <td>7.092123e-01</td>\n",
              "      <td>4.814288e-01</td>\n",
              "      <td>1.041840e+00</td>\n",
              "      <td>6.508526e-01</td>\n",
              "      <td>6.986651e-01</td>\n",
              "      <td>5.466114e-01</td>\n",
              "      <td>8.783822e-01</td>\n",
              "      <td>5.405436e-01</td>\n",
              "      <td>4.455337e-01</td>\n",
              "      <td>5.905041e-01</td>\n",
              "      <td>4.781289e-01</td>\n",
              "      <td>1.678982e-01</td>\n",
              "      <td>2.385322e-01</td>\n",
              "      <td>7.308589e-01</td>\n",
              "      <td>2.346538e-01</td>\n",
              "      <td>5.274699e-01</td>\n",
              "      <td>4.190202e-01</td>\n",
              "      <td>2.938470e-01</td>\n",
              "      <td>1.060637e-01</td>\n",
              "      <td>8.061929e-02</td>\n",
              "      <td>84.910000</td>\n",
              "      <td>0.000000</td>\n",
              "    </tr>\n",
              "    <tr>\n",
              "      <th>max</th>\n",
              "      <td>172792.000000</td>\n",
              "      <td>2.454930e+00</td>\n",
              "      <td>2.205773e+01</td>\n",
              "      <td>9.382558e+00</td>\n",
              "      <td>1.687534e+01</td>\n",
              "      <td>3.480167e+01</td>\n",
              "      <td>7.330163e+01</td>\n",
              "      <td>1.205895e+02</td>\n",
              "      <td>2.000721e+01</td>\n",
              "      <td>1.559499e+01</td>\n",
              "      <td>2.374514e+01</td>\n",
              "      <td>1.201891e+01</td>\n",
              "      <td>7.848392e+00</td>\n",
              "      <td>7.126883e+00</td>\n",
              "      <td>1.052677e+01</td>\n",
              "      <td>8.877742e+00</td>\n",
              "      <td>1.731511e+01</td>\n",
              "      <td>9.253526e+00</td>\n",
              "      <td>5.041069e+00</td>\n",
              "      <td>5.591971e+00</td>\n",
              "      <td>3.942090e+01</td>\n",
              "      <td>2.720284e+01</td>\n",
              "      <td>1.050309e+01</td>\n",
              "      <td>2.252841e+01</td>\n",
              "      <td>4.584549e+00</td>\n",
              "      <td>7.519589e+00</td>\n",
              "      <td>3.517346e+00</td>\n",
              "      <td>3.161220e+01</td>\n",
              "      <td>3.384781e+01</td>\n",
              "      <td>25691.160000</td>\n",
              "      <td>1.000000</td>\n",
              "    </tr>\n",
              "  </tbody>\n",
              "</table>\n",
              "</div>"
            ],
            "text/plain": [
              "                Time            V1  ...         Amount          Class\n",
              "count  284807.000000  2.848070e+05  ...  284807.000000  284807.000000\n",
              "mean    94813.859575  1.175161e-15  ...      88.349619       0.001727\n",
              "std     47488.145955  1.958696e+00  ...     250.120109       0.041527\n",
              "min         0.000000 -5.640751e+01  ...       0.000000       0.000000\n",
              "25%     49346.000000 -7.868600e-01  ...       6.840000       0.000000\n",
              "50%     76029.000000  9.301532e-02  ...      24.990000       0.000000\n",
              "75%    138472.000000  1.912886e+00  ...      84.910000       0.000000\n",
              "max    172792.000000  2.454930e+00  ...   25691.160000       1.000000\n",
              "\n",
              "[8 rows x 31 columns]"
            ]
          },
          "metadata": {
            "tags": []
          },
          "execution_count": 5
        }
      ]
    },
    {
      "cell_type": "markdown",
      "metadata": {
        "id": "7Efwt0lF1aX8"
      },
      "source": [
        "## How many transactions are there in total?"
      ]
    },
    {
      "cell_type": "code",
      "metadata": {
        "colab": {
          "base_uri": "https://localhost:8080/"
        },
        "id": "IgwG6h2G1Yhd",
        "outputId": "66532812-c5dd-419a-a06e-f0cd4f7c2609"
      },
      "source": [
        "print('Total Number of Transactions: ',df.shape[0].compute())"
      ],
      "execution_count": 6,
      "outputs": [
        {
          "output_type": "stream",
          "text": [
            "Total Number of Transactions:  284807\n"
          ],
          "name": "stdout"
        }
      ]
    },
    {
      "cell_type": "markdown",
      "metadata": {
        "id": "sGBpwKhT1tGX"
      },
      "source": [
        "## How many transactions are fraud, and how many are not fraud?"
      ]
    },
    {
      "cell_type": "code",
      "metadata": {
        "colab": {
          "base_uri": "https://localhost:8080/"
        },
        "id": "2rLNmxLy1wAr",
        "outputId": "eaf29466-5be9-405e-a2e4-0bd1cf741ca3"
      },
      "source": [
        "# inspect class column for num of fraud class\n",
        "df['Class'].value_counts().compute()"
      ],
      "execution_count": 7,
      "outputs": [
        {
          "output_type": "execute_result",
          "data": {
            "text/plain": [
              "0    284315\n",
              "1       492\n",
              "Name: Class, dtype: int64"
            ]
          },
          "metadata": {
            "tags": []
          },
          "execution_count": 7
        }
      ]
    },
    {
      "cell_type": "code",
      "metadata": {
        "colab": {
          "base_uri": "https://localhost:8080/"
        },
        "id": "Dceu8XWK2FxL",
        "outputId": "d2f39544-78b7-4c1f-83f0-e8b7fd2ebd92"
      },
      "source": [
        "print('Total Number of Fraudulent Transactions: ', df['Class'].value_counts().compute()[1])"
      ],
      "execution_count": 8,
      "outputs": [
        {
          "output_type": "stream",
          "text": [
            "Total Number of Fraudulent Transactions:  492\n"
          ],
          "name": "stdout"
        }
      ]
    },
    {
      "cell_type": "markdown",
      "metadata": {
        "id": "yVZWm3Ud1vaQ"
      },
      "source": [
        "## What is the maximum amount in fraud transactions?"
      ]
    },
    {
      "cell_type": "code",
      "metadata": {
        "colab": {
          "base_uri": "https://localhost:8080/"
        },
        "id": "8IrNz2tu2ryG",
        "outputId": "73468965-2f4e-4cd5-c49f-61c4e4af497f"
      },
      "source": [
        "# seperate fraudlent transactions from df\n",
        "fraud = df[df['Class'] == 1]\n",
        "max_fraud = fraud['Amount'].max()\n",
        "\n",
        "print(f'Maximum Fraudulent Amount: ${max_fraud.compute()}')"
      ],
      "execution_count": 9,
      "outputs": [
        {
          "output_type": "stream",
          "text": [
            "Maximum Fraudulent Amount: $2125.87\n"
          ],
          "name": "stdout"
        }
      ]
    }
  ]
}