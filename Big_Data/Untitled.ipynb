{
 "cells": [
  {
   "cell_type": "code",
   "execution_count": 1,
   "metadata": {},
   "outputs": [
    {
     "name": "stdout",
     "output_type": "stream",
     "text": [
      "Collecting package metadata (current_repodata.json): ...working... done\n",
      "Solving environment: ...working... done\n",
      "\n",
      "## Package Plan ##\n",
      "\n",
      "  environment location: /Users/tarrantcarter/miniconda3\n",
      "\n",
      "  added / updated specs:\n",
      "    - featuretools\n",
      "\n",
      "\n",
      "The following packages will be downloaded:\n",
      "\n",
      "    package                    |            build\n",
      "    ---------------------------|-----------------\n",
      "    bokeh-2.2.3                |   py38h50d1736_0         7.0 MB  conda-forge\n",
      "    ca-certificates-2020.12.5  |       h033912b_0         138 KB  conda-forge\n",
      "    certifi-2020.12.5          |   py38h50d1736_1         143 KB  conda-forge\n",
      "    cloudpickle-1.6.0          |             py_0          22 KB  conda-forge\n",
      "    cytoolz-0.11.0             |   py38h1130bcf_1         339 KB  conda-forge\n",
      "    dask-2021.1.0              |     pyhd8ed1ab_0           4 KB  conda-forge\n",
      "    dask-core-2021.1.0         |     pyhd8ed1ab_0         673 KB  conda-forge\n",
      "    distributed-2021.1.0       |   py38h50d1736_0         1.1 MB  conda-forge\n",
      "    featuretools-0.23.0        |     pyhd8ed1ab_0         259 KB  conda-forge\n",
      "    freetype-2.10.4            |       h4cff582_1         890 KB  conda-forge\n",
      "    fsspec-0.8.5               |     pyhd8ed1ab_0          69 KB  conda-forge\n",
      "    heapdict-1.0.1             |             py_0           7 KB  conda-forge\n",
      "    jpeg-9d                    |       hbcb3906_0         250 KB  conda-forge\n",
      "    lcms2-2.11                 |       h11f7e16_1         387 KB  conda-forge\n",
      "    libblas-3.9.0              |       7_openblas          11 KB  conda-forge\n",
      "    libcblas-3.9.0             |       7_openblas          11 KB  conda-forge\n",
      "    libgfortran-4.0.0          |7_5_0_h1a10cd1_16          19 KB  conda-forge\n",
      "    libgfortran4-7.5.0         |      h1a10cd1_16         1.0 MB  conda-forge\n",
      "    liblapack-3.9.0            |       7_openblas          11 KB  conda-forge\n",
      "    libopenblas-0.3.12         |openmp_h63d9170_1         8.7 MB  conda-forge\n",
      "    libpng-1.6.37              |       h7cec526_2         313 KB  conda-forge\n",
      "    libtiff-4.1.0              |       hcb84e12_0         404 KB\n",
      "    llvm-openmp-11.0.1         |       h7c73e74_0         268 KB  conda-forge\n",
      "    locket-0.2.0               |             py_2           6 KB  conda-forge\n",
      "    msgpack-python-1.0.1       |   py38hf7b0b51_0          75 KB\n",
      "    numpy-1.19.5               |   py38h6ced74f_1         5.1 MB  conda-forge\n",
      "    olefile-0.46               |     pyh9f0ad1d_1          32 KB  conda-forge\n",
      "    openssl-1.1.1i             |       h35c211d_0         1.9 MB  conda-forge\n",
      "    pandas-1.0.1               |   py38h4f17bb1_0        10.3 MB  conda-forge\n",
      "    partd-1.1.0                |             py_0          17 KB  conda-forge\n",
      "    pillow-8.1.0               |   py38h5270095_0         590 KB\n",
      "    psutil-5.8.0               |   py38h5406a74_1         350 KB  conda-forge\n",
      "    pytz-2020.5                |     pyhd8ed1ab_0         244 KB  conda-forge\n",
      "    scipy-1.4.1                |   py38h38b60c6_3        19.1 MB  conda-forge\n",
      "    sortedcontainers-2.3.0     |     pyhd8ed1ab_0          26 KB  conda-forge\n",
      "    tblib-1.6.0                |             py_0          14 KB  conda-forge\n",
      "    toolz-0.11.1               |             py_0          46 KB  conda-forge\n",
      "    zict-2.0.0                 |             py_0          10 KB  conda-forge\n",
      "    zstd-1.3.7                 |       h5bba6e5_0         327 KB\n",
      "    ------------------------------------------------------------\n",
      "                                           Total:        60.0 MB\n",
      "\n",
      "The following NEW packages will be INSTALLED:\n",
      "\n",
      "  bokeh              conda-forge/osx-64::bokeh-2.2.3-py38h50d1736_0\n",
      "  cloudpickle        conda-forge/noarch::cloudpickle-1.6.0-py_0\n",
      "  cytoolz            conda-forge/osx-64::cytoolz-0.11.0-py38h1130bcf_1\n",
      "  dask               conda-forge/noarch::dask-2021.1.0-pyhd8ed1ab_0\n",
      "  dask-core          conda-forge/noarch::dask-core-2021.1.0-pyhd8ed1ab_0\n",
      "  distributed        conda-forge/osx-64::distributed-2021.1.0-py38h50d1736_0\n",
      "  featuretools       conda-forge/noarch::featuretools-0.23.0-pyhd8ed1ab_0\n",
      "  freetype           conda-forge/osx-64::freetype-2.10.4-h4cff582_1\n",
      "  fsspec             conda-forge/noarch::fsspec-0.8.5-pyhd8ed1ab_0\n",
      "  heapdict           conda-forge/noarch::heapdict-1.0.1-py_0\n",
      "  jpeg               conda-forge/osx-64::jpeg-9d-hbcb3906_0\n",
      "  lcms2              conda-forge/osx-64::lcms2-2.11-h11f7e16_1\n",
      "  libblas            conda-forge/osx-64::libblas-3.9.0-7_openblas\n",
      "  libcblas           conda-forge/osx-64::libcblas-3.9.0-7_openblas\n",
      "  libgfortran        conda-forge/osx-64::libgfortran-4.0.0-7_5_0_h1a10cd1_16\n",
      "  libgfortran4       conda-forge/osx-64::libgfortran4-7.5.0-h1a10cd1_16\n",
      "  liblapack          conda-forge/osx-64::liblapack-3.9.0-7_openblas\n",
      "  libopenblas        conda-forge/osx-64::libopenblas-0.3.12-openmp_h63d9170_1\n",
      "  libpng             conda-forge/osx-64::libpng-1.6.37-h7cec526_2\n",
      "  libtiff            pkgs/main/osx-64::libtiff-4.1.0-hcb84e12_0\n",
      "  llvm-openmp        conda-forge/osx-64::llvm-openmp-11.0.1-h7c73e74_0\n",
      "  locket             conda-forge/noarch::locket-0.2.0-py_2\n",
      "  msgpack-python     pkgs/main/osx-64::msgpack-python-1.0.1-py38hf7b0b51_0\n",
      "  numpy              conda-forge/osx-64::numpy-1.19.5-py38h6ced74f_1\n",
      "  olefile            conda-forge/noarch::olefile-0.46-pyh9f0ad1d_1\n",
      "  pandas             conda-forge/osx-64::pandas-1.0.1-py38h4f17bb1_0\n",
      "  partd              conda-forge/noarch::partd-1.1.0-py_0\n",
      "  pillow             pkgs/main/osx-64::pillow-8.1.0-py38h5270095_0\n",
      "  psutil             conda-forge/osx-64::psutil-5.8.0-py38h5406a74_1\n",
      "  pytz               conda-forge/noarch::pytz-2020.5-pyhd8ed1ab_0\n",
      "  scipy              conda-forge/osx-64::scipy-1.4.1-py38h38b60c6_3\n",
      "  sortedcontainers   conda-forge/noarch::sortedcontainers-2.3.0-pyhd8ed1ab_0\n",
      "  tblib              conda-forge/noarch::tblib-1.6.0-py_0\n",
      "  toolz              conda-forge/noarch::toolz-0.11.1-py_0\n",
      "  zict               conda-forge/noarch::zict-2.0.0-py_0\n",
      "  zstd               pkgs/main/osx-64::zstd-1.3.7-h5bba6e5_0\n",
      "\n",
      "The following packages will be UPDATED:\n",
      "\n",
      "  ca-certificates                      2020.11.8-h033912b_0 --> 2020.12.5-h033912b_0\n",
      "  certifi                          2020.11.8-py38h50d1736_0 --> 2020.12.5-py38h50d1736_1\n",
      "  openssl                                 1.1.1h-haf1e3a3_0 --> 1.1.1i-h35c211d_0\n",
      "\n",
      "\n",
      "Preparing transaction: ...working... done\n",
      "Verifying transaction: ...working... done\n",
      "Executing transaction: ...working... done\n"
     ]
    }
   ],
   "source": [
    "!conda install --channel conda-forge featuretools --yes --quiet"
   ]
  },
  {
   "cell_type": "code",
   "execution_count": 6,
   "metadata": {},
   "outputs": [
    {
     "name": "stdout",
     "output_type": "stream",
     "text": [
      "Collecting package metadata (current_repodata.json): ...working... done\n",
      "Solving environment: ...working... done\n",
      "\n",
      "# All requested packages already installed.\n",
      "\n",
      "Collecting package metadata (current_repodata.json): ...working... done\n",
      "Solving environment: ...working... done\n",
      "\n",
      "# All requested packages already installed.\n",
      "\n"
     ]
    }
   ],
   "source": [
    "!conda install -c conda-forge dask-ml --yes --quiet\n",
    "!conda install -c conda-forge aiohttp  --yes --quiet"
   ]
  },
  {
   "cell_type": "code",
   "execution_count": 8,
   "metadata": {},
   "outputs": [],
   "source": [
    "!pip install dask-ml[complete] --quiet"
   ]
  },
  {
   "cell_type": "code",
   "execution_count": 9,
   "metadata": {},
   "outputs": [
    {
     "ename": "ModuleNotFoundError",
     "evalue": "No module named 'dask_ml'",
     "output_type": "error",
     "traceback": [
      "\u001b[0;31m---------------------------------------------------------------------------\u001b[0m",
      "\u001b[0;31mModuleNotFoundError\u001b[0m                       Traceback (most recent call last)",
      "\u001b[0;32m<ipython-input-9-3281a3bc70ee>\u001b[0m in \u001b[0;36m<module>\u001b[0;34m\u001b[0m\n\u001b[1;32m      8\u001b[0m \u001b[0;32mfrom\u001b[0m \u001b[0msklearn\u001b[0m\u001b[0;34m.\u001b[0m\u001b[0mmetrics\u001b[0m \u001b[0;32mimport\u001b[0m \u001b[0mroc_auc_score\u001b[0m\u001b[0;34m\u001b[0m\u001b[0;34m\u001b[0m\u001b[0m\n\u001b[1;32m      9\u001b[0m \u001b[0;32mimport\u001b[0m \u001b[0mjoblib\u001b[0m\u001b[0;34m\u001b[0m\u001b[0;34m\u001b[0m\u001b[0m\n\u001b[0;32m---> 10\u001b[0;31m \u001b[0;32mfrom\u001b[0m \u001b[0mdask_ml\u001b[0m\u001b[0;34m.\u001b[0m\u001b[0mmodel_selection\u001b[0m \u001b[0;32mimport\u001b[0m \u001b[0mtrain_test_split\u001b[0m\u001b[0;34m\u001b[0m\u001b[0;34m\u001b[0m\u001b[0m\n\u001b[0m\u001b[1;32m     11\u001b[0m \u001b[0;32mimport\u001b[0m \u001b[0mpandas\u001b[0m \u001b[0;32mas\u001b[0m \u001b[0mpd\u001b[0m\u001b[0;34m\u001b[0m\u001b[0;34m\u001b[0m\u001b[0m\n\u001b[1;32m     12\u001b[0m \u001b[0;32mimport\u001b[0m \u001b[0mwarnings\u001b[0m\u001b[0;34m\u001b[0m\u001b[0;34m\u001b[0m\u001b[0m\n",
      "\u001b[0;31mModuleNotFoundError\u001b[0m: No module named 'dask_ml'"
     ]
    }
   ],
   "source": [
    "import pandas as pd\n",
    "import numpy as np\n",
    "import dask.dataframe as dd\n",
    "import dask.array as da\n",
    "from dask.distributed import Client, progress\n",
    "from sklearn.ensemble import RandomForestClassifier\n",
    "from sklearn.model_selection import cross_validate, GridSearchCV\n",
    "from sklearn.metrics import roc_auc_score\n",
    "import joblib\n",
    "from dask_ml.model_selection import train_test_split\n",
    "import pandas as pd\n",
    "import warnings\n",
    "import dask\n",
    "import distributed\n",
    "\n",
    "warnings.filterwarnings(\"ignore\")"
   ]
  },
  {
   "cell_type": "code",
   "execution_count": null,
   "metadata": {},
   "outputs": [],
   "source": [
    "client = Client(n_workers=4, threads_per_worker=2, memory_limit='2GB')\n",
    "client"
   ]
  },
  {
   "cell_type": "code",
   "execution_count": null,
   "metadata": {},
   "outputs": [],
   "source": [
    "# This loads the data into a Dask DataFrame\n",
    "df = dd.read_csv('https://tf-assets-prod.s3.amazonaws.com/tf-curric/data-science/creditcard.csv', dtype={'Time': 'float64'})\n",
    "\n",
    "df.head()"
   ]
  },
  {
   "cell_type": "code",
   "execution_count": null,
   "metadata": {},
   "outputs": [],
   "source": []
  }
 ],
 "metadata": {
  "kernelspec": {
   "display_name": "Python 3",
   "language": "python",
   "name": "python3"
  },
  "language_info": {
   "codemirror_mode": {
    "name": "ipython",
    "version": 3
   },
   "file_extension": ".py",
   "mimetype": "text/x-python",
   "name": "python",
   "nbconvert_exporter": "python",
   "pygments_lexer": "ipython3",
   "version": "3.7.6"
  }
 },
 "nbformat": 4,
 "nbformat_minor": 4
}
