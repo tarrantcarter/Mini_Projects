{
  "nbformat": 4,
  "nbformat_minor": 0,
  "metadata": {
    "colab": {
      "name": "GMM_Model_Evaluation.ipynb",
      "provenance": [],
      "collapsed_sections": []
    },
    "kernelspec": {
      "name": "python3",
      "display_name": "Python 3"
    }
  },
  "cells": [
    {
      "cell_type": "markdown",
      "metadata": {
        "id": "8ZsyFVbQ9TBb"
      },
      "source": [
        "#1 Apply GMM to the heart disease dataset by setting n_components=2. Get ARI and silhouette scores for your solution and compare it with those of the k-means and hierarchical clustering solutions that you implemented in the previous checkpoint assignments. Which algorithm performs best?"
      ]
    },
    {
      "cell_type": "code",
      "metadata": {
        "id": "DA41y8Df9Lvx"
      },
      "source": [
        "import pandas as pd\n",
        "import numpy as np\n",
        "import matplotlib.pyplot as plt\n",
        "from scipy.cluster.hierarchy import dendrogram, linkage\n",
        "from sklearn.preprocessing import StandardScaler\n",
        "from sklearn.mixture import GaussianMixture\n",
        "from sklearn import metrics\n",
        "from sqlalchemy import create_engine\n",
        "import warnings\n",
        "warnings.filterwarnings(\"ignore\")"
      ],
      "execution_count": null,
      "outputs": []
    },
    {
      "cell_type": "code",
      "metadata": {
        "id": "kFBunPE99pYc"
      },
      "source": [
        "postgres_user = 'dsbc_student'\n",
        "postgres_pw = '7*.8G9QH21'\n",
        "postgres_host = '142.93.121.174'\n",
        "postgres_port = '5432'\n",
        "postgres_db = 'heartdisease'\n",
        "\n",
        "engine = create_engine('postgresql://{}:{}@{}:{}/{}'.format(\n",
        "    postgres_user, postgres_pw, postgres_host, postgres_port, postgres_db))\n",
        "heartdisease_df = pd.read_sql_query('select * from heartdisease',con=engine)\n",
        "\n",
        "# no need for an open connection, as we're only doing a single query\n",
        "engine.dispose()"
      ],
      "execution_count": null,
      "outputs": []
    },
    {
      "cell_type": "code",
      "metadata": {
        "id": "COiTa40W9tcD"
      },
      "source": [
        "# Define the features and the outcome\n",
        "X = heartdisease_df.iloc[:, :13]\n",
        "y = heartdisease_df.iloc[:, 13]\n",
        "\n",
        "# Replace missing values (marked by ?) with a 0\n",
        "X = X.replace(to_replace='?', value=0)\n",
        "\n",
        "# Binarize y so that 1 means heart disease diagnosis and 0 means no diagnosis.\n",
        "y = np.where(y > 0, 0, 1)\n",
        "\n",
        "# Standardize the data.\n",
        "scaler = StandardScaler()\n",
        "X_std = scaler.fit_transform(X)"
      ],
      "execution_count": null,
      "outputs": []
    },
    {
      "cell_type": "code",
      "metadata": {
        "colab": {
          "base_uri": "https://localhost:8080/"
        },
        "id": "Vp-HJY_w92Nk",
        "outputId": "cfe9a400-f18f-4366-c75a-6383bd0a415b"
      },
      "source": [
        "gmm = GaussianMixture(n_components=2)\n",
        "clusters = gmm.fit_predict(X_std)\n",
        "\n",
        "print(f\"The GMM models adjusted rand index score is {metrics.adjusted_rand_score(y, clusters):.4f}\")\n",
        "print(f\"The GMM models silhouette score is {metrics.silhouette_score(X_std, clusters, metric='euclidean'):.4f}\")"
      ],
      "execution_count": null,
      "outputs": [
        {
          "output_type": "stream",
          "text": [
            "The GMM models adjusted rand index score is 0.4207\n",
            "The GMM models silhouette score is 0.1612\n"
          ],
          "name": "stdout"
        }
      ]
    },
    {
      "cell_type": "markdown",
      "metadata": {
        "id": "9pbpNJvwBan8"
      },
      "source": [
        "The GMM model's ARI and silhouette score is higher than the K-means or hierarchical clustering methods. "
      ]
    },
    {
      "cell_type": "markdown",
      "metadata": {
        "id": "dZGBCx-F9Xu2"
      },
      "source": [
        "#2 GMM implementation of scikit-learn has a parameter called covariance_type. This parameter determines the type of covariance parameters to use. There are four types that you can specify:\n",
        "\n",
        "1. full: This is the default. Each component has its own general covariance matrix.\n",
        "2. tied: All components share the same general covariance matrix.\n",
        "3. diag: Each component has its own diagonal covariance matrix.\n",
        "4. spherical: Each component has its own single variance.\n",
        "\n",
        "Try all of these. Which one performs best in terms of ARI and silhouette scores?"
      ]
    },
    {
      "cell_type": "code",
      "metadata": {
        "colab": {
          "base_uri": "https://localhost:8080/"
        },
        "id": "dy3daB30Bxht",
        "outputId": "526bbe94-1b78-4a8c-dcd0-81532e05225a"
      },
      "source": [
        "covariance = ['full','tied','diag','spherical']\n",
        "\n",
        "for c in covariance:\n",
        "  gmm = GaussianMixture(n_components=2, covariance_type=c)\n",
        "  clusters = gmm.fit_predict(X_std)\n",
        "  print(f'The GMM model with {c} covariance has an adjusted rand index score of {metrics.adjusted_rand_score(y, clusters):.4f}')\n",
        "  print(f\"The GMM model with {c} covariance has a silhouette score of {metrics.silhouette_score(X_std, clusters, metric='euclidean'):.4f}\")"
      ],
      "execution_count": null,
      "outputs": [
        {
          "output_type": "stream",
          "text": [
            "The GMM model with full covariance has an adjusted rand index score of 0.1839\n",
            "The GMM model with full covariance has a silhouette score of 0.1363\n",
            "The GMM model with tied covariance has an adjusted rand index score of 0.4558\n",
            "The GMM model with tied covariance has a silhouette score of 0.1672\n",
            "The GMM model with diag covariance has an adjusted rand index score of 0.3788\n",
            "The GMM model with diag covariance has a silhouette score of 0.1584\n",
            "The GMM model with spherical covariance has an adjusted rand index score of 0.2077\n",
            "The GMM model with spherical covariance has a silhouette score of 0.1247\n"
          ],
          "name": "stdout"
        }
      ]
    },
    {
      "cell_type": "markdown",
      "metadata": {
        "id": "7WNyeD8NCier"
      },
      "source": [
        "The GMM model with the 'tied' covariance hyperparameter had the best ARI and Silhouette scores. "
      ]
    }
  ]
}