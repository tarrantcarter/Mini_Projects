{
  "nbformat": 4,
  "nbformat_minor": 0,
  "metadata": {
    "colab": {
      "name": "Youtube_Data_Cleaning.ipynb",
      "provenance": []
    },
    "kernelspec": {
      "name": "python3",
      "display_name": "Python 3"
    }
  },
  "cells": [
    {
      "cell_type": "code",
      "metadata": {
        "id": "MkZCF7mrPblA"
      },
      "source": [
        "import pandas as pd\n",
        "import numpy as np\n",
        "from sqlalchemy import create_engine\n",
        "import warnings\n",
        "\n",
        "warnings.filterwarnings('ignore')"
      ],
      "execution_count": null,
      "outputs": []
    },
    {
      "cell_type": "code",
      "metadata": {
        "id": "FKf5PUv2Pdz8"
      },
      "source": [
        "postgres_user = 'dsbc_student'\n",
        "postgres_pw = '7*.8G9QH21'\n",
        "postgres_host = '142.93.121.174'\n",
        "postgres_port = '5432'\n",
        "postgres_db = 'youtube'\n",
        "\n",
        "engine = create_engine('postgresql://{}:{}@{}:{}/{}'.format(\n",
        "    postgres_user, postgres_pw, postgres_host, postgres_port, postgres_db))\n",
        "\n",
        "youtube_df = pd.read_sql_query('select * from youtube',con=engine)\n",
        "\n",
        "# no need for an open connection, \n",
        "# as we're only doing a single query\n",
        "engine.dispose()"
      ],
      "execution_count": null,
      "outputs": []
    },
    {
      "cell_type": "code",
      "metadata": {
        "id": "MFnAR-v1PnOZ",
        "colab": {
          "base_uri": "https://localhost:8080/",
          "height": 428
        },
        "outputId": "7c4332de-ab43-4d26-dcbc-000667853601"
      },
      "source": [
        "youtube_df.info()\n",
        "youtube_df.head()"
      ],
      "execution_count": null,
      "outputs": [
        {
          "output_type": "stream",
          "text": [
            "<class 'pandas.core.frame.DataFrame'>\n",
            "RangeIndex: 5000 entries, 0 to 4999\n",
            "Data columns (total 6 columns):\n",
            " #   Column         Non-Null Count  Dtype \n",
            "---  ------         --------------  ----- \n",
            " 0   Rank           5000 non-null   object\n",
            " 1   Grade          5000 non-null   object\n",
            " 2   Channel name   5000 non-null   object\n",
            " 3   Video Uploads  5000 non-null   object\n",
            " 4   Subscribers    5000 non-null   object\n",
            " 5   Video views    5000 non-null   int64 \n",
            "dtypes: int64(1), object(5)\n",
            "memory usage: 234.5+ KB\n"
          ],
          "name": "stdout"
        },
        {
          "output_type": "execute_result",
          "data": {
            "text/html": [
              "<div>\n",
              "<style scoped>\n",
              "    .dataframe tbody tr th:only-of-type {\n",
              "        vertical-align: middle;\n",
              "    }\n",
              "\n",
              "    .dataframe tbody tr th {\n",
              "        vertical-align: top;\n",
              "    }\n",
              "\n",
              "    .dataframe thead th {\n",
              "        text-align: right;\n",
              "    }\n",
              "</style>\n",
              "<table border=\"1\" class=\"dataframe\">\n",
              "  <thead>\n",
              "    <tr style=\"text-align: right;\">\n",
              "      <th></th>\n",
              "      <th>Rank</th>\n",
              "      <th>Grade</th>\n",
              "      <th>Channel name</th>\n",
              "      <th>Video Uploads</th>\n",
              "      <th>Subscribers</th>\n",
              "      <th>Video views</th>\n",
              "    </tr>\n",
              "  </thead>\n",
              "  <tbody>\n",
              "    <tr>\n",
              "      <th>0</th>\n",
              "      <td>1st</td>\n",
              "      <td>A++</td>\n",
              "      <td>Zee TV</td>\n",
              "      <td>82757</td>\n",
              "      <td>18752951</td>\n",
              "      <td>20869786591</td>\n",
              "    </tr>\n",
              "    <tr>\n",
              "      <th>1</th>\n",
              "      <td>2nd</td>\n",
              "      <td>A++</td>\n",
              "      <td>T-Series</td>\n",
              "      <td>12661</td>\n",
              "      <td>61196302</td>\n",
              "      <td>47548839843</td>\n",
              "    </tr>\n",
              "    <tr>\n",
              "      <th>2</th>\n",
              "      <td>3rd</td>\n",
              "      <td>A++</td>\n",
              "      <td>Cocomelon - Nursery Rhymes</td>\n",
              "      <td>373</td>\n",
              "      <td>19238251</td>\n",
              "      <td>9793305082</td>\n",
              "    </tr>\n",
              "    <tr>\n",
              "      <th>3</th>\n",
              "      <td>4th</td>\n",
              "      <td>A++</td>\n",
              "      <td>SET India</td>\n",
              "      <td>27323</td>\n",
              "      <td>31180559</td>\n",
              "      <td>22675948293</td>\n",
              "    </tr>\n",
              "    <tr>\n",
              "      <th>4</th>\n",
              "      <td>5th</td>\n",
              "      <td>A++</td>\n",
              "      <td>WWE</td>\n",
              "      <td>36756</td>\n",
              "      <td>32852346</td>\n",
              "      <td>26273668433</td>\n",
              "    </tr>\n",
              "  </tbody>\n",
              "</table>\n",
              "</div>"
            ],
            "text/plain": [
              "  Rank Grade                Channel name Video Uploads Subscribers  Video views\n",
              "0  1st  A++                       Zee TV         82757    18752951  20869786591\n",
              "1  2nd  A++                     T-Series         12661    61196302  47548839843\n",
              "2  3rd  A++   Cocomelon - Nursery Rhymes           373    19238251   9793305082\n",
              "3  4th  A++                    SET India         27323    31180559  22675948293\n",
              "4  5th  A++                          WWE         36756    32852346  26273668433"
            ]
          },
          "metadata": {
            "tags": []
          },
          "execution_count": 5
        }
      ]
    },
    {
      "cell_type": "code",
      "metadata": {
        "id": "m0NU6AcvP2kF",
        "colab": {
          "base_uri": "https://localhost:8080/",
          "height": 138
        },
        "outputId": "ecbcdd7b-540e-4096-ec8a-a07c27912ffc"
      },
      "source": [
        "youtube_df.isnull().sum()"
      ],
      "execution_count": null,
      "outputs": [
        {
          "output_type": "execute_result",
          "data": {
            "text/plain": [
              "Rank             0\n",
              "Grade            0\n",
              "Channel name     0\n",
              "Video Uploads    0\n",
              "Subscribers      0\n",
              "Video views      0\n",
              "dtype: int64"
            ]
          },
          "metadata": {
            "tags": []
          },
          "execution_count": 6
        }
      ]
    },
    {
      "cell_type": "code",
      "metadata": {
        "id": "h1hjpCnUQQ6R",
        "colab": {
          "base_uri": "https://localhost:8080/",
          "height": 1000
        },
        "outputId": "3767a325-388c-4437-ae7f-3a3582b3f5f5"
      },
      "source": [
        "# print all values that cannot be converted to float\n",
        "for column_name in [\"Video Uploads\", \"Subscribers\"]:\n",
        "    print(\"These are the problematic values for the variable: {}\".format(column_name))\n",
        "    for value in youtube_df[column_name]:\n",
        "        try:\n",
        "            float(value)\n",
        "        except:\n",
        "            print(value)"
      ],
      "execution_count": null,
      "outputs": [
        {
          "output_type": "stream",
          "text": [
            "These are the problematic values for the variable: Video Uploads\n",
            "--\n",
            "--\n",
            "--\n",
            "--\n",
            "--\n",
            "--\n",
            "These are the problematic values for the variable: Subscribers\n",
            "-- \n",
            "-- \n",
            "-- \n",
            "-- \n",
            "-- \n",
            "-- \n",
            "-- \n",
            "-- \n",
            "-- \n",
            "-- \n",
            "-- \n",
            "-- \n",
            "-- \n",
            "-- \n",
            "-- \n",
            "-- \n",
            "-- \n",
            "-- \n",
            "-- \n",
            "-- \n",
            "-- \n",
            "-- \n",
            "-- \n",
            "-- \n",
            "-- \n",
            "-- \n",
            "-- \n",
            "-- \n",
            "-- \n",
            "-- \n",
            "-- \n",
            "-- \n",
            "-- \n",
            "-- \n",
            "-- \n",
            "-- \n",
            "-- \n",
            "-- \n",
            "-- \n",
            "-- \n",
            "-- \n",
            "-- \n",
            "-- \n",
            "-- \n",
            "-- \n",
            "-- \n",
            "-- \n",
            "-- \n",
            "-- \n",
            "-- \n",
            "-- \n",
            "-- \n",
            "-- \n",
            "-- \n",
            "-- \n",
            "-- \n",
            "-- \n",
            "-- \n",
            "-- \n",
            "-- \n",
            "-- \n",
            "-- \n",
            "-- \n",
            "-- \n",
            "-- \n",
            "-- \n",
            "-- \n",
            "-- \n",
            "-- \n",
            "-- \n",
            "-- \n",
            "-- \n",
            "-- \n",
            "-- \n",
            "-- \n",
            "-- \n",
            "-- \n",
            "-- \n",
            "-- \n",
            "-- \n",
            "-- \n",
            "-- \n",
            "-- \n",
            "-- \n",
            "-- \n",
            "-- \n",
            "-- \n",
            "-- \n",
            "-- \n",
            "-- \n",
            "-- \n",
            "-- \n",
            "-- \n",
            "-- \n",
            "-- \n",
            "-- \n",
            "-- \n",
            "-- \n",
            "-- \n",
            "-- \n",
            "-- \n",
            "-- \n",
            "-- \n",
            "-- \n",
            "-- \n",
            "-- \n",
            "-- \n",
            "-- \n",
            "-- \n",
            "-- \n",
            "-- \n",
            "-- \n",
            "-- \n",
            "-- \n",
            "-- \n",
            "-- \n",
            "-- \n",
            "-- \n",
            "-- \n",
            "-- \n",
            "-- \n",
            "-- \n",
            "-- \n",
            "-- \n",
            "-- \n",
            "-- \n",
            "-- \n",
            "-- \n",
            "-- \n",
            "-- \n",
            "-- \n",
            "-- \n",
            "-- \n",
            "-- \n",
            "-- \n",
            "-- \n",
            "-- \n",
            "-- \n",
            "-- \n",
            "-- \n",
            "-- \n",
            "-- \n",
            "-- \n",
            "-- \n",
            "-- \n",
            "-- \n",
            "-- \n",
            "-- \n",
            "-- \n",
            "-- \n",
            "-- \n",
            "-- \n",
            "-- \n",
            "-- \n",
            "-- \n",
            "-- \n",
            "-- \n",
            "-- \n",
            "-- \n",
            "-- \n",
            "-- \n",
            "-- \n",
            "-- \n",
            "-- \n",
            "-- \n",
            "-- \n",
            "-- \n",
            "-- \n",
            "-- \n",
            "-- \n",
            "-- \n",
            "-- \n",
            "-- \n",
            "-- \n",
            "-- \n",
            "-- \n",
            "-- \n",
            "-- \n",
            "-- \n",
            "-- \n",
            "-- \n",
            "-- \n",
            "-- \n",
            "-- \n",
            "-- \n",
            "-- \n",
            "-- \n",
            "-- \n",
            "-- \n",
            "-- \n",
            "-- \n",
            "-- \n",
            "-- \n",
            "-- \n",
            "-- \n",
            "-- \n",
            "-- \n",
            "-- \n",
            "-- \n",
            "-- \n",
            "-- \n",
            "-- \n",
            "-- \n",
            "-- \n",
            "-- \n",
            "-- \n",
            "-- \n",
            "-- \n",
            "-- \n",
            "-- \n",
            "-- \n",
            "-- \n",
            "-- \n",
            "-- \n",
            "-- \n",
            "-- \n",
            "-- \n",
            "-- \n",
            "-- \n",
            "-- \n",
            "-- \n",
            "-- \n",
            "-- \n",
            "-- \n",
            "-- \n",
            "-- \n",
            "-- \n",
            "-- \n",
            "-- \n",
            "-- \n",
            "-- \n",
            "-- \n",
            "-- \n",
            "-- \n",
            "-- \n",
            "-- \n",
            "-- \n",
            "-- \n",
            "-- \n",
            "-- \n",
            "-- \n",
            "-- \n",
            "-- \n",
            "-- \n",
            "-- \n",
            "-- \n",
            "-- \n",
            "-- \n",
            "-- \n",
            "-- \n",
            "-- \n",
            "-- \n",
            "-- \n",
            "-- \n",
            "-- \n",
            "-- \n",
            "-- \n",
            "-- \n",
            "-- \n",
            "-- \n",
            "-- \n",
            "-- \n",
            "-- \n",
            "-- \n",
            "-- \n",
            "-- \n",
            "-- \n",
            "-- \n",
            "-- \n",
            "-- \n",
            "-- \n",
            "-- \n",
            "-- \n",
            "-- \n",
            "-- \n",
            "-- \n",
            "-- \n",
            "-- \n",
            "-- \n",
            "-- \n",
            "-- \n",
            "-- \n",
            "-- \n",
            "-- \n",
            "-- \n",
            "-- \n",
            "-- \n",
            "-- \n",
            "-- \n",
            "-- \n",
            "-- \n",
            "-- \n",
            "-- \n",
            "-- \n",
            "-- \n",
            "-- \n",
            "-- \n",
            "-- \n",
            "-- \n",
            "-- \n",
            "-- \n",
            "-- \n",
            "-- \n",
            "-- \n",
            "-- \n",
            "-- \n",
            "-- \n",
            "-- \n",
            "-- \n",
            "-- \n",
            "-- \n",
            "-- \n",
            "-- \n",
            "-- \n",
            "-- \n",
            "-- \n",
            "-- \n",
            "-- \n",
            "-- \n",
            "-- \n",
            "-- \n",
            "-- \n",
            "-- \n",
            "-- \n",
            "-- \n",
            "-- \n",
            "-- \n",
            "-- \n",
            "-- \n",
            "-- \n",
            "-- \n",
            "-- \n",
            "-- \n",
            "-- \n",
            "-- \n",
            "-- \n",
            "-- \n",
            "-- \n",
            "-- \n",
            "-- \n",
            "-- \n",
            "-- \n",
            "-- \n",
            "-- \n",
            "-- \n",
            "-- \n",
            "-- \n",
            "-- \n",
            "-- \n",
            "-- \n",
            "-- \n",
            "-- \n",
            "-- \n",
            "-- \n",
            "-- \n",
            "-- \n",
            "-- \n",
            "-- \n",
            "-- \n",
            "-- \n",
            "-- \n",
            "-- \n",
            "-- \n",
            "-- \n",
            "-- \n",
            "-- \n",
            "-- \n",
            "-- \n",
            "-- \n",
            "-- \n",
            "-- \n",
            "-- \n",
            "-- \n",
            "-- \n",
            "-- \n",
            "-- \n",
            "-- \n",
            "-- \n",
            "-- \n",
            "-- \n",
            "-- \n",
            "-- \n",
            "-- \n",
            "-- \n",
            "-- \n",
            "-- \n",
            "-- \n"
          ],
          "name": "stdout"
        }
      ]
    },
    {
      "cell_type": "code",
      "metadata": {
        "id": "yeJ35POMQgij"
      },
      "source": [
        "# replace \"--\" values to empty strings\n",
        "\n",
        "youtube_df[\"Video Uploads\"] = youtube_df[\"Video Uploads\"].apply(str.strip).replace(\"--\", np.nan)\n",
        "youtube_df[\"Video Uploads\"] = pd.to_numeric(youtube_df[\"Video Uploads\"], downcast=\"float\")\n",
        "\n",
        "youtube_df[\"Subscribers\"] = youtube_df[\"Subscribers\"].apply(str.strip).replace(\"--\", np.nan)\n",
        "youtube_df[\"Subscribers\"] = pd.to_numeric(youtube_df[\"Subscribers\"], downcast=\"float\")"
      ],
      "execution_count": null,
      "outputs": []
    },
    {
      "cell_type": "code",
      "metadata": {
        "id": "5qAte9H8Q2xZ",
        "colab": {
          "base_uri": "https://localhost:8080/",
          "height": 242
        },
        "outputId": "a64d02a8-9352-4254-f97f-ecede044c69a"
      },
      "source": [
        "youtube_df.info()"
      ],
      "execution_count": null,
      "outputs": [
        {
          "output_type": "stream",
          "text": [
            "<class 'pandas.core.frame.DataFrame'>\n",
            "RangeIndex: 5000 entries, 0 to 4999\n",
            "Data columns (total 6 columns):\n",
            " #   Column         Non-Null Count  Dtype  \n",
            "---  ------         --------------  -----  \n",
            " 0   Rank           5000 non-null   object \n",
            " 1   Grade          5000 non-null   object \n",
            " 2   Channel name   5000 non-null   object \n",
            " 3   Video Uploads  4994 non-null   float32\n",
            " 4   Subscribers    4613 non-null   float32\n",
            " 5   Video views    5000 non-null   int64  \n",
            "dtypes: float32(2), int64(1), object(3)\n",
            "memory usage: 195.4+ KB\n"
          ],
          "name": "stdout"
        }
      ]
    },
    {
      "cell_type": "code",
      "metadata": {
        "id": "Gk3ui2QCQ4bl",
        "colab": {
          "base_uri": "https://localhost:8080/",
          "height": 138
        },
        "outputId": "9f88d7ff-4526-40c7-c96a-0b48f5c29306"
      },
      "source": [
        "youtube_df.isnull().sum()"
      ],
      "execution_count": null,
      "outputs": [
        {
          "output_type": "execute_result",
          "data": {
            "text/plain": [
              "Rank               0\n",
              "Grade              0\n",
              "Channel name       0\n",
              "Video Uploads      6\n",
              "Subscribers      387\n",
              "Video views        0\n",
              "dtype: int64"
            ]
          },
          "metadata": {
            "tags": []
          },
          "execution_count": 10
        }
      ]
    },
    {
      "cell_type": "code",
      "metadata": {
        "id": "3SFToS7VQ8kw",
        "colab": {
          "base_uri": "https://localhost:8080/",
          "height": 138
        },
        "outputId": "6a9a193d-08a6-495f-bc1b-0a19602d4b24"
      },
      "source": [
        "youtube_df.isnull().sum()*100/youtube_df.isnull().count()"
      ],
      "execution_count": null,
      "outputs": [
        {
          "output_type": "execute_result",
          "data": {
            "text/plain": [
              "Rank             0.00\n",
              "Grade            0.00\n",
              "Channel name     0.00\n",
              "Video Uploads    0.12\n",
              "Subscribers      7.74\n",
              "Video views      0.00\n",
              "dtype: float64"
            ]
          },
          "metadata": {
            "tags": []
          },
          "execution_count": 11
        }
      ]
    },
    {
      "cell_type": "code",
      "metadata": {
        "id": "TlPD3prCRG3k",
        "colab": {
          "base_uri": "https://localhost:8080/",
          "height": 138
        },
        "outputId": "446991a6-7d32-4473-83c0-bbaea77df795"
      },
      "source": [
        "youtube_df.Grade.value_counts()"
      ],
      "execution_count": null,
      "outputs": [
        {
          "output_type": "execute_result",
          "data": {
            "text/plain": [
              "B+      2956\n",
              "A-      1024\n",
              "A        963\n",
              "A+        41\n",
              "A++       10\n",
              "           6\n",
              "Name: Grade, dtype: int64"
            ]
          },
          "metadata": {
            "tags": []
          },
          "execution_count": 12
        }
      ]
    },
    {
      "cell_type": "code",
      "metadata": {
        "id": "psa1tZ8dROwg",
        "colab": {
          "base_uri": "https://localhost:8080/",
          "height": 34
        },
        "outputId": "47be4b69-9367-4050-ab43-b9b5ca3a202c"
      },
      "source": [
        "youtube_df.Grade = youtube_df.Grade.apply(str.strip).replace(\"\", np.nan)\n",
        "\n",
        "youtube_df.Grade.unique()"
      ],
      "execution_count": null,
      "outputs": [
        {
          "output_type": "execute_result",
          "data": {
            "text/plain": [
              "array(['A++', 'A+', 'A', nan, 'A-', 'B+'], dtype=object)"
            ]
          },
          "metadata": {
            "tags": []
          },
          "execution_count": 13
        }
      ]
    },
    {
      "cell_type": "code",
      "metadata": {
        "id": "fUyjvIskRouM"
      },
      "source": [
        "youtube_df[\"Video Uploads\"].fillna(youtube_df[\"Video Uploads\"].mean(), inplace=True)\n",
        "youtube_df[\"Subscribers\"].fillna(youtube_df[\"Subscribers\"].mean(), inplace=True)\n"
      ],
      "execution_count": null,
      "outputs": []
    },
    {
      "cell_type": "code",
      "metadata": {
        "id": "R_jpJVBARskI",
        "colab": {
          "base_uri": "https://localhost:8080/",
          "height": 138
        },
        "outputId": "35893b6e-87d3-448f-b3e1-771b4900fc47"
      },
      "source": [
        "youtube_df.isnull().sum()*100/youtube_df.count()"
      ],
      "execution_count": null,
      "outputs": [
        {
          "output_type": "execute_result",
          "data": {
            "text/plain": [
              "Rank             0.000000\n",
              "Grade            0.120144\n",
              "Channel name     0.000000\n",
              "Video Uploads    0.000000\n",
              "Subscribers      0.000000\n",
              "Video views      0.000000\n",
              "dtype: float64"
            ]
          },
          "metadata": {
            "tags": []
          },
          "execution_count": 15
        }
      ]
    },
    {
      "cell_type": "code",
      "metadata": {
        "id": "FHBQxxsrSC1V",
        "colab": {
          "base_uri": "https://localhost:8080/",
          "height": 34
        },
        "outputId": "2c0d3cb8-6410-44d4-ff07-b53f51315592"
      },
      "source": [
        "# fill in missing values in Category with the the value of the next highest-ranked channel's category\n",
        "\n",
        "grade_list = youtube_df.Grade\n",
        "\n",
        "for i in range(0, len(youtube_df.Grade)):\n",
        "    if pd.isnull(youtube_df.Grade[i]):\n",
        "        youtube_df.Grade[i] = youtube_df.Grade[i-1]\n",
        "        \n",
        "youtube_df[\"Grade\"].unique()"
      ],
      "execution_count": null,
      "outputs": [
        {
          "output_type": "execute_result",
          "data": {
            "text/plain": [
              "array(['A++', 'A+', 'A', 'A-', 'B+'], dtype=object)"
            ]
          },
          "metadata": {
            "tags": []
          },
          "execution_count": 16
        }
      ]
    }
  ]
}