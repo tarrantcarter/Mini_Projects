{
  "nbformat": 4,
  "nbformat_minor": 0,
  "metadata": {
    "colab": {
      "name": "useducation_missing_values.ipynb",
      "provenance": []
    },
    "kernelspec": {
      "name": "python3",
      "display_name": "Python 3"
    }
  },
  "cells": [
    {
      "cell_type": "code",
      "metadata": {
        "id": "4PXE3Hi2SbNE"
      },
      "source": [
        "import pandas as pd\n",
        "import numpy as np\n",
        "from sqlalchemy import create_engine\n",
        "import warnings\n",
        "\n",
        "warnings.filterwarnings('ignore')"
      ],
      "execution_count": null,
      "outputs": []
    },
    {
      "cell_type": "code",
      "metadata": {
        "id": "MRGFJZOvSc4z"
      },
      "source": [
        "postgres_user = 'dsbc_student'\n",
        "postgres_pw = '7*.8G9QH21'\n",
        "postgres_host = '142.93.121.174'\n",
        "postgres_port = '5432'\n",
        "postgres_db = 'useducation'\n",
        "\n",
        "engine = create_engine('postgresql://{}:{}@{}:{}/{}'.format(\n",
        "    postgres_user, postgres_pw, postgres_host, postgres_port, postgres_db))\n",
        "\n",
        "ed_df = pd.read_sql_query('select * from useducation',con=engine)\n",
        "\n",
        "# no need for an open connection, \n",
        "# as we're only doing a single query\n",
        "engine.dispose()"
      ],
      "execution_count": null,
      "outputs": []
    },
    {
      "cell_type": "markdown",
      "metadata": {
        "id": "tdJE46tkThLB"
      },
      "source": [
        "#1 Determine all the variable types and find the fraction of the missing values for each variable."
      ]
    },
    {
      "cell_type": "code",
      "metadata": {
        "id": "zJjr8_IySkgy",
        "colab": {
          "base_uri": "https://localhost:8080/",
          "height": 777
        },
        "outputId": "f8df67da-091c-40c7-fb64-92ada440ab78"
      },
      "source": [
        "ed_df.info()\n",
        "ed_df.head()"
      ],
      "execution_count": null,
      "outputs": [
        {
          "output_type": "stream",
          "text": [
            "<class 'pandas.core.frame.DataFrame'>\n",
            "RangeIndex: 1492 entries, 0 to 1491\n",
            "Data columns (total 25 columns):\n",
            " #   Column                        Non-Null Count  Dtype  \n",
            "---  ------                        --------------  -----  \n",
            " 0   PRIMARY_KEY                   1492 non-null   object \n",
            " 1   STATE                         1492 non-null   object \n",
            " 2   YEAR                          1492 non-null   int64  \n",
            " 3   ENROLL                        1229 non-null   float64\n",
            " 4   TOTAL_REVENUE                 1280 non-null   float64\n",
            " 5   FEDERAL_REVENUE               1280 non-null   float64\n",
            " 6   STATE_REVENUE                 1280 non-null   float64\n",
            " 7   LOCAL_REVENUE                 1280 non-null   float64\n",
            " 8   TOTAL_EXPENDITURE             1280 non-null   float64\n",
            " 9   INSTRUCTION_EXPENDITURE       1280 non-null   float64\n",
            " 10  SUPPORT_SERVICES_EXPENDITURE  1280 non-null   float64\n",
            " 11  OTHER_EXPENDITURE             1229 non-null   float64\n",
            " 12  CAPITAL_OUTLAY_EXPENDITURE    1280 non-null   float64\n",
            " 13  GRADES_PK_G                   1319 non-null   float64\n",
            " 14  GRADES_KG_G                   1360 non-null   float64\n",
            " 15  GRADES_4_G                    1361 non-null   float64\n",
            " 16  GRADES_8_G                    1361 non-null   float64\n",
            " 17  GRADES_12_G                   1361 non-null   float64\n",
            " 18  GRADES_1_8_G                  1361 non-null   float64\n",
            " 19  GRADES_9_12_G                 1361 non-null   float64\n",
            " 20  GRADES_ALL_G                  1319 non-null   float64\n",
            " 21  AVG_MATH_4_SCORE              536 non-null    float64\n",
            " 22  AVG_MATH_8_SCORE              532 non-null    float64\n",
            " 23  AVG_READING_4_SCORE           533 non-null    float64\n",
            " 24  AVG_READING_8_SCORE           498 non-null    float64\n",
            "dtypes: float64(22), int64(1), object(2)\n",
            "memory usage: 291.5+ KB\n"
          ],
          "name": "stdout"
        },
        {
          "output_type": "execute_result",
          "data": {
            "text/html": [
              "<div>\n",
              "<style scoped>\n",
              "    .dataframe tbody tr th:only-of-type {\n",
              "        vertical-align: middle;\n",
              "    }\n",
              "\n",
              "    .dataframe tbody tr th {\n",
              "        vertical-align: top;\n",
              "    }\n",
              "\n",
              "    .dataframe thead th {\n",
              "        text-align: right;\n",
              "    }\n",
              "</style>\n",
              "<table border=\"1\" class=\"dataframe\">\n",
              "  <thead>\n",
              "    <tr style=\"text-align: right;\">\n",
              "      <th></th>\n",
              "      <th>PRIMARY_KEY</th>\n",
              "      <th>STATE</th>\n",
              "      <th>YEAR</th>\n",
              "      <th>ENROLL</th>\n",
              "      <th>TOTAL_REVENUE</th>\n",
              "      <th>FEDERAL_REVENUE</th>\n",
              "      <th>STATE_REVENUE</th>\n",
              "      <th>LOCAL_REVENUE</th>\n",
              "      <th>TOTAL_EXPENDITURE</th>\n",
              "      <th>INSTRUCTION_EXPENDITURE</th>\n",
              "      <th>SUPPORT_SERVICES_EXPENDITURE</th>\n",
              "      <th>OTHER_EXPENDITURE</th>\n",
              "      <th>CAPITAL_OUTLAY_EXPENDITURE</th>\n",
              "      <th>GRADES_PK_G</th>\n",
              "      <th>GRADES_KG_G</th>\n",
              "      <th>GRADES_4_G</th>\n",
              "      <th>GRADES_8_G</th>\n",
              "      <th>GRADES_12_G</th>\n",
              "      <th>GRADES_1_8_G</th>\n",
              "      <th>GRADES_9_12_G</th>\n",
              "      <th>GRADES_ALL_G</th>\n",
              "      <th>AVG_MATH_4_SCORE</th>\n",
              "      <th>AVG_MATH_8_SCORE</th>\n",
              "      <th>AVG_READING_4_SCORE</th>\n",
              "      <th>AVG_READING_8_SCORE</th>\n",
              "    </tr>\n",
              "  </thead>\n",
              "  <tbody>\n",
              "    <tr>\n",
              "      <th>0</th>\n",
              "      <td>1992_ALABAMA</td>\n",
              "      <td>ALABAMA</td>\n",
              "      <td>1992</td>\n",
              "      <td>NaN</td>\n",
              "      <td>2678885.0</td>\n",
              "      <td>304177.0</td>\n",
              "      <td>1659028.0</td>\n",
              "      <td>715680.0</td>\n",
              "      <td>2653798.0</td>\n",
              "      <td>1481703.0</td>\n",
              "      <td>735036.0</td>\n",
              "      <td>NaN</td>\n",
              "      <td>174053.0</td>\n",
              "      <td>8224.0</td>\n",
              "      <td>55460.0</td>\n",
              "      <td>57948.0</td>\n",
              "      <td>58025.0</td>\n",
              "      <td>41167.0</td>\n",
              "      <td>471564.0</td>\n",
              "      <td>196386.0</td>\n",
              "      <td>676174.0</td>\n",
              "      <td>208.327876</td>\n",
              "      <td>252.187522</td>\n",
              "      <td>207.963517</td>\n",
              "      <td>NaN</td>\n",
              "    </tr>\n",
              "    <tr>\n",
              "      <th>1</th>\n",
              "      <td>1992_ALASKA</td>\n",
              "      <td>ALASKA</td>\n",
              "      <td>1992</td>\n",
              "      <td>NaN</td>\n",
              "      <td>1049591.0</td>\n",
              "      <td>106780.0</td>\n",
              "      <td>720711.0</td>\n",
              "      <td>222100.0</td>\n",
              "      <td>972488.0</td>\n",
              "      <td>498362.0</td>\n",
              "      <td>350902.0</td>\n",
              "      <td>NaN</td>\n",
              "      <td>37451.0</td>\n",
              "      <td>2371.0</td>\n",
              "      <td>10152.0</td>\n",
              "      <td>9748.0</td>\n",
              "      <td>8789.0</td>\n",
              "      <td>6714.0</td>\n",
              "      <td>79117.0</td>\n",
              "      <td>30847.0</td>\n",
              "      <td>112335.0</td>\n",
              "      <td>NaN</td>\n",
              "      <td>NaN</td>\n",
              "      <td>NaN</td>\n",
              "      <td>258.859712</td>\n",
              "    </tr>\n",
              "    <tr>\n",
              "      <th>2</th>\n",
              "      <td>1992_ARIZONA</td>\n",
              "      <td>ARIZONA</td>\n",
              "      <td>1992</td>\n",
              "      <td>NaN</td>\n",
              "      <td>3258079.0</td>\n",
              "      <td>297888.0</td>\n",
              "      <td>1369815.0</td>\n",
              "      <td>1590376.0</td>\n",
              "      <td>3401580.0</td>\n",
              "      <td>1435908.0</td>\n",
              "      <td>1007732.0</td>\n",
              "      <td>NaN</td>\n",
              "      <td>609114.0</td>\n",
              "      <td>2544.0</td>\n",
              "      <td>53497.0</td>\n",
              "      <td>55433.0</td>\n",
              "      <td>49081.0</td>\n",
              "      <td>37410.0</td>\n",
              "      <td>437127.0</td>\n",
              "      <td>175210.0</td>\n",
              "      <td>614881.0</td>\n",
              "      <td>215.253932</td>\n",
              "      <td>265.366278</td>\n",
              "      <td>206.212716</td>\n",
              "      <td>262.169895</td>\n",
              "    </tr>\n",
              "    <tr>\n",
              "      <th>3</th>\n",
              "      <td>1992_ARKANSAS</td>\n",
              "      <td>ARKANSAS</td>\n",
              "      <td>1992</td>\n",
              "      <td>NaN</td>\n",
              "      <td>1711959.0</td>\n",
              "      <td>178571.0</td>\n",
              "      <td>958785.0</td>\n",
              "      <td>574603.0</td>\n",
              "      <td>1743022.0</td>\n",
              "      <td>964323.0</td>\n",
              "      <td>483488.0</td>\n",
              "      <td>NaN</td>\n",
              "      <td>145212.0</td>\n",
              "      <td>808.0</td>\n",
              "      <td>33511.0</td>\n",
              "      <td>34632.0</td>\n",
              "      <td>36011.0</td>\n",
              "      <td>27651.0</td>\n",
              "      <td>281338.0</td>\n",
              "      <td>123113.0</td>\n",
              "      <td>405259.0</td>\n",
              "      <td>210.206028</td>\n",
              "      <td>256.312090</td>\n",
              "      <td>208.634458</td>\n",
              "      <td>264.619665</td>\n",
              "    </tr>\n",
              "    <tr>\n",
              "      <th>4</th>\n",
              "      <td>1992_CALIFORNIA</td>\n",
              "      <td>CALIFORNIA</td>\n",
              "      <td>1992</td>\n",
              "      <td>NaN</td>\n",
              "      <td>26260025.0</td>\n",
              "      <td>2072470.0</td>\n",
              "      <td>16546514.0</td>\n",
              "      <td>7641041.0</td>\n",
              "      <td>27138832.0</td>\n",
              "      <td>14358922.0</td>\n",
              "      <td>8520926.0</td>\n",
              "      <td>NaN</td>\n",
              "      <td>2044688.0</td>\n",
              "      <td>59067.0</td>\n",
              "      <td>431763.0</td>\n",
              "      <td>418418.0</td>\n",
              "      <td>363296.0</td>\n",
              "      <td>270675.0</td>\n",
              "      <td>3286034.0</td>\n",
              "      <td>1372011.0</td>\n",
              "      <td>4717112.0</td>\n",
              "      <td>208.398961</td>\n",
              "      <td>260.892247</td>\n",
              "      <td>196.764414</td>\n",
              "      <td>NaN</td>\n",
              "    </tr>\n",
              "  </tbody>\n",
              "</table>\n",
              "</div>"
            ],
            "text/plain": [
              "       PRIMARY_KEY       STATE  ...  AVG_READING_4_SCORE  AVG_READING_8_SCORE\n",
              "0     1992_ALABAMA     ALABAMA  ...           207.963517                  NaN\n",
              "1      1992_ALASKA      ALASKA  ...                  NaN           258.859712\n",
              "2     1992_ARIZONA     ARIZONA  ...           206.212716           262.169895\n",
              "3    1992_ARKANSAS    ARKANSAS  ...           208.634458           264.619665\n",
              "4  1992_CALIFORNIA  CALIFORNIA  ...           196.764414                  NaN\n",
              "\n",
              "[5 rows x 25 columns]"
            ]
          },
          "metadata": {
            "tags": []
          },
          "execution_count": 4
        }
      ]
    },
    {
      "cell_type": "code",
      "metadata": {
        "id": "Zqw_MUYQTlsT",
        "colab": {
          "base_uri": "https://localhost:8080/",
          "height": 468
        },
        "outputId": "815b5fc4-a5c5-47cd-8b2d-f9a272912097"
      },
      "source": [
        "ed_df.isnull().sum()*100/ed_df.isnull().count()"
      ],
      "execution_count": null,
      "outputs": [
        {
          "output_type": "execute_result",
          "data": {
            "text/plain": [
              "PRIMARY_KEY                      0.000000\n",
              "STATE                            0.000000\n",
              "YEAR                             0.000000\n",
              "ENROLL                          17.627346\n",
              "TOTAL_REVENUE                   14.209115\n",
              "FEDERAL_REVENUE                 14.209115\n",
              "STATE_REVENUE                   14.209115\n",
              "LOCAL_REVENUE                   14.209115\n",
              "TOTAL_EXPENDITURE               14.209115\n",
              "INSTRUCTION_EXPENDITURE         14.209115\n",
              "SUPPORT_SERVICES_EXPENDITURE    14.209115\n",
              "OTHER_EXPENDITURE               17.627346\n",
              "CAPITAL_OUTLAY_EXPENDITURE      14.209115\n",
              "GRADES_PK_G                     11.595174\n",
              "GRADES_KG_G                      8.847185\n",
              "GRADES_4_G                       8.780161\n",
              "GRADES_8_G                       8.780161\n",
              "GRADES_12_G                      8.780161\n",
              "GRADES_1_8_G                     8.780161\n",
              "GRADES_9_12_G                    8.780161\n",
              "GRADES_ALL_G                    11.595174\n",
              "AVG_MATH_4_SCORE                64.075067\n",
              "AVG_MATH_8_SCORE                64.343164\n",
              "AVG_READING_4_SCORE             64.276139\n",
              "AVG_READING_8_SCORE             66.621984\n",
              "dtype: float64"
            ]
          },
          "metadata": {
            "tags": []
          },
          "execution_count": 9
        }
      ]
    },
    {
      "cell_type": "code",
      "metadata": {
        "id": "l2KV-lvDWAl2"
      },
      "source": [
        ""
      ],
      "execution_count": null,
      "outputs": []
    },
    {
      "cell_type": "markdown",
      "metadata": {
        "id": "qMyQVAj2UB2C"
      },
      "source": [
        "#2 Notice that the data has a time dimension (year). For this assignment, forget about time and treat all the observations as if they're from the same year. Choose a strategy to deal with the missing values for each variables. For which variables would filling in the missing values with some value make sense? For which might tossing out the records entirely make sense?"
      ]
    },
    {
      "cell_type": "markdown",
      "metadata": {
        "id": "xIUHnSDjUDfW"
      },
      "source": [
        "It would make sense to drop AVG_MATH_4_SCORE, AVG_MATH_8_SCORE, AVG_READING_4_SCORE, AVG_READING_8_SCORE columns because over 64% of the data is missing from these columns. For all other columns the missing values range from 8-17% of the data. We can probably fill these values in some manner (probably using the mean for each column) and still maintain the integrety of our analysis. "
      ]
    },
    {
      "cell_type": "code",
      "metadata": {
        "id": "03Iu0v2vbCQv"
      },
      "source": [
        "ed_fill = ed_df.copy()\n",
        "\n",
        "fill_columns = [\"ENROLL\", \"TOTAL_REVENUE\", \"FEDERAL_REVENUE\", \n",
        "             \"STATE_REVENUE\", \"LOCAL_REVENUE\", \"TOTAL_EXPENDITURE\", \n",
        "             \"INSTRUCTION_EXPENDITURE\", \"SUPPORT_SERVICES_EXPENDITURE\",\n",
        "             \"OTHER_EXPENDITURE\", \"CAPITAL_OUTLAY_EXPENDITURE\", \"GRADES_PK_G\", \n",
        "             \"GRADES_KG_G\", \"GRADES_4_G\", \"GRADES_8_G\", \"GRADES_12_G\", \"GRADES_1_8_G\", \n",
        "             \"GRADES_9_12_G\", \"GRADES_ALL_G\"]\n",
        "\n",
        "for column in fill_columns:\n",
        "    ed_fill.loc[:, column] = ed_fill.loc[:, column].fillna(ed_fill.loc[:, column].mean())\n",
        "\n",
        "ed_fill.drop(columns=['AVG_MATH_4_SCORE', 'AVG_MATH_8_SCORE', 'AVG_READING_4_SCORE', 'AVG_READING_8_SCORE'], inplace=True)    "
      ],
      "execution_count": null,
      "outputs": []
    },
    {
      "cell_type": "code",
      "metadata": {
        "id": "PdPO9Bm1bkE7",
        "colab": {
          "base_uri": "https://localhost:8080/",
          "height": 398
        },
        "outputId": "c35bc4f5-f29d-4df2-d14d-853439cb7713"
      },
      "source": [
        "ed_fill.isnull().sum()"
      ],
      "execution_count": null,
      "outputs": [
        {
          "output_type": "execute_result",
          "data": {
            "text/plain": [
              "PRIMARY_KEY                     0\n",
              "STATE                           0\n",
              "YEAR                            0\n",
              "ENROLL                          0\n",
              "TOTAL_REVENUE                   0\n",
              "FEDERAL_REVENUE                 0\n",
              "STATE_REVENUE                   0\n",
              "LOCAL_REVENUE                   0\n",
              "TOTAL_EXPENDITURE               0\n",
              "INSTRUCTION_EXPENDITURE         0\n",
              "SUPPORT_SERVICES_EXPENDITURE    0\n",
              "OTHER_EXPENDITURE               0\n",
              "CAPITAL_OUTLAY_EXPENDITURE      0\n",
              "GRADES_PK_G                     0\n",
              "GRADES_KG_G                     0\n",
              "GRADES_4_G                      0\n",
              "GRADES_8_G                      0\n",
              "GRADES_12_G                     0\n",
              "GRADES_1_8_G                    0\n",
              "GRADES_9_12_G                   0\n",
              "GRADES_ALL_G                    0\n",
              "dtype: int64"
            ]
          },
          "metadata": {
            "tags": []
          },
          "execution_count": 27
        }
      ]
    },
    {
      "cell_type": "markdown",
      "metadata": {
        "id": "UvOf6zCDXGdA"
      },
      "source": [
        "#3 Now, take into account the time factor. Replicate your second answer but this time fill in the missing values by using a statistic that is calculated within the year of the observation. For example, if you want to fill a missing value for a variable with the mean of that variable, calculate the mean by using only the observations for that specific year."
      ]
    },
    {
      "cell_type": "code",
      "metadata": {
        "id": "Zkilt2RLUyHz"
      },
      "source": [
        "ed_year = ed_fill.copy()\n",
        "\n",
        "years = ed_fill[\"YEAR\"].unique()\n",
        "\n",
        "for column in fill_columns:\n",
        "    for year in years:\n",
        "        ed_year.loc[ed_year[\"YEAR\"] == year, column] = ed_year.loc[ed_year[\"YEAR\"] == year, column].fillna(\n",
        "            ed_year[ed_year[\"YEAR\"] == year][column].mean())"
      ],
      "execution_count": null,
      "outputs": []
    },
    {
      "cell_type": "markdown",
      "metadata": {
        "id": "l-qufjmyey1p"
      },
      "source": [
        "#4 This time, fill in the missing values using interpolation (extrapolation)."
      ]
    },
    {
      "cell_type": "code",
      "metadata": {
        "id": "bLwH36s3YySg"
      },
      "source": [
        "ed_interpolate = ed_fill.copy()\n",
        "\n",
        "for column in fill_columns:\n",
        "    ed_interpolate.loc[:, column] = ed_interpolate.loc[:, column].interpolate()"
      ],
      "execution_count": null,
      "outputs": []
    },
    {
      "cell_type": "markdown",
      "metadata": {
        "id": "0zf4fhQSfTZ2"
      },
      "source": [
        "Compare your results for the 2nd, 3rd, and 4th questions. Do you find any meaningful differences?"
      ]
    },
    {
      "cell_type": "code",
      "metadata": {
        "id": "geItrD6cfSE2",
        "colab": {
          "base_uri": "https://localhost:8080/",
          "height": 1000
        },
        "outputId": "157d65b4-4861-431a-ef0b-1177fd502530"
      },
      "source": [
        "for col in fill_columns:\n",
        "    print(\"Statistics for columns: {}\".format(col))\n",
        "    print(pd.concat([ed_df[col], ed_interpolate[col]], axis=1).describe())"
      ],
      "execution_count": null,
      "outputs": [
        {
          "output_type": "stream",
          "text": [
            "Statistics for columns: ENROLL\n",
            "             ENROLL        ENROLL\n",
            "count  1.229000e+03  1.492000e+03\n",
            "mean   9.159308e+05  9.159308e+05\n",
            "std    1.065280e+06  9.667725e+05\n",
            "min    4.386600e+04  4.386600e+04\n",
            "25%    2.583140e+05  3.150940e+05\n",
            "50%    6.483130e+05  8.204140e+05\n",
            "75%    1.014528e+06  9.211780e+05\n",
            "max    6.307022e+06  6.307022e+06\n",
            "Statistics for columns: TOTAL_REVENUE\n",
            "       TOTAL_REVENUE  TOTAL_REVENUE\n",
            "count   1.280000e+03   1.492000e+03\n",
            "mean    9.092082e+06   9.092082e+06\n",
            "std     1.174519e+07   1.087818e+07\n",
            "min     4.656500e+05   4.656500e+05\n",
            "25%     2.186305e+06   2.546261e+06\n",
            "50%     5.079546e+06   6.359310e+06\n",
            "75%     1.085985e+07   9.276958e+06\n",
            "max     8.921726e+07   8.921726e+07\n",
            "Statistics for columns: FEDERAL_REVENUE\n",
            "       FEDERAL_REVENUE  FEDERAL_REVENUE\n",
            "count     1.280000e+03     1.492000e+03\n",
            "mean      7.663723e+05     7.663723e+05\n",
            "std       1.145242e+06     1.060702e+06\n",
            "min       3.102000e+04     3.102000e+04\n",
            "25%       1.893540e+05     2.170200e+05\n",
            "50%       4.033765e+05     5.167410e+05\n",
            "75%       8.289660e+05     7.663723e+05\n",
            "max       9.990221e+06     9.990221e+06\n",
            "Statistics for columns: STATE_REVENUE\n",
            "       STATE_REVENUE  STATE_REVENUE\n",
            "count   1.280000e+03   1.492000e+03\n",
            "mean    4.216553e+06   4.216553e+06\n",
            "std     5.543072e+06   5.133895e+06\n",
            "min     0.000000e+00   0.000000e+00\n",
            "25%     1.153097e+06   1.356434e+06\n",
            "50%     2.537074e+06   3.127639e+06\n",
            "75%     5.080939e+06   4.269811e+06\n",
            "max     5.090457e+07   5.090457e+07\n",
            "Statistics for columns: LOCAL_REVENUE\n",
            "       LOCAL_REVENUE  LOCAL_REVENUE\n",
            "count   1.280000e+03   1.492000e+03\n",
            "mean    4.109157e+06   4.109157e+06\n",
            "std     5.482971e+06   5.078230e+06\n",
            "min     2.209300e+04   2.209300e+04\n",
            "25%     7.158345e+05   9.447962e+05\n",
            "50%     2.055780e+06   2.697257e+06\n",
            "75%     4.768680e+06   4.109157e+06\n",
            "max     3.610526e+07   3.610526e+07\n",
            "Statistics for columns: TOTAL_EXPENDITURE\n",
            "       TOTAL_EXPENDITURE  TOTAL_EXPENDITURE\n",
            "count       1.280000e+03       1.492000e+03\n",
            "mean        9.196681e+06       9.196681e+06\n",
            "std         1.197813e+07       1.109393e+07\n",
            "min         4.816650e+05       4.816650e+05\n",
            "25%         2.165404e+06       2.523968e+06\n",
            "50%         5.234506e+06       6.520224e+06\n",
            "75%         1.074519e+07       9.434922e+06\n",
            "max         8.532013e+07       8.532013e+07\n",
            "Statistics for columns: INSTRUCTION_EXPENDITURE\n",
            "       INSTRUCTION_EXPENDITURE  INSTRUCTION_EXPENDITURE\n",
            "count             1.280000e+03             1.492000e+03\n",
            "mean              4.762966e+06             4.762966e+06\n",
            "std               6.293004e+06             5.828468e+06\n",
            "min               2.655490e+05             2.655490e+05\n",
            "25%               1.168032e+06             1.343611e+06\n",
            "50%               2.657452e+06             3.358142e+06\n",
            "75%               5.568028e+06             4.938820e+06\n",
            "max               4.396452e+07             4.396452e+07\n",
            "Statistics for columns: SUPPORT_SERVICES_EXPENDITURE\n",
            "       SUPPORT_SERVICES_EXPENDITURE  SUPPORT_SERVICES_EXPENDITURE\n",
            "count                  1.280000e+03                  1.492000e+03\n",
            "mean                   2.680331e+06                  2.680331e+06\n",
            "std                    3.353349e+06                  3.105812e+06\n",
            "min                    1.399630e+05                  1.399630e+05\n",
            "25%                    6.357900e+05                  7.673688e+05\n",
            "50%                    1.525406e+06                  1.913844e+06\n",
            "75%                    3.229651e+06                  2.795888e+06\n",
            "max                    2.605802e+07                  2.605802e+07\n",
            "Statistics for columns: OTHER_EXPENDITURE\n",
            "       OTHER_EXPENDITURE  OTHER_EXPENDITURE\n",
            "count       1.229000e+03       1.492000e+03\n",
            "mean        4.292046e+05       4.292046e+05\n",
            "std         5.340693e+05       4.846832e+05\n",
            "min         1.154100e+04       1.154100e+04\n",
            "25%         1.028310e+05       1.354282e+05\n",
            "50%         2.715960e+05       3.672335e+05\n",
            "75%         5.186000e+05       4.568915e+05\n",
            "max         3.995951e+06       3.995951e+06\n",
            "Statistics for columns: CAPITAL_OUTLAY_EXPENDITURE\n",
            "       CAPITAL_OUTLAY_EXPENDITURE  CAPITAL_OUTLAY_EXPENDITURE\n",
            "count                1.280000e+03                1.492000e+03\n",
            "mean                 9.027693e+05                9.027693e+05\n",
            "std                  1.327562e+06                1.229564e+06\n",
            "min                  1.270800e+04                1.270800e+04\n",
            "25%                  1.815645e+05                2.163398e+05\n",
            "50%                  5.102595e+05                6.482175e+05\n",
            "75%                  9.668515e+05                9.027693e+05\n",
            "max                  1.022366e+07                1.022366e+07\n",
            "Statistics for columns: GRADES_PK_G\n",
            "         GRADES_PK_G    GRADES_PK_G\n",
            "count    1319.000000    1492.000000\n",
            "mean    17601.614102   17601.614102\n",
            "std     30016.166447   28221.111094\n",
            "min         0.000000       0.000000\n",
            "25%      2021.000000    2449.000000\n",
            "50%      8106.000000   10505.000000\n",
            "75%     22295.000000   19149.250000\n",
            "max    250911.000000  250911.000000\n",
            "Statistics for columns: GRADES_KG_G\n",
            "         GRADES_KG_G    GRADES_KG_G\n",
            "count    1360.000000    1492.000000\n",
            "mean    63746.761029   63746.761029\n",
            "std     80205.138143   76572.547833\n",
            "min       544.000000     544.000000\n",
            "25%     11745.000000   14016.000000\n",
            "50%     41597.500000   48897.000000\n",
            "75%     73865.250000   70372.750000\n",
            "max    530531.000000  530531.000000\n",
            "Statistics for columns: GRADES_4_G\n",
            "          GRADES_4_G     GRADES_4_G\n",
            "count    1361.000000    1492.000000\n",
            "mean    64538.927259   64538.927259\n",
            "std     80293.387625   76684.998585\n",
            "min       633.000000     633.000000\n",
            "25%     13739.000000   15195.500000\n",
            "50%     43272.000000   49884.500000\n",
            "75%     75481.000000   71814.250000\n",
            "max    493415.000000  493415.000000\n",
            "Statistics for columns: GRADES_8_G\n",
            "          GRADES_8_G     GRADES_8_G\n",
            "count    1361.000000    1492.000000\n",
            "mean    64271.057311   64271.057311\n",
            "std     78910.545776   75364.301721\n",
            "min       437.000000     437.000000\n",
            "25%     13342.000000   15682.750000\n",
            "50%     43339.000000   49571.000000\n",
            "75%     76566.000000   72131.000000\n",
            "max    500143.000000  500143.000000\n",
            "Statistics for columns: GRADES_12_G\n",
            "        GRADES_12_G    GRADES_12_G\n",
            "count    1361.00000    1492.000000\n",
            "mean    54268.92432   54268.924320\n",
            "std     67889.27623   64838.328605\n",
            "min       311.00000     311.000000\n",
            "25%     10919.00000   13437.000000\n",
            "50%     36735.00000   39566.000000\n",
            "75%     67460.00000   64616.250000\n",
            "max    498403.00000  498403.000000\n",
            "Statistics for columns: GRADES_1_8_G\n",
            "       GRADES_1_8_G  GRADES_1_8_G\n",
            "count  1.361000e+03  1.492000e+03\n",
            "mean   5.192140e+05  5.192140e+05\n",
            "std    6.436384e+05  6.147133e+05\n",
            "min    4.878000e+03  4.878000e+03\n",
            "25%    1.106260e+05  1.211522e+05\n",
            "50%    3.457750e+05  4.015865e+05\n",
            "75%    6.119050e+05  5.749118e+05\n",
            "max    3.929869e+06  3.929869e+06\n",
            "Statistics for columns: GRADES_9_12_G\n",
            "       GRADES_9_12_G  GRADES_9_12_G\n",
            "count   1.361000e+03   1.492000e+03\n",
            "mean    2.470714e+05   2.470714e+05\n",
            "std     3.077056e+05   2.938773e+05\n",
            "min     1.808000e+03   1.808000e+03\n",
            "25%     5.147100e+04   5.919750e+04\n",
            "50%     1.642600e+05   1.817010e+05\n",
            "75%     2.905020e+05   2.825390e+05\n",
            "max     2.013687e+06   2.013687e+06\n",
            "Statistics for columns: GRADES_ALL_G\n",
            "       GRADES_ALL_G  GRADES_ALL_G\n",
            "count  1.319000e+03  1.492000e+03\n",
            "mean   8.024415e+05  8.024415e+05\n",
            "std    9.707031e+05  9.126522e+05\n",
            "min    7.254000e+03  7.254000e+03\n",
            "25%    1.810650e+05  2.293578e+05\n",
            "50%    5.503420e+05  6.473260e+05\n",
            "75%    9.282755e+05  8.724220e+05\n",
            "max    5.944746e+06  5.944746e+06\n"
          ],
          "name": "stdout"
        }
      ]
    },
    {
      "cell_type": "markdown",
      "metadata": {
        "id": "XIUE8t8qfzbX"
      },
      "source": [
        "We see higher counts for the columns that we filled missing values, but we don't much affect on the description statistics. The means are all identical, but this shouldn't be suprising since we filled with means. "
      ]
    }
  ]
}