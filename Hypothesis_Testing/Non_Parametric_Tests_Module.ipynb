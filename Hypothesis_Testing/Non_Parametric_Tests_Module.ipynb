{
  "nbformat": 4,
  "nbformat_minor": 0,
  "metadata": {
    "colab": {
      "name": "Non_Parametric_Tests_Module.ipynb",
      "provenance": [],
      "collapsed_sections": []
    },
    "kernelspec": {
      "name": "python3",
      "display_name": "Python 3"
    }
  },
  "cells": [
    {
      "cell_type": "code",
      "metadata": {
        "id": "lQlzJLa54zE1",
        "colab": {
          "base_uri": "https://localhost:8080/",
          "height": 72
        },
        "outputId": "95ff84b1-debd-400f-ffc5-08651039f0a1"
      },
      "source": [
        "# Set up environment\n",
        "import math\n",
        "import pandas as pd\n",
        "import numpy as np\n",
        "from scipy import stats\n",
        "import matplotlib.pyplot as plt\n",
        "import seaborn as sns\n",
        "sns.set()\n",
        "\n",
        "# supress warnings (warnings do not prevent the code from executing)\n",
        "import warnings\n",
        "warnings.filterwarnings(\"ignore\")"
      ],
      "execution_count": null,
      "outputs": [
        {
          "output_type": "stream",
          "text": [
            "/usr/local/lib/python3.6/dist-packages/statsmodels/tools/_testing.py:19: FutureWarning: pandas.util.testing is deprecated. Use the functions in the public API at pandas.testing instead.\n",
            "  import pandas.util.testing as tm\n"
          ],
          "name": "stderr"
        }
      ]
    },
    {
      "cell_type": "code",
      "metadata": {
        "id": "4uv_E_Gd4r82",
        "colab": {
          "base_uri": "https://localhost:8080/",
          "height": 549
        },
        "outputId": "e4b001bb-1564-4336-e2fe-86f848251d2d"
      },
      "source": [
        "ess_combined = pd.read_csv(\"https://tf-assets-prod.s3.amazonaws.com/tf-curric/data-science/ess_combined_2012_2014.csv\")\n",
        "\n",
        "\n",
        "ess_combined.info()\n",
        "ess_combined.head()"
      ],
      "execution_count": null,
      "outputs": [
        {
          "output_type": "stream",
          "text": [
            "<class 'pandas.core.frame.DataFrame'>\n",
            "RangeIndex: 8147 entries, 0 to 8146\n",
            "Data columns (total 13 columns):\n",
            " #   Column   Non-Null Count  Dtype \n",
            "---  ------   --------------  ----- \n",
            " 0   cntry    8147 non-null   object\n",
            " 1   idno     8147 non-null   int64 \n",
            " 2   year     8147 non-null   int64 \n",
            " 3   tvtot    8147 non-null   int64 \n",
            " 4   ppltrst  8147 non-null   int64 \n",
            " 5   pplfair  8147 non-null   int64 \n",
            " 6   pplhlp   8147 non-null   int64 \n",
            " 7   happy    8147 non-null   int64 \n",
            " 8   sclmeet  8147 non-null   int64 \n",
            " 9   sclact   8147 non-null   int64 \n",
            " 10  gndr     8147 non-null   int64 \n",
            " 11  agea     8147 non-null   int64 \n",
            " 12  partner  8147 non-null   int64 \n",
            "dtypes: int64(12), object(1)\n",
            "memory usage: 827.6+ KB\n"
          ],
          "name": "stdout"
        },
        {
          "output_type": "execute_result",
          "data": {
            "text/html": [
              "<div>\n",
              "<style scoped>\n",
              "    .dataframe tbody tr th:only-of-type {\n",
              "        vertical-align: middle;\n",
              "    }\n",
              "\n",
              "    .dataframe tbody tr th {\n",
              "        vertical-align: top;\n",
              "    }\n",
              "\n",
              "    .dataframe thead th {\n",
              "        text-align: right;\n",
              "    }\n",
              "</style>\n",
              "<table border=\"1\" class=\"dataframe\">\n",
              "  <thead>\n",
              "    <tr style=\"text-align: right;\">\n",
              "      <th></th>\n",
              "      <th>cntry</th>\n",
              "      <th>idno</th>\n",
              "      <th>year</th>\n",
              "      <th>tvtot</th>\n",
              "      <th>ppltrst</th>\n",
              "      <th>pplfair</th>\n",
              "      <th>pplhlp</th>\n",
              "      <th>happy</th>\n",
              "      <th>sclmeet</th>\n",
              "      <th>sclact</th>\n",
              "      <th>gndr</th>\n",
              "      <th>agea</th>\n",
              "      <th>partner</th>\n",
              "    </tr>\n",
              "  </thead>\n",
              "  <tbody>\n",
              "    <tr>\n",
              "      <th>0</th>\n",
              "      <td>CH</td>\n",
              "      <td>5</td>\n",
              "      <td>6</td>\n",
              "      <td>3</td>\n",
              "      <td>3</td>\n",
              "      <td>10</td>\n",
              "      <td>5</td>\n",
              "      <td>8</td>\n",
              "      <td>5</td>\n",
              "      <td>4</td>\n",
              "      <td>2</td>\n",
              "      <td>60</td>\n",
              "      <td>1</td>\n",
              "    </tr>\n",
              "    <tr>\n",
              "      <th>1</th>\n",
              "      <td>CH</td>\n",
              "      <td>25</td>\n",
              "      <td>6</td>\n",
              "      <td>6</td>\n",
              "      <td>5</td>\n",
              "      <td>7</td>\n",
              "      <td>5</td>\n",
              "      <td>9</td>\n",
              "      <td>3</td>\n",
              "      <td>2</td>\n",
              "      <td>2</td>\n",
              "      <td>59</td>\n",
              "      <td>1</td>\n",
              "    </tr>\n",
              "    <tr>\n",
              "      <th>2</th>\n",
              "      <td>CH</td>\n",
              "      <td>26</td>\n",
              "      <td>6</td>\n",
              "      <td>1</td>\n",
              "      <td>8</td>\n",
              "      <td>8</td>\n",
              "      <td>8</td>\n",
              "      <td>7</td>\n",
              "      <td>6</td>\n",
              "      <td>3</td>\n",
              "      <td>1</td>\n",
              "      <td>24</td>\n",
              "      <td>2</td>\n",
              "    </tr>\n",
              "    <tr>\n",
              "      <th>3</th>\n",
              "      <td>CH</td>\n",
              "      <td>28</td>\n",
              "      <td>6</td>\n",
              "      <td>4</td>\n",
              "      <td>6</td>\n",
              "      <td>6</td>\n",
              "      <td>7</td>\n",
              "      <td>10</td>\n",
              "      <td>6</td>\n",
              "      <td>2</td>\n",
              "      <td>2</td>\n",
              "      <td>64</td>\n",
              "      <td>1</td>\n",
              "    </tr>\n",
              "    <tr>\n",
              "      <th>4</th>\n",
              "      <td>CH</td>\n",
              "      <td>29</td>\n",
              "      <td>6</td>\n",
              "      <td>5</td>\n",
              "      <td>6</td>\n",
              "      <td>7</td>\n",
              "      <td>5</td>\n",
              "      <td>8</td>\n",
              "      <td>7</td>\n",
              "      <td>2</td>\n",
              "      <td>2</td>\n",
              "      <td>55</td>\n",
              "      <td>1</td>\n",
              "    </tr>\n",
              "  </tbody>\n",
              "</table>\n",
              "</div>"
            ],
            "text/plain": [
              "  cntry  idno  year  tvtot  ppltrst  ...  sclmeet  sclact  gndr  agea  partner\n",
              "0    CH     5     6      3        3  ...        5       4     2    60        1\n",
              "1    CH    25     6      6        5  ...        3       2     2    59        1\n",
              "2    CH    26     6      1        8  ...        6       3     1    24        2\n",
              "3    CH    28     6      4        6  ...        6       2     2    64        1\n",
              "4    CH    29     6      5        6  ...        7       2     2    55        1\n",
              "\n",
              "[5 rows x 13 columns]"
            ]
          },
          "metadata": {
            "tags": []
          },
          "execution_count": 4
        }
      ]
    },
    {
      "cell_type": "markdown",
      "metadata": {
        "id": "AEVTlcnp8MPf"
      },
      "source": [
        "#Did people become less trusting from 2012 to 2014?"
      ]
    },
    {
      "cell_type": "code",
      "metadata": {
        "id": "w-4gSZ2rEmgi",
        "colab": {
          "base_uri": "https://localhost:8080/",
          "height": 294
        },
        "outputId": "e67b9045-1793-4b4c-d07e-ac5ec98e329f"
      },
      "source": [
        "ess_2012 = ess_combined[ess_combined['year']==6]\n",
        "\n",
        "ess_2014 = ess_combined[ess_combined['year']==7]\n",
        "\n",
        "print(ess_2012.head())\n",
        "print(ess_2014.head())"
      ],
      "execution_count": null,
      "outputs": [
        {
          "output_type": "stream",
          "text": [
            "  cntry  idno  year  tvtot  ppltrst  ...  sclmeet  sclact  gndr  agea  partner\n",
            "0    CH     5     6      3        3  ...        5       4     2    60        1\n",
            "1    CH    25     6      6        5  ...        3       2     2    59        1\n",
            "2    CH    26     6      1        8  ...        6       3     1    24        2\n",
            "3    CH    28     6      4        6  ...        6       2     2    64        1\n",
            "4    CH    29     6      5        6  ...        7       2     2    55        1\n",
            "\n",
            "[5 rows x 13 columns]\n",
            "    cntry  idno  year  tvtot  ppltrst  ...  sclmeet  sclact  gndr  agea  partner\n",
            "732    CH     5     7      2        8  ...        6       4     1    69        1\n",
            "733    CH    25     7      4        4  ...        5       3     1    30        1\n",
            "734    CH    26     7      3        8  ...        7       5     2    49        2\n",
            "735    CH    28     7      2        7  ...        6       2     1    51        1\n",
            "736    CH    29     7      2        4  ...        6       2     2    32        2\n",
            "\n",
            "[5 rows x 13 columns]\n"
          ],
          "name": "stdout"
        }
      ]
    },
    {
      "cell_type": "code",
      "metadata": {
        "id": "5sMU-zv3E9sD",
        "colab": {
          "base_uri": "https://localhost:8080/",
          "height": 337
        },
        "outputId": "13024413-244f-4ea3-97f4-95bbd3c63a51"
      },
      "source": [
        "plt.hist(ess_2012['ppltrst'], alpha = .5)\n",
        "plt.hist(ess_2014['ppltrst'], alpha = .5)\n",
        "\n",
        "print(stats.shapiro(ess_2012['ppltrst']))\n",
        "print(stats.shapiro(ess_2014['ppltrst']))\n",
        "\n",
        "print(stats.describe(ess_2012['ppltrst']))\n",
        "print(stats.describe(ess_2014['ppltrst']))"
      ],
      "execution_count": null,
      "outputs": [
        {
          "output_type": "stream",
          "text": [
            "(0.9520939588546753, 1.4426241793085802e-34)\n",
            "(0.9580563902854919, 9.222525335052542e-33)\n",
            "DescribeResult(nobs=4071, minmax=(0, 10), mean=5.578481945467944, variance=4.893040545067073, skewness=-0.5431086926347095, kurtosis=-0.1210956960964813)\n",
            "DescribeResult(nobs=4076, minmax=(0, 10), mean=5.5713935230618254, variance=4.927171652708959, skewness=-0.4601859476512641, kurtosis=-0.25006786100787215)\n"
          ],
          "name": "stdout"
        },
        {
          "output_type": "display_data",
          "data": {
            "image/png": "[encoded data removed]",
            "text/plain": [
              "<Figure size 432x288 with 1 Axes>"
            ]
          },
          "metadata": {
            "tags": [],
            "needs_background": "light"
          }
        }
      ]
    },
    {
      "cell_type": "markdown",
      "metadata": {
        "id": "WTr002GIICcZ"
      },
      "source": [
        "The data appears normal to follow a normal distribution."
      ]
    },
    {
      "cell_type": "code",
      "metadata": {
        "id": "60QLh4jiJQe5",
        "colab": {
          "base_uri": "https://localhost:8080/",
          "height": 34
        },
        "outputId": "94c34323-474e-4bde-e661-2b0da06747b9"
      },
      "source": [
        "stats.ttest_ind(ess_2012['ppltrst'], ess_2014['ppltrst'])"
      ],
      "execution_count": null,
      "outputs": [
        {
          "output_type": "execute_result",
          "data": {
            "text/plain": [
              "Ttest_indResult(statistic=0.1443685081969842, pvalue=0.8852130548889106)"
            ]
          },
          "metadata": {
            "tags": []
          },
          "execution_count": 7
        }
      ]
    },
    {
      "cell_type": "markdown",
      "metadata": {
        "id": "74N89b75JTOy"
      },
      "source": [
        "The p value was not significant, therefore we cannot reject the null hypothesis."
      ]
    },
    {
      "cell_type": "markdown",
      "metadata": {
        "id": "cY1O3HcQ8Rca"
      },
      "source": [
        "#Did people become happier from 2012 to 2014?"
      ]
    },
    {
      "cell_type": "code",
      "metadata": {
        "id": "Y4509QpJJbwX",
        "colab": {
          "base_uri": "https://localhost:8080/",
          "height": 302
        },
        "outputId": "7e9ef16f-7ae3-456d-ca4e-4ecb72525c37"
      },
      "source": [
        "plt.hist(ess_2012['happy'], alpha = .5)\n",
        "plt.hist(ess_2014['happy'], alpha = .5)\n",
        "\n",
        "print(stats.describe(ess_2012['happy']))\n",
        "print(stats.describe(ess_2014['happy']))"
      ],
      "execution_count": null,
      "outputs": [
        {
          "output_type": "stream",
          "text": [
            "DescribeResult(nobs=4071, minmax=(0, 10), mean=7.731515598133137, variance=3.0819524689826823, skewness=-1.1505518232802756, kurtosis=1.9055890346061979)\n",
            "DescribeResult(nobs=4076, minmax=(0, 10), mean=7.6854759568204125, variance=2.840436853164115, skewness=-1.0296465664009635, kurtosis=1.5218046596567287)\n"
          ],
          "name": "stdout"
        },
        {
          "output_type": "display_data",
          "data": {
            "image/png": "[encoded data removed]",
            "text/plain": [
              "<Figure size 432x288 with 1 Axes>"
            ]
          },
          "metadata": {
            "tags": [],
            "needs_background": "light"
          }
        }
      ]
    },
    {
      "cell_type": "markdown",
      "metadata": {
        "id": "itQqTqXTJgeM"
      },
      "source": [
        "The data is not normally distributed, therefore we will use the Kruskall-Wallis test. "
      ]
    },
    {
      "cell_type": "code",
      "metadata": {
        "id": "s0niFmlmJom2",
        "colab": {
          "base_uri": "https://localhost:8080/",
          "height": 34
        },
        "outputId": "76e22869-a3db-45b4-86be-7ef7bb0d0507"
      },
      "source": [
        "stats.kruskal(\n",
        "    ess_2012['happy'],\n",
        "    ess_2014['happy'])"
      ],
      "execution_count": null,
      "outputs": [
        {
          "output_type": "execute_result",
          "data": {
            "text/plain": [
              "KruskalResult(statistic=3.725441202182227, pvalue=0.05358946830655459)"
            ]
          },
          "metadata": {
            "tags": []
          },
          "execution_count": 9
        }
      ]
    },
    {
      "cell_type": "markdown",
      "metadata": {
        "id": "Vvo4SL1bJwFZ"
      },
      "source": [
        "The p value was not significant, therefore we cannot reject the null hypothesis."
      ]
    },
    {
      "cell_type": "markdown",
      "metadata": {
        "id": "SVviVf4f8RVB"
      },
      "source": [
        "#Pick three or four of the countries in the sample and compare how often people met socially in 2014. Are there differences, and if so, which countries stand out?\n"
      ]
    },
    {
      "cell_type": "code",
      "metadata": {
        "id": "50vBvVLFJ5AB",
        "colab": {
          "base_uri": "https://localhost:8080/",
          "height": 34
        },
        "outputId": "7c2a7ff9-957b-4ef2-acb6-6c52369e3e96"
      },
      "source": [
        "ess_2014['cntry'].unique()"
      ],
      "execution_count": null,
      "outputs": [
        {
          "output_type": "execute_result",
          "data": {
            "text/plain": [
              "array(['CH', 'CZ', 'DE', 'ES', 'NO', 'SE'], dtype=object)"
            ]
          },
          "metadata": {
            "tags": []
          },
          "execution_count": 10
        }
      ]
    },
    {
      "cell_type": "code",
      "metadata": {
        "id": "ysXisTIbJ6Wf",
        "colab": {
          "base_uri": "https://localhost:8080/",
          "height": 365
        },
        "outputId": "75dcfb2e-bd40-472e-faf8-d8a46e5865c0"
      },
      "source": [
        "filter_list = ['CZ', 'DE', 'ES']\n",
        "ess_2014_cz_de_es = ess_2014[ess_2014['cntry'].isin(filter_list)]\n",
        "\n",
        "ess_2014_cz_de_es['sclmeet'].hist(by = ess_2014_cz_de_es['cntry'])"
      ],
      "execution_count": null,
      "outputs": [
        {
          "output_type": "execute_result",
          "data": {
            "text/plain": [
              "array([[<matplotlib.axes._subplots.AxesSubplot object at 0x7f0ff863a748>,\n",
              "        <matplotlib.axes._subplots.AxesSubplot object at 0x7f0ff8612fd0>],\n",
              "       [<matplotlib.axes._subplots.AxesSubplot object at 0x7f0ff85cb6a0>,\n",
              "        <matplotlib.axes._subplots.AxesSubplot object at 0x7f0ff8578cf8>]],\n",
              "      dtype=object)"
            ]
          },
          "metadata": {
            "tags": []
          },
          "execution_count": 11
        },
        {
          "output_type": "display_data",
          "data": {
            "image/png": "[encoded data removed]",
            "text/plain": [
              "<Figure size 432x288 with 4 Axes>"
            ]
          },
          "metadata": {
            "tags": [],
            "needs_background": "light"
          }
        }
      ]
    },
    {
      "cell_type": "markdown",
      "metadata": {
        "id": "FBeKE0LWKXBx"
      },
      "source": [
        "Data does not appear to be normal. Will use a Kruskal-Wallis test"
      ]
    },
    {
      "cell_type": "code",
      "metadata": {
        "id": "wx_WAFfzKelg",
        "colab": {
          "base_uri": "https://localhost:8080/",
          "height": 34
        },
        "outputId": "6a7b83a6-5885-43b3-d07d-ed67f9752ad1"
      },
      "source": [
        "stats.kruskal(\n",
        "    ess_2014_cz_de_es.loc[ess_2014_cz_de_es['cntry'] == 'CZ',['sclmeet']],\n",
        "    ess_2014_cz_de_es.loc[ess_2014_cz_de_es['cntry'] == 'DE',['sclmeet']],\n",
        "    ess_2014_cz_de_es.loc[ess_2014_cz_de_es['cntry'] == 'ES',['sclmeet']])"
      ],
      "execution_count": null,
      "outputs": [
        {
          "output_type": "execute_result",
          "data": {
            "text/plain": [
              "KruskalResult(statistic=120.72958033262947, pvalue=6.0800161031835895e-27)"
            ]
          },
          "metadata": {
            "tags": []
          },
          "execution_count": 12
        }
      ]
    },
    {
      "cell_type": "code",
      "metadata": {
        "id": "ptjurm7mKhHq",
        "colab": {
          "base_uri": "https://localhost:8080/",
          "height": 682
        },
        "outputId": "b1def2f9-23ce-40e9-8667-9df3291d0d90"
      },
      "source": [
        "ess_2014_cz_de_es.boxplot('sclmeet', by='cntry', figsize=(20, 10))"
      ],
      "execution_count": null,
      "outputs": [
        {
          "output_type": "execute_result",
          "data": {
            "text/plain": [
              "<matplotlib.axes._subplots.AxesSubplot at 0x7f0ff856c390>"
            ]
          },
          "metadata": {
            "tags": []
          },
          "execution_count": 13
        },
        {
          "output_type": "display_data",
          "data": {
            "image/png": "[encoded data removed]",
            "text/plain": [
              "<Figure size 1440x720 with 1 Axes>"
            ]
          },
          "metadata": {
            "tags": [],
            "needs_background": "light"
          }
        }
      ]
    },
    {
      "cell_type": "markdown",
      "metadata": {
        "id": "E4rF_1Ll8RAf"
      },
      "source": [
        "#Pick three or four of the countries in the sample and compare how often people took part in social activities, relative to others their age, in 2014. Are there differences, and if so, which countries stand out?"
      ]
    },
    {
      "cell_type": "code",
      "metadata": {
        "id": "EzxtzU5FKms1",
        "colab": {
          "base_uri": "https://localhost:8080/",
          "height": 365
        },
        "outputId": "1584898f-059a-48b1-da12-7ba760fe926c"
      },
      "source": [
        "ess_2014_cz_de_es['sclact'].hist(by = ess_2014_cz_de_es['cntry'])"
      ],
      "execution_count": null,
      "outputs": [
        {
          "output_type": "execute_result",
          "data": {
            "text/plain": [
              "array([[<matplotlib.axes._subplots.AxesSubplot object at 0x7f0ff866fb70>,\n",
              "        <matplotlib.axes._subplots.AxesSubplot object at 0x7f0ff8b3ca90>],\n",
              "       [<matplotlib.axes._subplots.AxesSubplot object at 0x7f0ff8b55748>,\n",
              "        <matplotlib.axes._subplots.AxesSubplot object at 0x7f0ff86bc710>]],\n",
              "      dtype=object)"
            ]
          },
          "metadata": {
            "tags": []
          },
          "execution_count": 14
        },
        {
          "output_type": "display_data",
          "data": {
            "image/png": "[encoded data removed]",
            "text/plain": [
              "<Figure size 432x288 with 4 Axes>"
            ]
          },
          "metadata": {
            "tags": [],
            "needs_background": "light"
          }
        }
      ]
    },
    {
      "cell_type": "markdown",
      "metadata": {
        "id": "g59-ZHvhKzzr"
      },
      "source": [
        "Data does not appear to be normal. Will use a Kruskal-Wallis test"
      ]
    },
    {
      "cell_type": "code",
      "metadata": {
        "id": "HP-n2rEyK28q",
        "colab": {
          "base_uri": "https://localhost:8080/",
          "height": 34
        },
        "outputId": "670a6a40-6ba9-4152-b560-321bec8d0109"
      },
      "source": [
        "stats.kruskal(\n",
        "    ess_2014_cz_de_es.loc[ess_2014_cz_de_es['cntry'] == 'CZ',['sclact']],\n",
        "    ess_2014_cz_de_es.loc[ess_2014_cz_de_es['cntry'] == 'DE',['sclact']],\n",
        "    ess_2014_cz_de_es.loc[ess_2014_cz_de_es['cntry'] == 'ES',['sclact']])"
      ],
      "execution_count": null,
      "outputs": [
        {
          "output_type": "execute_result",
          "data": {
            "text/plain": [
              "KruskalResult(statistic=6.6483852801485455, pvalue=0.036001573250638776)"
            ]
          },
          "metadata": {
            "tags": []
          },
          "execution_count": 15
        }
      ]
    },
    {
      "cell_type": "markdown",
      "metadata": {
        "id": "SKE6IqtdK-vo"
      },
      "source": [
        "The p value is significant, therefore we can reject the null hypothesis. "
      ]
    },
    {
      "cell_type": "markdown",
      "metadata": {
        "id": "5nCtjkp1LRGH"
      },
      "source": [
        "# Ruff Figural Fluency Test"
      ]
    },
    {
      "cell_type": "code",
      "metadata": {
        "id": "svPvcZmALW-I",
        "colab": {
          "base_uri": "https://localhost:8080/",
          "height": 202
        },
        "outputId": "741b9967-22ce-4d2a-c87b-d7c92e0c18c9"
      },
      "source": [
        "rfft = pd.read_csv(\"https://tf-assets-prod.s3.amazonaws.com/tf-curric/data-science/rfft.csv\")\n",
        "rfft.head()"
      ],
      "execution_count": null,
      "outputs": [
        {
          "output_type": "execute_result",
          "data": {
            "text/html": [
              "<div>\n",
              "<style scoped>\n",
              "    .dataframe tbody tr th:only-of-type {\n",
              "        vertical-align: middle;\n",
              "    }\n",
              "\n",
              "    .dataframe tbody tr th {\n",
              "        vertical-align: top;\n",
              "    }\n",
              "\n",
              "    .dataframe thead th {\n",
              "        text-align: right;\n",
              "    }\n",
              "</style>\n",
              "<table border=\"1\" class=\"dataframe\">\n",
              "  <thead>\n",
              "    <tr style=\"text-align: right;\">\n",
              "      <th></th>\n",
              "      <th>Casenr</th>\n",
              "      <th>Age</th>\n",
              "      <th>Gender</th>\n",
              "      <th>Education</th>\n",
              "      <th>Measurement</th>\n",
              "      <th>Unique</th>\n",
              "      <th>Perseverative</th>\n",
              "      <th>Interval</th>\n",
              "    </tr>\n",
              "  </thead>\n",
              "  <tbody>\n",
              "    <tr>\n",
              "      <th>0</th>\n",
              "      <td>1</td>\n",
              "      <td>74</td>\n",
              "      <td>Male</td>\n",
              "      <td>Lower secondary school (ISCED 2)</td>\n",
              "      <td>Measurement 1 (2003-2006)</td>\n",
              "      <td>32.0</td>\n",
              "      <td>1.0</td>\n",
              "      <td>Not applicable</td>\n",
              "    </tr>\n",
              "    <tr>\n",
              "      <th>1</th>\n",
              "      <td>1</td>\n",
              "      <td>74</td>\n",
              "      <td>Male</td>\n",
              "      <td>Lower secondary school (ISCED 2)</td>\n",
              "      <td>Measurement 2 (2006-2008)</td>\n",
              "      <td>35.0</td>\n",
              "      <td>0.0</td>\n",
              "      <td>2.842122556</td>\n",
              "    </tr>\n",
              "    <tr>\n",
              "      <th>2</th>\n",
              "      <td>1</td>\n",
              "      <td>74</td>\n",
              "      <td>Male</td>\n",
              "      <td>Lower secondary school (ISCED 2)</td>\n",
              "      <td>Measurement 3 (2008-2012)</td>\n",
              "      <td>50.5</td>\n",
              "      <td>14.5</td>\n",
              "      <td>2.201232033</td>\n",
              "    </tr>\n",
              "    <tr>\n",
              "      <th>3</th>\n",
              "      <td>2</td>\n",
              "      <td>48</td>\n",
              "      <td>Male</td>\n",
              "      <td>Higher secondary school (ISCED 3-4)</td>\n",
              "      <td>Measurement 1 (2003-2006)</td>\n",
              "      <td>26.0</td>\n",
              "      <td>3.0</td>\n",
              "      <td>Not applicable</td>\n",
              "    </tr>\n",
              "    <tr>\n",
              "      <th>4</th>\n",
              "      <td>2</td>\n",
              "      <td>48</td>\n",
              "      <td>Male</td>\n",
              "      <td>Higher secondary school (ISCED 3-4)</td>\n",
              "      <td>Measurement 2 (2006-2008)</td>\n",
              "      <td>47.0</td>\n",
              "      <td>3.0</td>\n",
              "      <td>2.762718362</td>\n",
              "    </tr>\n",
              "  </tbody>\n",
              "</table>\n",
              "</div>"
            ],
            "text/plain": [
              "   Casenr  Age Gender  ... Unique Perseverative        Interval\n",
              "0       1   74   Male  ...   32.0           1.0  Not applicable\n",
              "1       1   74   Male  ...   35.0           0.0     2.842122556\n",
              "2       1   74   Male  ...   50.5          14.5     2.201232033\n",
              "3       2   48   Male  ...   26.0           3.0  Not applicable\n",
              "4       2   48   Male  ...   47.0           3.0     2.762718362\n",
              "\n",
              "[5 rows x 8 columns]"
            ]
          },
          "metadata": {
            "tags": []
          },
          "execution_count": 16
        }
      ]
    },
    {
      "cell_type": "markdown",
      "metadata": {
        "id": "hY2Syb8qLZZ0"
      },
      "source": [
        "#1. Is there a significant difference in the number of unique designs drawn by the same participants from Measurement 2 to Measurement 3?"
      ]
    },
    {
      "cell_type": "code",
      "metadata": {
        "id": "U15ejDXzLa_0",
        "colab": {
          "base_uri": "https://localhost:8080/",
          "height": 233
        },
        "outputId": "00b7f1e1-f4cf-4221-eeb1-82b088911cf6"
      },
      "source": [
        "rfft_unique = rfft.pivot(index='Casenr', columns='Measurement', values='Unique')\n",
        "rfft_unique.head()"
      ],
      "execution_count": null,
      "outputs": [
        {
          "output_type": "execute_result",
          "data": {
            "text/html": [
              "<div>\n",
              "<style scoped>\n",
              "    .dataframe tbody tr th:only-of-type {\n",
              "        vertical-align: middle;\n",
              "    }\n",
              "\n",
              "    .dataframe tbody tr th {\n",
              "        vertical-align: top;\n",
              "    }\n",
              "\n",
              "    .dataframe thead th {\n",
              "        text-align: right;\n",
              "    }\n",
              "</style>\n",
              "<table border=\"1\" class=\"dataframe\">\n",
              "  <thead>\n",
              "    <tr style=\"text-align: right;\">\n",
              "      <th>Measurement</th>\n",
              "      <th>Measurement 1 (2003-2006)</th>\n",
              "      <th>Measurement 2 (2006-2008)</th>\n",
              "      <th>Measurement 3 (2008-2012)</th>\n",
              "    </tr>\n",
              "    <tr>\n",
              "      <th>Casenr</th>\n",
              "      <th></th>\n",
              "      <th></th>\n",
              "      <th></th>\n",
              "    </tr>\n",
              "  </thead>\n",
              "  <tbody>\n",
              "    <tr>\n",
              "      <th>1</th>\n",
              "      <td>32.0</td>\n",
              "      <td>35.0</td>\n",
              "      <td>50.5</td>\n",
              "    </tr>\n",
              "    <tr>\n",
              "      <th>2</th>\n",
              "      <td>26.0</td>\n",
              "      <td>47.0</td>\n",
              "      <td>71.0</td>\n",
              "    </tr>\n",
              "    <tr>\n",
              "      <th>3</th>\n",
              "      <td>91.0</td>\n",
              "      <td>83.5</td>\n",
              "      <td>77.0</td>\n",
              "    </tr>\n",
              "    <tr>\n",
              "      <th>4</th>\n",
              "      <td>59.0</td>\n",
              "      <td>54.0</td>\n",
              "      <td>64.0</td>\n",
              "    </tr>\n",
              "    <tr>\n",
              "      <th>5</th>\n",
              "      <td>60.0</td>\n",
              "      <td>68.0</td>\n",
              "      <td>21.0</td>\n",
              "    </tr>\n",
              "  </tbody>\n",
              "</table>\n",
              "</div>"
            ],
            "text/plain": [
              "Measurement  Measurement 1 (2003-2006)  ...  Measurement 3 (2008-2012)\n",
              "Casenr                                  ...                           \n",
              "1                                 32.0  ...                       50.5\n",
              "2                                 26.0  ...                       71.0\n",
              "3                                 91.0  ...                       77.0\n",
              "4                                 59.0  ...                       64.0\n",
              "5                                 60.0  ...                       21.0\n",
              "\n",
              "[5 rows x 3 columns]"
            ]
          },
          "metadata": {
            "tags": []
          },
          "execution_count": 17
        }
      ]
    },
    {
      "cell_type": "code",
      "metadata": {
        "id": "IjiPkm9MLeqC",
        "colab": {
          "base_uri": "https://localhost:8080/",
          "height": 305
        },
        "outputId": "4aab3842-72c8-49e6-9656-a71af2094d23"
      },
      "source": [
        "plt.hist(rfft_unique['Measurement 3 (2008-2012)'] - rfft_unique['Measurement 2 (2006-2008)'])\n",
        "print(stats.describe(rfft_unique['Measurement 3 (2008-2012)'] - rfft_unique['Measurement 2 (2006-2008)']))"
      ],
      "execution_count": null,
      "outputs": [
        {
          "output_type": "stream",
          "text": [
            "DescribeResult(nobs=2515, minmax=(-75.5, 68.5), mean=4.015506958250497, variance=342.2368318331855, skewness=-0.15837265462838976, kurtosis=0.7823714353134701)\n"
          ],
          "name": "stdout"
        },
        {
          "output_type": "display_data",
          "data": {
            "image/png": "[encoded data removed]",
            "text/plain": [
              "<Figure size 432x288 with 1 Axes>"
            ]
          },
          "metadata": {
            "tags": [],
            "needs_background": "light"
          }
        }
      ]
    },
    {
      "cell_type": "markdown",
      "metadata": {
        "id": "4w_MXGnPLhVD"
      },
      "source": [
        "The distribution appears normal. We can use a test for further analysis."
      ]
    },
    {
      "cell_type": "code",
      "metadata": {
        "id": "GqSEahb2Lmu_",
        "colab": {
          "base_uri": "https://localhost:8080/",
          "height": 34
        },
        "outputId": "0d3eb874-de9c-46a1-8eac-2c5b92806376"
      },
      "source": [
        "stats.ttest_rel(rfft_unique['Measurement 3 (2008-2012)'], rfft_unique['Measurement 2 (2006-2008)'])"
      ],
      "execution_count": null,
      "outputs": [
        {
          "output_type": "execute_result",
          "data": {
            "text/plain": [
              "Ttest_relResult(statistic=10.88544039426271, pvalue=5.3585747477799544e-27)"
            ]
          },
          "metadata": {
            "tags": []
          },
          "execution_count": 19
        }
      ]
    },
    {
      "cell_type": "markdown",
      "metadata": {
        "id": "Q6iy5QtgLpsU"
      },
      "source": [
        "The p value is significant, therefore we can reject the null hypothesis."
      ]
    },
    {
      "cell_type": "markdown",
      "metadata": {
        "id": "weNOsXF_Lsgv"
      },
      "source": [
        "#Is there a significant difference in the number of perseverative errors drawn by the same participants from Measurement 2 to Measurement 3?"
      ]
    },
    {
      "cell_type": "code",
      "metadata": {
        "id": "Oc9oCJnQLsMH",
        "colab": {
          "base_uri": "https://localhost:8080/",
          "height": 233
        },
        "outputId": "a187e423-a9ac-4b86-ff86-8f5b3374368e"
      },
      "source": [
        "rfft_persev = rfft.pivot(index='Casenr', columns='Measurement', values='Perseverative')\n",
        "rfft_persev.head()"
      ],
      "execution_count": null,
      "outputs": [
        {
          "output_type": "execute_result",
          "data": {
            "text/html": [
              "<div>\n",
              "<style scoped>\n",
              "    .dataframe tbody tr th:only-of-type {\n",
              "        vertical-align: middle;\n",
              "    }\n",
              "\n",
              "    .dataframe tbody tr th {\n",
              "        vertical-align: top;\n",
              "    }\n",
              "\n",
              "    .dataframe thead th {\n",
              "        text-align: right;\n",
              "    }\n",
              "</style>\n",
              "<table border=\"1\" class=\"dataframe\">\n",
              "  <thead>\n",
              "    <tr style=\"text-align: right;\">\n",
              "      <th>Measurement</th>\n",
              "      <th>Measurement 1 (2003-2006)</th>\n",
              "      <th>Measurement 2 (2006-2008)</th>\n",
              "      <th>Measurement 3 (2008-2012)</th>\n",
              "    </tr>\n",
              "    <tr>\n",
              "      <th>Casenr</th>\n",
              "      <th></th>\n",
              "      <th></th>\n",
              "      <th></th>\n",
              "    </tr>\n",
              "  </thead>\n",
              "  <tbody>\n",
              "    <tr>\n",
              "      <th>1</th>\n",
              "      <td>1.0</td>\n",
              "      <td>0.0</td>\n",
              "      <td>14.5</td>\n",
              "    </tr>\n",
              "    <tr>\n",
              "      <th>2</th>\n",
              "      <td>3.0</td>\n",
              "      <td>3.0</td>\n",
              "      <td>0.5</td>\n",
              "    </tr>\n",
              "    <tr>\n",
              "      <th>3</th>\n",
              "      <td>11.0</td>\n",
              "      <td>21.0</td>\n",
              "      <td>17.0</td>\n",
              "    </tr>\n",
              "    <tr>\n",
              "      <th>4</th>\n",
              "      <td>49.0</td>\n",
              "      <td>39.0</td>\n",
              "      <td>11.0</td>\n",
              "    </tr>\n",
              "    <tr>\n",
              "      <th>5</th>\n",
              "      <td>14.0</td>\n",
              "      <td>16.0</td>\n",
              "      <td>0.0</td>\n",
              "    </tr>\n",
              "  </tbody>\n",
              "</table>\n",
              "</div>"
            ],
            "text/plain": [
              "Measurement  Measurement 1 (2003-2006)  ...  Measurement 3 (2008-2012)\n",
              "Casenr                                  ...                           \n",
              "1                                  1.0  ...                       14.5\n",
              "2                                  3.0  ...                        0.5\n",
              "3                                 11.0  ...                       17.0\n",
              "4                                 49.0  ...                       11.0\n",
              "5                                 14.0  ...                        0.0\n",
              "\n",
              "[5 rows x 3 columns]"
            ]
          },
          "metadata": {
            "tags": []
          },
          "execution_count": 20
        }
      ]
    },
    {
      "cell_type": "code",
      "metadata": {
        "id": "68eSJwGkLzoU",
        "colab": {
          "base_uri": "https://localhost:8080/",
          "height": 354
        },
        "outputId": "24c7a1eb-6407-44dd-a6cc-9bd623b3fec2"
      },
      "source": [
        "plt.hist(rfft_persev['Measurement 3 (2008-2012)'], alpha = .5)\n",
        "plt.hist(rfft_persev['Measurement 2 (2006-2008)'], alpha = .5)"
      ],
      "execution_count": null,
      "outputs": [
        {
          "output_type": "execute_result",
          "data": {
            "text/plain": [
              "(array([1.821e+03, 4.560e+02, 1.210e+02, 5.200e+01, 2.800e+01, 1.600e+01,\n",
              "        1.300e+01, 3.000e+00, 4.000e+00, 1.000e+00]),\n",
              " array([  0.  ,  13.35,  26.7 ,  40.05,  53.4 ,  66.75,  80.1 ,  93.45,\n",
              "        106.8 , 120.15, 133.5 ]),\n",
              " <a list of 10 Patch objects>)"
            ]
          },
          "metadata": {
            "tags": []
          },
          "execution_count": 21
        },
        {
          "output_type": "display_data",
          "data": {
            "image/png": "[encoded data removed]",
            "text/plain": [
              "<Figure size 432x288 with 1 Axes>"
            ]
          },
          "metadata": {
            "tags": [],
            "needs_background": "light"
          }
        }
      ]
    },
    {
      "cell_type": "markdown",
      "metadata": {
        "id": "M7_PHucML1o8"
      },
      "source": [
        "The distribution is not normal"
      ]
    },
    {
      "cell_type": "code",
      "metadata": {
        "id": "eG19GStEL4Vf",
        "colab": {
          "base_uri": "https://localhost:8080/",
          "height": 34
        },
        "outputId": "d3060f43-d336-4fe1-bf17-b23bd5342f09"
      },
      "source": [
        "stats.wilcoxon(rfft_persev['Measurement 3 (2008-2012)'], rfft_persev['Measurement 2 (2006-2008)'])"
      ],
      "execution_count": null,
      "outputs": [
        {
          "output_type": "execute_result",
          "data": {
            "text/plain": [
              "WilcoxonResult(statistic=1358373.0, pvalue=0.0006927535563546565)"
            ]
          },
          "metadata": {
            "tags": []
          },
          "execution_count": 22
        }
      ]
    },
    {
      "cell_type": "markdown",
      "metadata": {
        "id": "tq5suGDYL8PV"
      },
      "source": [
        "The p value is significant, therefore we can reject the null hypothesis."
      ]
    }
  ]
}