{
  "nbformat": 4,
  "nbformat_minor": 0,
  "metadata": {
    "colab": {
      "name": "Data_Distributions.ipynb",
      "provenance": []
    },
    "kernelspec": {
      "name": "python3",
      "display_name": "Python 3"
    }
  },
  "cells": [
    {
      "cell_type": "markdown",
      "metadata": {
        "id": "Sjag7cpXMZdV"
      },
      "source": [
        "#For each distribution, do the following:\n",
        "\n",
        "1) Generate a random variable with 100 data points. Use the code distributionvar = np.random.distributionname([arguments], 100), replacing distributionvar with an appropriate variable name, and replacing distributionname with the name of the distribution that you've chosen. Fill in the empty space in the parentheses with your chosen values for the appropriate parameters. If you feel uncertain about how to do this, go back to the Other distributions assignment for examples of code to use as a starting point.\n",
        "\n",
        "2) Graph the variable using a histogram.\n",
        "\n",
        "3)Compute the mean and standard deviation and plot them as vertical lines on the histogram.\n",
        "\n",
        "4) Evaluate whether the descriptive statistics provided useful information about the variable. Can you identify any common characteristics of the distributions that could be usefully described using the mean or standard deviation?"
      ]
    },
    {
      "cell_type": "code",
      "metadata": {
        "id": "s1rqHS0IMwk_"
      },
      "source": [
        "import numpy as np\n",
        "import pandas as pd\n",
        "import matplotlib.pyplot as plt\n",
        "%matplotlib inline"
      ],
      "execution_count": null,
      "outputs": []
    },
    {
      "cell_type": "markdown",
      "metadata": {
        "id": "h-u8kqLdNi_p"
      },
      "source": [
        "### 1) Binomial Distribution"
      ]
    },
    {
      "cell_type": "code",
      "metadata": {
        "id": "vX4p8N4xOEnH",
        "colab": {
          "base_uri": "https://localhost:8080/",
          "height": 265
        },
        "outputId": "ee0e153b-71b2-4337-e5bb-532e77b9522b"
      },
      "source": [
        "binomial = np.random.binomial(100,.5,100)\n",
        "\n",
        "#Plot a histogram for binomial\n",
        "plt.hist(binomial, bins=30, color= 'c')\n",
        "\n",
        "# Add a vertical line at the mean.\n",
        "plt.axvline(binomial.mean(), color='b', linestyle='solid', linewidth=2)\n",
        "\n",
        "# Add a vertical line at one standard deviation above the mean.\n",
        "plt.axvline(binomial.mean() + binomial.std(), color='b', linestyle='dashed', linewidth=2)\n",
        "\n",
        "# Add a vertical line at one standard deviation below the mean.\n",
        "plt.axvline(binomial.mean()-binomial.std(), color='b', linestyle='dashed', linewidth=2) \n",
        "\n",
        "# Print the histogram.\n",
        "plt.show()\n",
        "\n"
      ],
      "execution_count": null,
      "outputs": [
        {
          "output_type": "display_data",
          "data": {
            "image/png": "[encoded data removed]",
            "text/plain": [
              "<Figure size 432x288 with 1 Axes>"
            ]
          },
          "metadata": {
            "tags": [],
            "needs_background": "light"
          }
        }
      ]
    },
    {
      "cell_type": "markdown",
      "metadata": {
        "id": "djt9lCZlRGEQ"
      },
      "source": [
        "In the binomial distribution it looks like most of the data falls in the 1st deviation on both sides. The data seems a bit more clustered in the first 50 percentile compared to the later 50 percentile. "
      ]
    },
    {
      "cell_type": "markdown",
      "metadata": {
        "id": "udt4db0_SuSD"
      },
      "source": [
        "###2) Gamma Distribution"
      ]
    },
    {
      "cell_type": "code",
      "metadata": {
        "id": "y5c_CoT4S1gY",
        "colab": {
          "base_uri": "https://localhost:8080/",
          "height": 265
        },
        "outputId": "2402c1a7-6f66-432c-dd79-02135460308a"
      },
      "source": [
        "gamma = np.random.gamma(2.,2.,100)\n",
        "\n",
        "#Plot a histogram for gamma\n",
        "plt.hist(gamma, bins=50, color= 'c')\n",
        "\n",
        "# Add a vertical line at the mean.\n",
        "plt.axvline(gamma.mean(), color='b', linestyle='solid', linewidth=2)\n",
        "\n",
        "# Add a vertical line at one standard deviation above the mean.\n",
        "plt.axvline(gamma.mean() + gamma.std(), color='b', linestyle='dashed', linewidth=2)\n",
        "\n",
        "# Add a vertical line at one standard deviation below the mean.\n",
        "plt.axvline(gamma.mean()-gamma.std(), color='b', linestyle='dashed', linewidth=2) \n",
        "\n",
        "# Print the histogram.\n",
        "plt.show()"
      ],
      "execution_count": null,
      "outputs": [
        {
          "output_type": "display_data",
          "data": {
            "image/png": "[encoded data removed]",
            "text/plain": [
              "<Figure size 432x288 with 1 Axes>"
            ]
          },
          "metadata": {
            "tags": [],
            "needs_background": "light"
          }
        }
      ]
    },
    {
      "cell_type": "markdown",
      "metadata": {
        "id": "rMrrbFOBTkw-"
      },
      "source": [
        "The gamma distribution appears very lopsided with most of the data appearing clustering in the first third of the distribution. "
      ]
    },
    {
      "cell_type": "markdown",
      "metadata": {
        "id": "vkp1APgCTzmP"
      },
      "source": [
        "###3) Lognormal Distribution"
      ]
    },
    {
      "cell_type": "code",
      "metadata": {
        "id": "gTKiqTVIT-Nf",
        "colab": {
          "base_uri": "https://localhost:8080/",
          "height": 278
        },
        "outputId": "b56e1b81-1491-48b1-a1e9-7a95c3222825"
      },
      "source": [
        "lognormal = np.random.lognormal(100,1,100)\n",
        "\n",
        "#Plot a histogram for lognormal\n",
        "plt.hist(lognormal, bins=50, color= 'c')\n",
        "\n",
        "# Add a vertical line at the mean.\n",
        "plt.axvline(lognormal.mean(), color='b', linestyle='solid', linewidth=2)\n",
        "\n",
        "# Add a vertical line at one standard deviation above the mean.\n",
        "plt.axvline(lognormal.mean() + lognormal.std(), color='b', linestyle='dashed', linewidth=2)\n",
        "\n",
        "# Add a vertical line at one standard deviation below the mean.\n",
        "plt.axvline(lognormal.mean()-lognormal.std(), color='b', linestyle='dashed', linewidth=2) \n",
        "\n",
        "# Print the histogram.\n",
        "plt.show()"
      ],
      "execution_count": null,
      "outputs": [
        {
          "output_type": "display_data",
          "data": {
            "image/png": "[encoded data removed]",
            "text/plain": [
              "<Figure size 432x288 with 1 Axes>"
            ]
          },
          "metadata": {
            "tags": [],
            "needs_background": "light"
          }
        }
      ]
    },
    {
      "cell_type": "markdown",
      "metadata": {
        "id": "khZ1TYc7UmPA"
      },
      "source": [
        "Most of the data is clustered in the first third of the lognormal distribution and then is flattens out. "
      ]
    },
    {
      "cell_type": "markdown",
      "metadata": {
        "id": "5ZJGXa93Uvmu"
      },
      "source": [
        "###4) Exponential Distribution"
      ]
    },
    {
      "cell_type": "code",
      "metadata": {
        "id": "5_8oKDcZU6aJ",
        "colab": {
          "base_uri": "https://localhost:8080/",
          "height": 265
        },
        "outputId": "f31cac39-e208-4c68-d8bb-f7339661f057"
      },
      "source": [
        "exp = np.random.exponential(1,100)\n",
        "\n",
        "#Plot a histogram for exp\n",
        "plt.hist(exp, bins=50, color= 'c')\n",
        "\n",
        "# Add a vertical line at the mean.\n",
        "plt.axvline(exp.mean(), color='b', linestyle='solid', linewidth=2)\n",
        "\n",
        "# Add a vertical line at one standard deviation above the mean.\n",
        "plt.axvline(exp.mean() + exp.std(), color='b', linestyle='dashed', linewidth=2)\n",
        "\n",
        "# Add a vertical line at one standard deviation below the mean.\n",
        "plt.axvline(exp.mean()-exp.std(), color='b', linestyle='dashed', linewidth=2) \n",
        "\n",
        "# Print the histogram.\n",
        "plt.show()"
      ],
      "execution_count": null,
      "outputs": [
        {
          "output_type": "display_data",
          "data": {
            "image/png": "[encoded data removed]",
            "text/plain": [
              "<Figure size 432x288 with 1 Axes>"
            ]
          },
          "metadata": {
            "tags": [],
            "needs_background": "light"
          }
        }
      ]
    },
    {
      "cell_type": "markdown",
      "metadata": {
        "id": "Ke8MTK7kVVlf"
      },
      "source": [
        "Most of the data is clustered in the first 10-20 percentile of the distrubition and then it drops off considerably."
      ]
    },
    {
      "cell_type": "markdown",
      "metadata": {
        "id": "BLxfYPfAVc00"
      },
      "source": [
        "###5) Poisson Distribution"
      ]
    },
    {
      "cell_type": "code",
      "metadata": {
        "id": "0yYS8PG6VphG",
        "colab": {
          "base_uri": "https://localhost:8080/",
          "height": 265
        },
        "outputId": "d7c012e0-c5ed-4c0b-b77a-37af27e6bcab"
      },
      "source": [
        "poisson = np.random.poisson(100,100)\n",
        "\n",
        "#Plot a histogram for poisson\n",
        "plt.hist(poisson, bins=50, color= 'c')\n",
        "\n",
        "# Add a vertical line at the mean.\n",
        "plt.axvline(poisson.mean(), color='b', linestyle='solid', linewidth=2)\n",
        "\n",
        "# Add a vertical line at one standard deviation above the mean.\n",
        "plt.axvline(poisson.mean() + poisson.std(), color='b', linestyle='dashed', linewidth=2)\n",
        "\n",
        "# Add a vertical line at one standard deviation below the mean.\n",
        "plt.axvline(poisson.mean()-poisson.std(), color='b', linestyle='dashed', linewidth=2) \n",
        "\n",
        "# Print the histogram.\n",
        "plt.show()"
      ],
      "execution_count": null,
      "outputs": [
        {
          "output_type": "display_data",
          "data": {
            "image/png": "[encoded data removed]",
            "text/plain": [
              "<Figure size 432x288 with 1 Axes>"
            ]
          },
          "metadata": {
            "tags": [],
            "needs_background": "light"
          }
        }
      ]
    },
    {
      "cell_type": "markdown",
      "metadata": {
        "id": "37c1sIqsWFVz"
      },
      "source": [
        "The data in a poisson distribution is skewed heavily towards the mean. The distribution drops off considerably outside +/- the first std. "
      ]
    },
    {
      "cell_type": "markdown",
      "metadata": {
        "id": "kYalh9l-WOkV"
      },
      "source": [
        "###6) Rayleigh Distribution"
      ]
    },
    {
      "cell_type": "code",
      "metadata": {
        "id": "G66D2WShWVCg",
        "colab": {
          "base_uri": "https://localhost:8080/",
          "height": 265
        },
        "outputId": "e350ece0-3435-4852-dfd7-c66d0ddbfd4e"
      },
      "source": [
        "rayleigh = np.random.rayleigh(1,100)\n",
        "\n",
        "#Plot a histogram for rayleigh\n",
        "plt.hist(rayleigh, bins=50, color= 'c')\n",
        "\n",
        "# Add a vertical line at the mean.\n",
        "plt.axvline(rayleigh.mean(), color='b', linestyle='solid', linewidth=2)\n",
        "\n",
        "# Add a vertical line at one standard deviation above the mean.\n",
        "plt.axvline(rayleigh.mean() + rayleigh.std(), color='b', linestyle='dashed', linewidth=2)\n",
        "\n",
        "# Add a vertical line at one standard deviation below the mean.\n",
        "plt.axvline(rayleigh.mean()-rayleigh.std(), color='b', linestyle='dashed', linewidth=2) \n",
        "\n",
        "# Print the histogram.\n",
        "plt.show()"
      ],
      "execution_count": null,
      "outputs": [
        {
          "output_type": "display_data",
          "data": {
            "image/png": "[encoded data removed]",
            "text/plain": [
              "<Figure size 432x288 with 1 Axes>"
            ]
          },
          "metadata": {
            "tags": [],
            "needs_background": "light"
          }
        }
      ]
    },
    {
      "cell_type": "markdown",
      "metadata": {
        "id": "QcDlARuTXkwm"
      },
      "source": [
        "The rayleigh distribution looks close to a normal distribution, but slightly skewed towards the first third of the data. "
      ]
    },
    {
      "cell_type": "markdown",
      "metadata": {
        "id": "8ab1PBQ-MneI"
      },
      "source": [
        "#Additionally, do the following:\n",
        "\n",
        "1) Generate two normally distributed variables, one with a mean of 5 and a standard deviation of 0.5, and the other with a mean of 10 and a standard deviation of 1.\n",
        "\n",
        "2) Add them together to create a third variable.\n",
        "\n",
        "3) Graph the third variable using a histogram.\n",
        "\n",
        "4) Compute the mean and standard deviation and plot them as vertical lines on the histogram.\n",
        "\n",
        "5) Evaluate the descriptive statistics against the data."
      ]
    },
    {
      "cell_type": "code",
      "metadata": {
        "id": "xLvbfT9qYCbn",
        "colab": {
          "base_uri": "https://localhost:8080/",
          "height": 265
        },
        "outputId": "39ef8789-b5c4-4aca-d61d-0c1567d0a27a"
      },
      "source": [
        "normal_1 = np.random.normal(5,.5, 100)\n",
        "normal_2 = np.random.normal(10,1, 100)\n",
        "normal_3 = normal_1 + normal_2\n",
        "\n",
        "#Plot a histogram for normal_3\n",
        "plt.hist(normal_3, bins=50, color= 'c')\n",
        "\n",
        "# Add a vertical line at the mean.\n",
        "plt.axvline(normal_3.mean(), color='b', linestyle='solid', linewidth=2)\n",
        "\n",
        "# Add a vertical line at one standard deviation above the mean.\n",
        "plt.axvline(normal_3.mean() + normal_3.std(), color='b', linestyle='dashed', linewidth=2)\n",
        "\n",
        "# Add a vertical line at one standard deviation below the mean.\n",
        "plt.axvline(normal_3.mean()-normal_3.std(), color='b', linestyle='dashed', linewidth=2) \n",
        "\n",
        "# Print the histogram.\n",
        "plt.show()"
      ],
      "execution_count": null,
      "outputs": [
        {
          "output_type": "display_data",
          "data": {
            "image/png": "[encoded data removed]",
            "text/plain": [
              "<Figure size 432x288 with 1 Axes>"
            ]
          },
          "metadata": {
            "tags": [],
            "needs_background": "light"
          }
        }
      ]
    },
    {
      "cell_type": "markdown",
      "metadata": {
        "id": "rL1-5A7MaVBz"
      },
      "source": [
        "The mean is not exactly at 15.0 as expected, but is very close. The distribution seems slightly-off centered than expected. This could be a result of randomness. The std is expected given the mean. "
      ]
    }
  ]
}