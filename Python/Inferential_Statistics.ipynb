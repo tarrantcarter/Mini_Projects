{
  "nbformat": 4,
  "nbformat_minor": 0,
  "metadata": {
    "kernelspec": {
      "display_name": "Python 3",
      "language": "python",
      "name": "python3"
    },
    "language_info": {
      "codemirror_mode": {
        "name": "ipython",
        "version": 3
      },
      "file_extension": ".py",
      "mimetype": "text/x-python",
      "name": "python",
      "nbconvert_exporter": "python",
      "pygments_lexer": "ipython3",
      "version": "3.7.6"
    },
    "colab": {
      "name": "Inferential Statistics.ipynb",
      "provenance": [],
      "collapsed_sections": []
    }
  },
  "cells": [
    {
      "cell_type": "markdown",
      "metadata": {
        "id": "tB7WmBX-E-Hi"
      },
      "source": [
        "# Inferential Statistics"
      ]
    },
    {
      "cell_type": "code",
      "metadata": {
        "id": "WzNb9xULE-Hk",
        "colab": {
          "base_uri": "https://localhost:8080/",
          "height": 72
        },
        "outputId": "a03029fb-c17f-4aa2-f953-52279d5ced4e"
      },
      "source": [
        "import numpy as np\n",
        "import pandas as pd\n",
        "import seaborn as sns\n",
        "import matplotlib.pyplot as plt\n",
        "import warnings\n",
        "\n",
        "warnings.filterwarnings('ignore')\n",
        "\n",
        "%matplotlib inline"
      ],
      "execution_count": null,
      "outputs": [
        {
          "output_type": "stream",
          "text": [
            "/usr/local/lib/python3.6/dist-packages/statsmodels/tools/_testing.py:19: FutureWarning: pandas.util.testing is deprecated. Use the functions in the public API at pandas.testing instead.\n",
            "  import pandas.util.testing as tm\n"
          ],
          "name": "stderr"
        }
      ]
    },
    {
      "cell_type": "code",
      "metadata": {
        "id": "GUFlYOZ7GXta"
      },
      "source": [
        "# use credit card fraud dataset\n",
        "data_url = 'https://raw.githubusercontent.com/Thinkful-Ed/data-science-lectures/master/credit_card_fraud.csv'"
      ],
      "execution_count": null,
      "outputs": []
    },
    {
      "cell_type": "markdown",
      "metadata": {
        "id": "BebNLQKJE-Ho"
      },
      "source": [
        "### Read the credit card fraud dataset into a Pandas data frame."
      ]
    },
    {
      "cell_type": "code",
      "metadata": {
        "id": "SS5cvl_EE-Hp",
        "colab": {
          "base_uri": "https://localhost:8080/",
          "height": 202
        },
        "outputId": "d4f7ed25-ce4f-4b16-c0dd-6b9f8e77a9db"
      },
      "source": [
        "data = pd.read_csv(data_url)\n",
        "data.head()"
      ],
      "execution_count": null,
      "outputs": [
        {
          "output_type": "execute_result",
          "data": {
            "text/html": [
              "<div>\n",
              "<style scoped>\n",
              "    .dataframe tbody tr th:only-of-type {\n",
              "        vertical-align: middle;\n",
              "    }\n",
              "\n",
              "    .dataframe tbody tr th {\n",
              "        vertical-align: top;\n",
              "    }\n",
              "\n",
              "    .dataframe thead th {\n",
              "        text-align: right;\n",
              "    }\n",
              "</style>\n",
              "<table border=\"1\" class=\"dataframe\">\n",
              "  <thead>\n",
              "    <tr style=\"text-align: right;\">\n",
              "      <th></th>\n",
              "      <th>transaction</th>\n",
              "      <th>type</th>\n",
              "      <th>amount</th>\n",
              "      <th>nameOrig</th>\n",
              "      <th>oldbalanceOrg</th>\n",
              "      <th>newbalanceOrig</th>\n",
              "      <th>nameDest</th>\n",
              "      <th>oldbalanceDest</th>\n",
              "      <th>newbalanceDest</th>\n",
              "      <th>isFraud</th>\n",
              "    </tr>\n",
              "  </thead>\n",
              "  <tbody>\n",
              "    <tr>\n",
              "      <th>0</th>\n",
              "      <td>1</td>\n",
              "      <td>DEBIT</td>\n",
              "      <td>7414.00</td>\n",
              "      <td>C446504763</td>\n",
              "      <td>151707.00</td>\n",
              "      <td>144293.00</td>\n",
              "      <td>C1854925027</td>\n",
              "      <td>39000000.0</td>\n",
              "      <td>39900000.0</td>\n",
              "      <td>0</td>\n",
              "    </tr>\n",
              "    <tr>\n",
              "      <th>1</th>\n",
              "      <td>2</td>\n",
              "      <td>DEBIT</td>\n",
              "      <td>2899.20</td>\n",
              "      <td>C757752441</td>\n",
              "      <td>0.00</td>\n",
              "      <td>0.00</td>\n",
              "      <td>C1854925027</td>\n",
              "      <td>39000000.0</td>\n",
              "      <td>39000000.0</td>\n",
              "      <td>0</td>\n",
              "    </tr>\n",
              "    <tr>\n",
              "      <th>2</th>\n",
              "      <td>3</td>\n",
              "      <td>CASH_OUT</td>\n",
              "      <td>17447.35</td>\n",
              "      <td>C1004533006</td>\n",
              "      <td>0.00</td>\n",
              "      <td>0.00</td>\n",
              "      <td>C1620573488</td>\n",
              "      <td>34400000.0</td>\n",
              "      <td>35000000.0</td>\n",
              "      <td>0</td>\n",
              "    </tr>\n",
              "    <tr>\n",
              "      <th>3</th>\n",
              "      <td>4</td>\n",
              "      <td>CASH_OUT</td>\n",
              "      <td>477.53</td>\n",
              "      <td>C23579491</td>\n",
              "      <td>0.00</td>\n",
              "      <td>0.00</td>\n",
              "      <td>C356023140</td>\n",
              "      <td>33800000.0</td>\n",
              "      <td>33800000.0</td>\n",
              "      <td>0</td>\n",
              "    </tr>\n",
              "    <tr>\n",
              "      <th>4</th>\n",
              "      <td>5</td>\n",
              "      <td>CASH_IN</td>\n",
              "      <td>18184.97</td>\n",
              "      <td>C861745646</td>\n",
              "      <td>6101058.91</td>\n",
              "      <td>6119243.88</td>\n",
              "      <td>C356023140</td>\n",
              "      <td>33800000.0</td>\n",
              "      <td>33800000.0</td>\n",
              "      <td>0</td>\n",
              "    </tr>\n",
              "  </tbody>\n",
              "</table>\n",
              "</div>"
            ],
            "text/plain": [
              "   transaction      type    amount  ... oldbalanceDest  newbalanceDest  isFraud\n",
              "0            1     DEBIT   7414.00  ...     39000000.0      39900000.0        0\n",
              "1            2     DEBIT   2899.20  ...     39000000.0      39000000.0        0\n",
              "2            3  CASH_OUT  17447.35  ...     34400000.0      35000000.0        0\n",
              "3            4  CASH_OUT    477.53  ...     33800000.0      33800000.0        0\n",
              "4            5   CASH_IN  18184.97  ...     33800000.0      33800000.0        0\n",
              "\n",
              "[5 rows x 10 columns]"
            ]
          },
          "metadata": {
            "tags": []
          },
          "execution_count": 3
        }
      ]
    },
    {
      "cell_type": "markdown",
      "metadata": {
        "id": "Ez9lcwpJE-Hs"
      },
      "source": [
        "### Generate a histogram that shows the data distribution of the \"amount\" field in the data."
      ]
    },
    {
      "cell_type": "markdown",
      "metadata": {
        "id": "skr1wwCMMggQ"
      },
      "source": [
        ""
      ]
    },
    {
      "cell_type": "code",
      "metadata": {
        "id": "Y7zyEYj8E-Hs",
        "colab": {
          "base_uri": "https://localhost:8080/",
          "height": 308
        },
        "outputId": "21f6885d-97f7-4ea8-e4ed-eda0e2d20792"
      },
      "source": [
        "sns.distplot(data[\"amount\"])"
      ],
      "execution_count": null,
      "outputs": [
        {
          "output_type": "execute_result",
          "data": {
            "text/plain": [
              "<matplotlib.axes._subplots.AxesSubplot at 0x7fddce5359b0>"
            ]
          },
          "metadata": {
            "tags": []
          },
          "execution_count": 4
        },
        {
          "output_type": "display_data",
          "data": {
            "image/png": "[encoded data removed]",
            "text/plain": [
              "<Figure size 432x288 with 1 Axes>"
            ]
          },
          "metadata": {
            "tags": [],
            "needs_background": "light"
          }
        }
      ]
    },
    {
      "cell_type": "markdown",
      "metadata": {
        "id": "H36sNQHVE-Hu"
      },
      "source": [
        "### Randomly sample with replacement 1,000 records from the data set and calculate the mean of the \"amount\" field.\n",
        "\n",
        "Run the cell a few times and see how the mean changes based on the records that are sampled."
      ]
    },
    {
      "cell_type": "code",
      "metadata": {
        "id": "D_-cS2rcE-Hv",
        "colab": {
          "base_uri": "https://localhost:8080/",
          "height": 34
        },
        "outputId": "8084d1d2-c156-4ed9-fdbe-fdc400c09c8b"
      },
      "source": [
        "amount_mean = [data.sample(len(data), replace = True)['amount'].mean() for i in range(1000)]\n",
        "\n",
        "def Average(lst): \n",
        "    return sum(lst) / len(lst) \n",
        "\n",
        "average = Average(amount_mean)     \n",
        "average"
      ],
      "execution_count": null,
      "outputs": [
        {
          "output_type": "execute_result",
          "data": {
            "text/plain": [
              "9240.676301045896"
            ]
          },
          "metadata": {
            "tags": []
          },
          "execution_count": 5
        }
      ]
    },
    {
      "cell_type": "code",
      "metadata": {
        "id": "bo_dAj4aydzw",
        "colab": {
          "base_uri": "https://localhost:8080/",
          "height": 282
        },
        "outputId": "a1e90622-4d01-491f-caae-bc3b94b8395b"
      },
      "source": [
        "sns.distplot(amount_mean)"
      ],
      "execution_count": null,
      "outputs": [
        {
          "output_type": "execute_result",
          "data": {
            "text/plain": [
              "<matplotlib.axes._subplots.AxesSubplot at 0x7fddcdf82240>"
            ]
          },
          "metadata": {
            "tags": []
          },
          "execution_count": 6
        },
        {
          "output_type": "display_data",
          "data": {
            "image/png": "[encoded data removed]",
            "text/plain": [
              "<Figure size 432x288 with 1 Axes>"
            ]
          },
          "metadata": {
            "tags": [],
            "needs_background": "light"
          }
        }
      ]
    },
    {
      "cell_type": "markdown",
      "metadata": {
        "id": "W_1XLrOZE-Hy"
      },
      "source": [
        "### Bootstrap a sampling distribution for the \"amount\" field means and generate a histogram showing the distribution of values.\n",
        "\n",
        "- Generate one sampling distribution using 1,000 samples of size 1,000.\n",
        "- Generate another sampling distribution using 5,000 samples that are each the size of the original data set.\n",
        "- Note the differences between the two sampling distributions."
      ]
    },
    {
      "cell_type": "code",
      "metadata": {
        "id": "UaUSpL9fE-Hz",
        "colab": {
          "base_uri": "https://localhost:8080/",
          "height": 34
        },
        "outputId": "bb604369-9ec5-45e3-dda5-86e7bdde4f64"
      },
      "source": [
        "amount_mean = [data.sample(len(data), replace = True)['amount'].mean() for i in range(1000)]\n",
        "\n",
        "def Average(lst): \n",
        "    return sum(lst) / len(lst) \n",
        "\n",
        "average = Average(amount_mean)     \n",
        "average\n",
        "\n"
      ],
      "execution_count": null,
      "outputs": [
        {
          "output_type": "execute_result",
          "data": {
            "text/plain": [
              "9238.354081167974"
            ]
          },
          "metadata": {
            "tags": []
          },
          "execution_count": 7
        }
      ]
    },
    {
      "cell_type": "code",
      "metadata": {
        "id": "o-40svBzz_1_",
        "colab": {
          "base_uri": "https://localhost:8080/",
          "height": 284
        },
        "outputId": "f86a77a0-cd37-4938-b8c7-2bef0f500205"
      },
      "source": [
        "sns.distplot(amount_mean)"
      ],
      "execution_count": null,
      "outputs": [
        {
          "output_type": "execute_result",
          "data": {
            "text/plain": [
              "<matplotlib.axes._subplots.AxesSubplot at 0x7fddcdf53eb8>"
            ]
          },
          "metadata": {
            "tags": []
          },
          "execution_count": 8
        },
        {
          "output_type": "display_data",
          "data": {
            "image/png": "[encoded data removed]",
            "text/plain": [
              "<Figure size 432x288 with 1 Axes>"
            ]
          },
          "metadata": {
            "tags": [],
            "needs_background": "light"
          }
        }
      ]
    },
    {
      "cell_type": "markdown",
      "metadata": {
        "id": "Q3rc9iRKE-H1"
      },
      "source": [
        "### Use Bayesian inference to construct a model that generates the posterior distribution showing the likely range of credit card fraud rates that may have resulted in the observed amount of fraud we see in the data. Hint: You'll want to look at the \"isFraud\" and \"transaction\" fields to help you."
      ]
    },
    {
      "cell_type": "code",
      "metadata": {
        "id": "zlbjOoCNE-H1",
        "colab": {
          "base_uri": "https://localhost:8080/",
          "height": 286
        },
        "outputId": "d4d02fa7-5fa8-4958-ea3b-9612f2746b9d"
      },
      "source": [
        "observed = data[data[\"isFraud\"] == 1]['transaction'].values[0]\n",
        "transactions = len(data)\n",
        "observed_fraud = observed / transactions\n",
        "\n",
        "results = []\n",
        "\n",
        "for i in range(100000):\n",
        "  param = np.random.random()\n",
        "  result = np.random.binomial(transactions, param)\n",
        "\n",
        "  if result == observed:\n",
        "    results.append(param)\n",
        "\n",
        "sns.distplot(results)    "
      ],
      "execution_count": null,
      "outputs": [
        {
          "output_type": "execute_result",
          "data": {
            "text/plain": [
              "<matplotlib.axes._subplots.AxesSubplot at 0x7fddcde8e710>"
            ]
          },
          "metadata": {
            "tags": []
          },
          "execution_count": 9
        },
        {
          "output_type": "display_data",
          "data": {
            "image/png": "[encoded data removed]",
            "text/plain": [
              "<Figure size 432x288 with 1 Axes>"
            ]
          },
          "metadata": {
            "tags": [],
            "needs_background": "light"
          }
        }
      ]
    }
  ]
}