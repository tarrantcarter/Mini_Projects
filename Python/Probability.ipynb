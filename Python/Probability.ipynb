{
  "nbformat": 4,
  "nbformat_minor": 0,
  "metadata": {
    "colab": {
      "name": "Probability.ipynb",
      "provenance": []
    },
    "kernelspec": {
      "name": "python3",
      "display_name": "Python 3"
    }
  },
  "cells": [
    {
      "cell_type": "markdown",
      "metadata": {
        "id": "8a9vHvQQ8Ls2"
      },
      "source": [
        "![Screen Shot 2020-09-09 at 5.15.58 PM.png](data:image/png;base64,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)"
      ]
    },
    {
      "cell_type": "code",
      "metadata": {
        "id": "CB2DmCC283pW",
        "colab": {
          "base_uri": "https://localhost:8080/",
          "height": 34
        },
        "outputId": "a3fb7806-b155-4c1c-d6c1-75e929d4cbd6"
      },
      "source": [
        "true_positive = .98\n",
        "false_positive = .10\n",
        "disease_pop_prob = .005\n",
        "non_disease_pop_prob = 1-disease_pop_prob\n",
        "\n",
        "chance_of_pos_test = (false_positive*non_disease_pop_prob) + (true_positive*disease_pop_prob)\n",
        "chance_of_pos_test"
      ],
      "execution_count": null,
      "outputs": [
        {
          "output_type": "execute_result",
          "data": {
            "text/plain": [
              "0.1044"
            ]
          },
          "metadata": {
            "tags": []
          },
          "execution_count": 7
        }
      ]
    },
    {
      "cell_type": "code",
      "metadata": {
        "id": "IdDB2ZuxH98t",
        "colab": {
          "base_uri": "https://localhost:8080/",
          "height": 34
        },
        "outputId": "eb7befac-af40-49c6-97c4-2080c63c24cf"
      },
      "source": [
        "misidentify_chance = (false_positive*non_disease_pop_prob) + ((1-true_positive)*disease_pop_prob)\n",
        "misidentify_chance"
      ],
      "execution_count": null,
      "outputs": [
        {
          "output_type": "execute_result",
          "data": {
            "text/plain": [
              "0.09960000000000001"
            ]
          },
          "metadata": {
            "tags": []
          },
          "execution_count": 8
        }
      ]
    },
    {
      "cell_type": "markdown",
      "metadata": {
        "id": "bYjj9sAv7YoV"
      },
      "source": [
        ""
      ]
    }
  ]
}