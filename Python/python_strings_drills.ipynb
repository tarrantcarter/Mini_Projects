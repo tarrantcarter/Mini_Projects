{
  "nbformat": 4,
  "nbformat_minor": 0,
  "metadata": {
    "kernelspec": {
      "display_name": "Python 3",
      "language": "python",
      "name": "python3"
    },
    "language_info": {
      "codemirror_mode": {
        "name": "ipython",
        "version": 3
      },
      "file_extension": ".py",
      "mimetype": "text/x-python",
      "name": "python",
      "nbconvert_exporter": "python",
      "pygments_lexer": "ipython3",
      "version": "3.7.0"
    },
    "colab": {
      "name": "python_strings_drills.ipynb",
      "provenance": []
    }
  },
  "cells": [
    {
      "cell_type": "markdown",
      "metadata": {
        "id": "aZ-wKgxWshHs"
      },
      "source": [
        "## 1: Hello world\n",
        "\n",
        "Create a function called `hello` that takes one argument (`person`, a string) and returns a string saying hello to that person. The result should be formatted so that when you call the function like this:\n",
        "\n",
        "```python\n",
        "hello('Moon')\n",
        "```\n",
        "\n",
        "you return a string that looks like this:\n",
        "\n",
        "```python\n",
        "'Hello, Moon'\n",
        "```"
      ]
    },
    {
      "cell_type": "code",
      "metadata": {
        "id": "CKsEzTrMshHt",
        "colab": {
          "base_uri": "https://localhost:8080/",
          "height": 34
        },
        "outputId": "7648b823-fa9a-4894-ab09-f087068f7bdd"
      },
      "source": [
        "# your code here\n",
        "def hello(person):\n",
        "  print(f\"Hello, {person}\")\n",
        "\n",
        "\n",
        "hello(\"Tarrant\")"
      ],
      "execution_count": null,
      "outputs": [
        {
          "output_type": "stream",
          "text": [
            "Hello, Tarrant\n"
          ],
          "name": "stdout"
        }
      ]
    },
    {
      "cell_type": "markdown",
      "metadata": {
        "id": "Bj2u1rvPshHx"
      },
      "source": [
        "<br>\n",
        "\n",
        "## 2: Quotable\n",
        "\n",
        "1. [Quotable](https://www.codewars.com/kata/thinkful-string-drills-quotable/)\n",
        "\n",
        "Create a function called `quotable` that takes a person's name as a parameter called `name` and a quote of theirs as a parameter called `quote`, and return a string attributing the quote to the person in the following format:\n",
        "\n",
        "```\n",
        "'[name] said: \"[quote]\"'\n",
        "```\n",
        "\n",
        "For example, if name is 'Grae' and 'quote' is 'Practice makes perfect' then your function should return the string\n",
        "\n",
        "'Grae said: \"Practice makes perfect\"'\n",
        "Unfortunately, something is wrong with the instructions in the function body. Your job is to fix it so the function returns correctly formatted quotes.\n",
        "\n",
        "Be careful with your quotation marks!"
      ]
    },
    {
      "cell_type": "code",
      "metadata": {
        "id": "5gfBmAzswiZd",
        "colab": {
          "base_uri": "https://localhost:8080/",
          "height": 34
        },
        "outputId": "72d6dbe7-d38c-4065-e831-9298111b4464"
      },
      "source": [
        "def quotable(name, quote):\n",
        "  print(f\"{name} said: \\\"{quote}\\\"\")\n",
        "\n",
        "quotable(\"Baron\", \"play better\")  "
      ],
      "execution_count": null,
      "outputs": [
        {
          "output_type": "stream",
          "text": [
            "Baron said: \"play better\"\n"
          ],
          "name": "stdout"
        }
      ]
    },
    {
      "cell_type": "markdown",
      "metadata": {
        "id": "JUG4I32fshHy"
      },
      "source": [
        "## 3: Jedi name\n",
        "\n",
        "You just took a contract with the Jedi council. They need you to write a function, greet_jedi(), which takes two arguments (a first name and a last name), works out the corresponding Jedi name, and returns a string greeting the Jedi.\n",
        "\n",
        "A person's Jedi name is the first three letters of their last name followed by the first two letters of their first name. For example:\n",
        "\n",
        "```\n",
        ">>> greet_jedi('Beyonce', 'Knowles')\n",
        "'Greetings, master KnoBe'\n",
        "```\n",
        "\n",
        "Note the capitalization: the first letter of each name is capitalized. Your input may or may not be capitalized. Your function should handle it and return the Jedi name in the correct case no matter what case the input is in:\n",
        "\n",
        "```\n",
        ">>> greet_jedi('grae', 'drake')\n",
        "'Greetings, master DraGr'\n",
        "```"
      ]
    },
    {
      "cell_type": "code",
      "metadata": {
        "id": "k7oXwmFfxqrO",
        "colab": {
          "base_uri": "https://localhost:8080/",
          "height": 34
        },
        "outputId": "ad074daf-271c-45c8-92de-e00a99a6b704"
      },
      "source": [
        "def greet_jedi(first_name, last_name):\n",
        "  first_half_jedi_name = last_name[:3].capitalize() \n",
        "  second_half_jedi_name = first_name[:2].capitalize()\n",
        "  jedi_name = first_half_jedi_name + second_half_jedi_name \n",
        "  print(f\"Greetings, master {jedi_name}\")\n",
        "\n",
        "greet_jedi(\"Tarrant\", \"Carter\")"
      ],
      "execution_count": null,
      "outputs": [
        {
          "output_type": "stream",
          "text": [
            "Greetings, master CarTa\n"
          ],
          "name": "stdout"
        }
      ]
    },
    {
      "cell_type": "markdown",
      "metadata": {
        "id": "9NJWbJMlshHz"
      },
      "source": [
        "## 4: Poem formatter\n",
        "\n",
        "You have a collection of lovely poems. Unfortuantely they aren't formatted very well. They're all on one line, like this:\n",
        "\n",
        "```\n",
        "Beautiful is better than ugly. Explicit is better than implicit. Simple is better than complex. Complex is better than complicated.\n",
        "```\n",
        "\n",
        "What you want is to present each sentence on a new line, so that it looks like this:\n",
        "\n",
        "```\n",
        "Beautiful is better than ugly.\n",
        "Explicit is better than implicit.\n",
        "Simple is better than complex.\n",
        "Complex is better than complicated.\n",
        "```\n",
        "\n",
        "Write a function called `format_poem` that takes a string like the one-line example as an argument and returns a new string that is formatted across multiple lines with each new sentence starting on a new line when you print it out.\n",
        "\n",
        "Hint: You may find the `str.split()` and the `str.join()` string methods to be helpful.\n",
        "\n",
        "Every sentence will end with a period, and every new sentence will have one space before the previous period. Be careful about trailing whitespace in your solution."
      ]
    },
    {
      "cell_type": "code",
      "metadata": {
        "id": "QSy_q0X0shHz",
        "colab": {
          "base_uri": "https://localhost:8080/",
          "height": 86
        },
        "outputId": "9ca56b3c-14bf-4c02-e06b-b5949275e35e"
      },
      "source": [
        "# your code here\n",
        "def format_poem(poem):\n",
        "  poem_split = poem.split(\". \")\n",
        "  join_poem = \". \\n\".join(poem_split)\n",
        "  print(join_poem)\n",
        "\n",
        "\n",
        "new_poem = format_poem(\"Beautiful is better than ugly. Explicit is better than implicit. Simple is better than complex. Complex is better than complicated.\") \n"
      ],
      "execution_count": null,
      "outputs": [
        {
          "output_type": "stream",
          "text": [
            "Beautiful is better than ugly. \n",
            "Explicit is better than implicit. \n",
            "Simple is better than complex. \n",
            "Complex is better than complicated.\n"
          ],
          "name": "stdout"
        }
      ]
    }
  ]
}