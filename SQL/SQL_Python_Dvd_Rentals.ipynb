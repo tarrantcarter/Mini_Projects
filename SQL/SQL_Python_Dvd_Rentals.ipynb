{
  "nbformat": 4,
  "nbformat_minor": 0,
  "metadata": {
    "colab": {
      "name": "SQL_Python_Dvd_Rentals.ipynb",
      "provenance": [],
      "collapsed_sections": []
    },
    "kernelspec": {
      "name": "python3",
      "display_name": "Python 3"
    }
  },
  "cells": [
    {
      "cell_type": "code",
      "metadata": {
        "id": "z_TU0P6MTN6k",
        "colab": {
          "base_uri": "https://localhost:8080/",
          "height": 52
        },
        "outputId": "200ccb73-b662-44f1-caec-aab3908ba3d3"
      },
      "source": [
        "#!pip install sqlalchemy\n",
        "#!pip install psycopg2"
      ],
      "execution_count": null,
      "outputs": [
        {
          "output_type": "stream",
          "text": [
            "Requirement already satisfied: sqlalchemy in /usr/local/lib/python3.6/dist-packages (1.3.19)\n",
            "Requirement already satisfied: psycopg2 in /usr/local/lib/python3.6/dist-packages (2.7.6.1)\n"
          ],
          "name": "stdout"
        }
      ]
    },
    {
      "cell_type": "code",
      "metadata": {
        "id": "d3tM0qAMTsvd"
      },
      "source": [
        "from sqlalchemy import create_engine"
      ],
      "execution_count": null,
      "outputs": []
    },
    {
      "cell_type": "code",
      "metadata": {
        "id": "LIOaKKQdT34i",
        "colab": {
          "base_uri": "https://localhost:8080/",
          "height": 72
        },
        "outputId": "dce368b3-81f2-4e78-b5f0-0631418fc12c"
      },
      "source": [
        "\n",
        "user = 'dsbc_student'\n",
        "pwd = '7*.8G9QH21'\n",
        "host = '142.93.121.174'\n",
        "port = '5432'\n",
        "db = 'dvdrentals'\n",
        "\n",
        "engine = create_engine('postgresql://' + user + ':' + pwd + \n",
        "                       '@' + host + ':' + port + '/' + db)"
      ],
      "execution_count": null,
      "outputs": [
        {
          "output_type": "stream",
          "text": [
            "/usr/local/lib/python3.6/dist-packages/psycopg2/__init__.py:144: UserWarning: The psycopg2 wheel package will be renamed from release 2.8; in order to keep installing from binary please use \"pip install psycopg2-binary\" instead. For details see: <http://initd.org/psycopg/docs/install.html#binary-install-from-pypi>.\n",
            "  \"\"\")\n"
          ],
          "name": "stderr"
        }
      ]
    },
    {
      "cell_type": "code",
      "metadata": {
        "id": "KSta0bgGZK3p",
        "colab": {
          "base_uri": "https://localhost:8080/",
          "height": 260
        },
        "outputId": "e65e898e-de55-4572-df2c-551faa444a94"
      },
      "source": [
        "movies = engine.execute('SELECT * FROM film LIMIT 10')\n",
        "\n",
        "engine.dispose()\n",
        "\n",
        "rows = movies.fetchall()\n",
        "\n",
        "first_row = rows[0]\n",
        "\n",
        "first_row.keys()  \n"
      ],
      "execution_count": null,
      "outputs": [
        {
          "output_type": "execute_result",
          "data": {
            "text/plain": [
              "['film_id',\n",
              " 'title',\n",
              " 'description',\n",
              " 'release_year',\n",
              " 'language_id',\n",
              " 'original_language_id',\n",
              " 'rental_duration',\n",
              " 'rental_rate',\n",
              " 'length',\n",
              " 'replacement_cost',\n",
              " 'rating',\n",
              " 'last_update',\n",
              " 'special_features',\n",
              " 'fulltext']"
            ]
          },
          "metadata": {
            "tags": []
          },
          "execution_count": 38
        }
      ]
    },
    {
      "cell_type": "markdown",
      "metadata": {
        "id": "xszs5U0WWqMr"
      },
      "source": [
        "###How many movies are released for each rating?"
      ]
    },
    {
      "cell_type": "code",
      "metadata": {
        "id": "9emNcoQdWoMv",
        "colab": {
          "base_uri": "https://localhost:8080/",
          "height": 104
        },
        "outputId": "4b4582e4-a874-4d19-cc79-f14c2ed1af4c"
      },
      "source": [
        "movies = engine.execute('SELECT rating, COUNT(*) \\\n",
        "  FROM film \\\n",
        "  GROUP BY rating \\\n",
        "  LIMIT 10')\n",
        "\n",
        "engine.dispose()\n",
        "\n",
        "rows = movies.fetchall()\n",
        "\n",
        "for row in rows:\n",
        "  print(row)"
      ],
      "execution_count": null,
      "outputs": [
        {
          "output_type": "stream",
          "text": [
            "('R', 195)\n",
            "('NC-17', 210)\n",
            "('PG', 194)\n",
            "('PG-13', 223)\n",
            "('G', 178)\n"
          ],
          "name": "stdout"
        }
      ]
    },
    {
      "cell_type": "markdown",
      "metadata": {
        "id": "pJFCM0phg9qz"
      },
      "source": [
        "###What is the average rental duration for each rating?"
      ]
    },
    {
      "cell_type": "code",
      "metadata": {
        "id": "UyGvuFaHg-0N",
        "colab": {
          "base_uri": "https://localhost:8080/",
          "height": 104
        },
        "outputId": "4fd4b6bf-67f4-4b9e-a8ea-d8c41a9f34c0"
      },
      "source": [
        "movies = engine.execute('SELECT rating, ROUND(AVG(rental_duration),2) \\\n",
        "  FROM film \\\n",
        "  GROUP BY rating;')\n",
        "\n",
        "engine.dispose()\n",
        "\n",
        "rows = movies.fetchall()\n",
        "\n",
        "for row in rows:\n",
        "  print(row)"
      ],
      "execution_count": null,
      "outputs": [
        {
          "output_type": "stream",
          "text": [
            "('R', Decimal('4.77'))\n",
            "('NC-17', Decimal('5.14'))\n",
            "('PG', Decimal('5.08'))\n",
            "('PG-13', Decimal('5.05'))\n",
            "('G', Decimal('4.84'))\n"
          ],
          "name": "stdout"
        }
      ]
    },
    {
      "cell_type": "markdown",
      "metadata": {
        "id": "IEg1ybIahxaS"
      },
      "source": [
        "###What is the mean movie length? Calculate this by defining a function."
      ]
    },
    {
      "cell_type": "code",
      "metadata": {
        "id": "moFTxTC6iSjA"
      },
      "source": [
        "sql = ('SELECT length FROM film;')\n",
        "\n",
        "length = engine.execute(sql)\n",
        "engine.dispose()\n",
        "\n",
        "rows = length.fetchall()\n",
        "\n",
        "length = [x['length'] for x in rows]"
      ],
      "execution_count": null,
      "outputs": []
    },
    {
      "cell_type": "code",
      "metadata": {
        "id": "-JKbanqYhzyG",
        "colab": {
          "base_uri": "https://localhost:8080/",
          "height": 34
        },
        "outputId": "e7b4475a-cc82-470a-9af3-6d0da1a5f0d2"
      },
      "source": [
        "# A simple implementation simply iterating the array\n",
        "def mean(numbers):\n",
        "  total_sum = 0;  # initialize the sum to zero\n",
        "  for n in numbers:\n",
        "    total_sum += n # add up the numbers in the array\n",
        "  count = len(numbers)   # find the length of the array\n",
        "  avg = total_sum / count  # calculate the mean\n",
        "  return avg  # return the result\n",
        "\n",
        "print('The mean of the movie length is {} minutes'.format(mean(length)))"
      ],
      "execution_count": null,
      "outputs": [
        {
          "output_type": "stream",
          "text": [
            "The mean of the movie length is 115.272\n"
          ],
          "name": "stdout"
        }
      ]
    },
    {
      "cell_type": "markdown",
      "metadata": {
        "id": "Rx2kfLIpi-9r"
      },
      "source": [
        "###What is the median movie length? Calculate this by defining a function."
      ]
    },
    {
      "cell_type": "code",
      "metadata": {
        "id": "JN7GzoDpjD36",
        "colab": {
          "base_uri": "https://localhost:8080/",
          "height": 34
        },
        "outputId": "9e069621-e492-4c06-b603-e4f4119b9fc4"
      },
      "source": [
        "import math\n",
        "\n",
        "def median(numbers):\n",
        "  numbers.sort()  # sort the list of numbers\n",
        "  count = len(numbers) # get the length of the array\n",
        "  isEven = count % 2 == 0 # check if this list is of even length\n",
        "  \n",
        "  if (isEven):\n",
        "    # find the two numbers in the middle of the array\n",
        "    mid = math.floor( count / 2 )\n",
        "    a = numbers[mid - 1]\n",
        "    b = numbers[mid]\n",
        "    # find the average of these two numbers\n",
        "    ans = (a + b) / 2\n",
        "  else:\n",
        "    ans = numbers[math.floor( count / 2 )]\n",
        " \n",
        "  return ans\n",
        "\n",
        "print('The median of the movie length is {} minutes'.format(median(length)))"
      ],
      "execution_count": null,
      "outputs": [
        {
          "output_type": "stream",
          "text": [
            "The median of the movie length is 114.0 minutes\n"
          ],
          "name": "stdout"
        }
      ]
    },
    {
      "cell_type": "markdown",
      "metadata": {
        "id": "LTgO18twjBvB"
      },
      "source": [
        "###Calculate the standard deviation of the movie lengths. Calculate this by defining a function."
      ]
    },
    {
      "cell_type": "code",
      "metadata": {
        "id": "VcgkatbTjibY",
        "colab": {
          "base_uri": "https://localhost:8080/",
          "height": 34
        },
        "outputId": "8b3e7d6e-80ab-40d3-beaa-cfb956f33557"
      },
      "source": [
        "def standard_deviation(numbers):\n",
        "  X_bar = mean(numbers)\n",
        "  N = len(numbers)\n",
        "  total_sum = 0\n",
        "  for X in numbers:\n",
        "    diff = X - X_bar\n",
        "    squared = math.pow(diff, 2)\n",
        "    total_sum += squared\n",
        "  sigma = math.sqrt(total_sum / (N - 1))  \n",
        "  return sigma\n",
        "\n",
        "print('The standard deviation of the movie length is {} minutes'.format(standard_deviation(length)))"
      ],
      "execution_count": null,
      "outputs": [
        {
          "output_type": "stream",
          "text": [
            "The standard deviation of the movie length is 40.42633181855988 minutes\n"
          ],
          "name": "stdout"
        }
      ]
    }
  ]
}